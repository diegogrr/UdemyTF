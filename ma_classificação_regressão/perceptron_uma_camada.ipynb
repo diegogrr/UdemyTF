{
  "nbformat": 4,
  "nbformat_minor": 0,
  "metadata": {
    "colab": {
      "name": "perceptron_uma_camada.ipynb",
      "provenance": [],
      "collapsed_sections": [],
      "authorship_tag": "ABX9TyMHBEiBQ7hnHSdvy72Z3cZV"
    },
    "kernelspec": {
      "name": "python3",
      "display_name": "Python 3"
    }
  },
  "cells": [
    {
      "cell_type": "markdown",
      "metadata": {
        "id": "xJ4uGjJcH947",
        "colab_type": "text"
      },
      "source": [
        "# Perceptron de Uma Camada"
      ]
    },
    {
      "cell_type": "code",
      "metadata": {
        "id": "i42xk6zEHun-",
        "colab_type": "code",
        "colab": {}
      },
      "source": [
        "import tensorflow as tf\n",
        "import numpy as np"
      ],
      "execution_count": 1,
      "outputs": []
    },
    {
      "cell_type": "markdown",
      "metadata": {
        "id": "u_LFQ9ZjIPq6",
        "colab_type": "text"
      },
      "source": [
        "Atributos previsores:"
      ]
    },
    {
      "cell_type": "code",
      "metadata": {
        "id": "KcLYMhjEIR5l",
        "colab_type": "code",
        "colab": {
          "base_uri": "https://localhost:8080/",
          "height": 90
        },
        "outputId": "5c141f8c-167a-4d7f-8b51-36baf33739e2"
      },
      "source": [
        "X = np.array([[0.0, 0.0],[0.0, 1.0],[1.0, 0.0],[1.0, 1.0]])\n",
        "print(X)"
      ],
      "execution_count": 3,
      "outputs": [
        {
          "output_type": "stream",
          "text": [
            "[[0. 0.]\n",
            " [0. 1.]\n",
            " [1. 0.]\n",
            " [1. 1.]]\n"
          ],
          "name": "stdout"
        }
      ]
    },
    {
      "cell_type": "markdown",
      "metadata": {
        "id": "I-4uukRIIolX",
        "colab_type": "text"
      },
      "source": [
        "Respostas/saídas:"
      ]
    },
    {
      "cell_type": "code",
      "metadata": {
        "id": "AVYeVyQUIrrX",
        "colab_type": "code",
        "colab": {
          "base_uri": "https://localhost:8080/",
          "height": 90
        },
        "outputId": "634ca953-b831-4817-9578-4938b401cd9c"
      },
      "source": [
        "y = np.array([[0.0],[0.0],[0.0],[1.0]])\n",
        "print(y)"
      ],
      "execution_count": 4,
      "outputs": [
        {
          "output_type": "stream",
          "text": [
            "[[0.]\n",
            " [0.]\n",
            " [0.]\n",
            " [1.]]\n"
          ],
          "name": "stdout"
        }
      ]
    },
    {
      "cell_type": "markdown",
      "metadata": {
        "id": "n6q-KIXfJgUQ",
        "colab_type": "text"
      },
      "source": [
        "Matriz com os pesos:"
      ]
    },
    {
      "cell_type": "code",
      "metadata": {
        "id": "S6hB020sJ3Qc",
        "colab_type": "code",
        "colab": {
          "base_uri": "https://localhost:8080/",
          "height": 72
        },
        "outputId": "520fbb61-04af-4cac-8c33-bc1777a423fd"
      },
      "source": [
        "W = tf.Variable(tf.zeros([2,1], dtype=tf.float64))\n",
        "type(W)\n",
        "print(W)"
      ],
      "execution_count": 7,
      "outputs": [
        {
          "output_type": "stream",
          "text": [
            "<tf.Variable 'Variable:0' shape=(2, 1) dtype=float64, numpy=\n",
            "array([[0.],\n",
            "       [0.]])>\n"
          ],
          "name": "stdout"
        }
      ]
    },
    {
      "cell_type": "markdown",
      "metadata": {
        "id": "1xZLuu59KZ9v",
        "colab_type": "text"
      },
      "source": [
        "## 1ª Parte: Multiplicação e soma das entradas pelos Pesos"
      ]
    },
    {
      "cell_type": "code",
      "metadata": {
        "id": "HFUvGX4iKiBq",
        "colab_type": "code",
        "colab": {
          "base_uri": "https://localhost:8080/",
          "height": 108
        },
        "outputId": "1551a13e-4751-434c-9846-7d3498a13cfb"
      },
      "source": [
        "camada_saida = tf.matmul(X, W)\n",
        "print(camada_saida)"
      ],
      "execution_count": 9,
      "outputs": [
        {
          "output_type": "stream",
          "text": [
            "tf.Tensor(\n",
            "[[0.]\n",
            " [0.]\n",
            " [0.]\n",
            " [0.]], shape=(4, 1), dtype=float64)\n"
          ],
          "name": "stdout"
        }
      ]
    }
  ]
}