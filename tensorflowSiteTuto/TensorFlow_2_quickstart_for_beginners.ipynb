{
  "nbformat": 4,
  "nbformat_minor": 0,
  "metadata": {
    "colab": {
      "name": "TensorFlow 2 quickstart for beginners.ipynb",
      "provenance": [],
      "authorship_tag": "ABX9TyNdFpJiKc6gqP1p/yQEP2V6",
      "include_colab_link": true
    },
    "kernelspec": {
      "name": "python3",
      "display_name": "Python 3"
    }
  },
  "cells": [
    {
      "cell_type": "markdown",
      "metadata": {
        "id": "view-in-github",
        "colab_type": "text"
      },
      "source": [
        "<a href=\"https://colab.research.google.com/github/diegogrr/UdemyTF/blob/master/tensorflowSiteTuto/TensorFlow_2_quickstart_for_beginners.ipynb\" target=\"_parent\"><img src=\"https://colab.research.google.com/assets/colab-badge.svg\" alt=\"Open In Colab\"/></a>"
      ]
    },
    {
      "cell_type": "markdown",
      "metadata": {
        "id": "VGcD_EcO9QC2",
        "colab_type": "text"
      },
      "source": [
        "# TensorFlow 2 quickstart for beginners"
      ]
    },
    {
      "cell_type": "markdown",
      "metadata": {
        "id": "cCIc8r8Z9UCQ",
        "colab_type": "text"
      },
      "source": [
        "Download and install TensorFlow 2. Import TensorFlow into your programa."
      ]
    },
    {
      "cell_type": "code",
      "metadata": {
        "id": "Cta0J2LR9KR5",
        "colab_type": "code",
        "colab": {}
      },
      "source": [
        "import tensorflow as tf"
      ],
      "execution_count": 0,
      "outputs": []
    },
    {
      "cell_type": "markdown",
      "metadata": {
        "id": "ZvLTgyIB9lb_",
        "colab_type": "text"
      },
      "source": [
        "Load and prepare the MNIST dataset. Convert the samples from integers to floating-point numbers:"
      ]
    },
    {
      "cell_type": "code",
      "metadata": {
        "id": "DC9FEziC9mzg",
        "colab_type": "code",
        "colab": {
          "base_uri": "https://localhost:8080/",
          "height": 53
        },
        "outputId": "2e7b785b-f2cd-4a4c-85eb-8071870b06e1"
      },
      "source": [
        "mnist = tf.keras.datasets.mnist\n",
        "\n",
        "(x_train, y_train), (x_test, y_test) = mnist.load_data()\n",
        "x_train, x_test = x_train / 255.0, x_test / 255.0"
      ],
      "execution_count": 2,
      "outputs": [
        {
          "output_type": "stream",
          "text": [
            "Downloading data from https://storage.googleapis.com/tensorflow/tf-keras-datasets/mnist.npz\n",
            "11493376/11490434 [==============================] - 0s 0us/step\n"
          ],
          "name": "stdout"
        }
      ]
    },
    {
      "cell_type": "markdown",
      "metadata": {
        "id": "hFVzWE-_-PX-",
        "colab_type": "text"
      },
      "source": [
        "Build the tf.keras.Sequential model by stacking layers. Choose an optimizer and loss function for training:"
      ]
    },
    {
      "cell_type": "code",
      "metadata": {
        "id": "JyZKg3gs-QiH",
        "colab_type": "code",
        "colab": {}
      },
      "source": [
        "model = tf.keras.models.Sequential([\n",
        "  tf.keras.layers.Flatten(input_shape=(28, 28)),\n",
        "  tf.keras.layers.Dense(128, activation='relu'),\n",
        "  tf.keras.layers.Dropout(0.2),\n",
        "  tf.keras.layers.Dense(10)\n",
        "])"
      ],
      "execution_count": 0,
      "outputs": []
    },
    {
      "cell_type": "markdown",
      "metadata": {
        "id": "ETfJgB5n_f87",
        "colab_type": "text"
      },
      "source": [
        "For each example the model returns a vector of \"logits\" or \"log-odds\" scores, one for each class."
      ]
    },
    {
      "cell_type": "code",
      "metadata": {
        "id": "hNRbJPBM_g5R",
        "colab_type": "code",
        "colab": {
          "base_uri": "https://localhost:8080/",
          "height": 72
        },
        "outputId": "8126e161-e66a-468e-d45a-f65ba0e52006"
      },
      "source": [
        "predictions = model(x_train[:1]).numpy()\n",
        "predictions"
      ],
      "execution_count": 4,
      "outputs": [
        {
          "output_type": "execute_result",
          "data": {
            "text/plain": [
              "array([[ 0.52974784,  0.43318248, -0.08779633, -0.32937235, -0.44906488,\n",
              "         0.05893646, -0.17824127,  0.7367997 ,  0.17765346, -0.643388  ]],\n",
              "      dtype=float32)"
            ]
          },
          "metadata": {
            "tags": []
          },
          "execution_count": 4
        }
      ]
    },
    {
      "cell_type": "markdown",
      "metadata": {
        "id": "th-WWe9ZAGqS",
        "colab_type": "text"
      },
      "source": [
        "WARNING:tensorflow:Layer flatten is casting an input tensor from dtype float64 to the layer's dtype of float32, which is new behavior in TensorFlow 2.  The layer has dtype float32 because it's dtype defaults to floatx.\n",
        "\n",
        "If you intended to run this layer in float32, you can safely ignore this warning. If in doubt, this warning is likely only an issue if you are porting a TensorFlow 1.X model to TensorFlow 2.\n",
        "\n",
        "To change all layers to have dtype float64 by default, call `tf.keras.backend.set_floatx('float64')`. To change just this layer, pass dtype='float64' to the layer constructor. If you are the author of this layer, you can disable autocasting by passing autocast=False to the base Layer constructor."
      ]
    },
    {
      "cell_type": "markdown",
      "metadata": {
        "id": "ImiA-xzGAep8",
        "colab_type": "text"
      },
      "source": [
        "The tf.nn.softmax function converts these logits to \"probabilities\" for each class: "
      ]
    },
    {
      "cell_type": "code",
      "metadata": {
        "id": "ExJwBPbk__1j",
        "colab_type": "code",
        "colab": {
          "base_uri": "https://localhost:8080/",
          "height": 72
        },
        "outputId": "d832d332-f15b-493e-e06f-fad4ca2fb33c"
      },
      "source": [
        "tf.nn.softmax(predictions).numpy()"
      ],
      "execution_count": 5,
      "outputs": [
        {
          "output_type": "execute_result",
          "data": {
            "text/plain": [
              "array([[0.15137081, 0.1374372 , 0.08162931, 0.06411076, 0.05687864,\n",
              "        0.09453037, 0.07457038, 0.18619311, 0.10644603, 0.0468334 ]],\n",
              "      dtype=float32)"
            ]
          },
          "metadata": {
            "tags": []
          },
          "execution_count": 5
        }
      ]
    },
    {
      "cell_type": "markdown",
      "metadata": {
        "id": "me8GZ-wRJjle",
        "colab_type": "text"
      },
      "source": [
        "The losses.SparseCategoricalCrossentropy loss takes a vector of logits and a True index and returns a scalar loss for each example."
      ]
    },
    {
      "cell_type": "code",
      "metadata": {
        "id": "p9wSrUeiJkkO",
        "colab_type": "code",
        "colab": {}
      },
      "source": [
        "loss_fn = tf.keras.losses.SparseCategoricalCrossentropy(from_logits=True)"
      ],
      "execution_count": 0,
      "outputs": []
    },
    {
      "cell_type": "markdown",
      "metadata": {
        "id": "LaShsj5rJ_j6",
        "colab_type": "text"
      },
      "source": [
        "This loss is equal to the negative log probability of the true class: It is zero if the model is sure of the correct class.\n",
        "\n",
        "This untrained model gives probabilities close to random (1/10 for each class), so the initial loss should be close to -tf.log(1/10) ~= 2.3."
      ]
    },
    {
      "cell_type": "code",
      "metadata": {
        "id": "bP_WLeY8KAkU",
        "colab_type": "code",
        "colab": {
          "base_uri": "https://localhost:8080/",
          "height": 35
        },
        "outputId": "07e5431d-edb0-4ee9-c20b-3347d60d19a3"
      },
      "source": [
        "loss_fn(y_train[:1], predictions).numpy()"
      ],
      "execution_count": 8,
      "outputs": [
        {
          "output_type": "execute_result",
          "data": {
            "text/plain": [
              "2.3588343"
            ]
          },
          "metadata": {
            "tags": []
          },
          "execution_count": 8
        }
      ]
    },
    {
      "cell_type": "code",
      "metadata": {
        "id": "tW6azJDJKQL-",
        "colab_type": "code",
        "colab": {}
      },
      "source": [
        "model.compile(optimizer='adam',\n",
        "              loss=loss_fn,\n",
        "              metrics=['accuracy'])"
      ],
      "execution_count": 0,
      "outputs": []
    },
    {
      "cell_type": "markdown",
      "metadata": {
        "id": "mzlBF8EEKkki",
        "colab_type": "text"
      },
      "source": [
        "The Model.fit method adjusts the model parameters to minimize the loss: "
      ]
    },
    {
      "cell_type": "code",
      "metadata": {
        "id": "oLmcaq70Kli-",
        "colab_type": "code",
        "colab": {
          "base_uri": "https://localhost:8080/",
          "height": 217
        },
        "outputId": "c8e37c30-fa5d-4c7e-acf2-3ea682dfe572"
      },
      "source": [
        "model.fit(x_train, y_train, epochs=5)"
      ],
      "execution_count": 10,
      "outputs": [
        {
          "output_type": "stream",
          "text": [
            "Epoch 1/5\n",
            "1875/1875 [==============================] - 3s 2ms/step - loss: 0.2997 - accuracy: 0.9119\n",
            "Epoch 2/5\n",
            "1875/1875 [==============================] - 3s 2ms/step - loss: 0.1462 - accuracy: 0.9568\n",
            "Epoch 3/5\n",
            "1875/1875 [==============================] - 3s 2ms/step - loss: 0.1096 - accuracy: 0.9670\n",
            "Epoch 4/5\n",
            "1875/1875 [==============================] - 3s 2ms/step - loss: 0.0875 - accuracy: 0.9727\n",
            "Epoch 5/5\n",
            "1875/1875 [==============================] - 3s 2ms/step - loss: 0.0745 - accuracy: 0.9767\n"
          ],
          "name": "stdout"
        },
        {
          "output_type": "execute_result",
          "data": {
            "text/plain": [
              "<tensorflow.python.keras.callbacks.History at 0x7fc559bf8da0>"
            ]
          },
          "metadata": {
            "tags": []
          },
          "execution_count": 10
        }
      ]
    },
    {
      "cell_type": "markdown",
      "metadata": {
        "id": "wssWkGJgK18B",
        "colab_type": "text"
      },
      "source": [
        "The Model.evaluate method checks the models performance, usually on a \"Validation-set\" or \"Test-set\"."
      ]
    },
    {
      "cell_type": "code",
      "metadata": {
        "id": "KbXzpD0YK3o4",
        "colab_type": "code",
        "colab": {
          "base_uri": "https://localhost:8080/",
          "height": 53
        },
        "outputId": "efdf0154-48f5-4683-f6be-6ab56201e9fd"
      },
      "source": [
        "model.evaluate(x_test, y_test, verbose=2)"
      ],
      "execution_count": 11,
      "outputs": [
        {
          "output_type": "stream",
          "text": [
            "313/313 - 0s - loss: 0.0843 - accuracy: 0.9734\n"
          ],
          "name": "stdout"
        },
        {
          "output_type": "execute_result",
          "data": {
            "text/plain": [
              "[0.08433713018894196, 0.9733999967575073]"
            ]
          },
          "metadata": {
            "tags": []
          },
          "execution_count": 11
        }
      ]
    },
    {
      "cell_type": "markdown",
      "metadata": {
        "id": "4jd8MRRhLN4g",
        "colab_type": "text"
      },
      "source": [
        "The image classifier is now trained to ~98% accuracy on this dataset. To learn more, read the TensorFlow tutorials.\n",
        "\n",
        "If you want your model to return a probability, you can wrap the trained model, and attach the softmax to it:"
      ]
    },
    {
      "cell_type": "code",
      "metadata": {
        "id": "HbFYNRiWLO6_",
        "colab_type": "code",
        "colab": {}
      },
      "source": [
        "probability_model = tf.keras.Sequential([\n",
        "                                         model,\n",
        "                                         tf.keras.layers.Softmax()\n",
        "])"
      ],
      "execution_count": 0,
      "outputs": []
    },
    {
      "cell_type": "code",
      "metadata": {
        "id": "MgkZpTr5Lj91",
        "colab_type": "code",
        "colab": {
          "base_uri": "https://localhost:8080/",
          "height": 308
        },
        "outputId": "363e6686-f2b3-47a6-b5dd-bcd2c648e17c"
      },
      "source": [
        "probability_model(x_test[:5])"
      ],
      "execution_count": 13,
      "outputs": [
        {
          "output_type": "execute_result",
          "data": {
            "text/plain": [
              "<tf.Tensor: shape=(5, 10), dtype=float32, numpy=\n",
              "array([[9.0911101e-09, 3.0621770e-09, 2.5931172e-07, 1.4409870e-04,\n",
              "        2.1352102e-12, 3.3452335e-07, 5.6444374e-15, 9.9985456e-01,\n",
              "        3.1309476e-08, 6.3291924e-07],\n",
              "       [3.5259481e-07, 2.7602327e-06, 9.9993336e-01, 5.4760585e-05,\n",
              "        7.0137356e-15, 3.7067550e-06, 2.4304763e-06, 2.9919448e-13,\n",
              "        2.6229989e-06, 5.2041813e-14],\n",
              "       [1.0230884e-07, 9.9930441e-01, 8.7272325e-05, 6.8596901e-06,\n",
              "        3.4057755e-06, 1.3926494e-05, 9.0867634e-06, 5.2816333e-04,\n",
              "        4.6728168e-05, 1.3828559e-07],\n",
              "       [9.9991751e-01, 2.7855498e-09, 1.4893377e-05, 5.2933649e-07,\n",
              "        6.3341048e-08, 8.6389809e-06, 5.3949730e-05, 2.3972500e-06,\n",
              "        1.0873260e-06, 8.1400930e-07],\n",
              "       [9.8349301e-06, 2.7670675e-08, 5.2338382e-06, 1.5344511e-07,\n",
              "        9.8944396e-01, 2.0396112e-06, 9.1078027e-06, 1.0111441e-03,\n",
              "        8.7005192e-06, 9.5097870e-03]], dtype=float32)>"
            ]
          },
          "metadata": {
            "tags": []
          },
          "execution_count": 13
        }
      ]
    }
  ]
}