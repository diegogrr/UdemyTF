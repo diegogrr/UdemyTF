{
  "nbformat": 4,
  "nbformat_minor": 0,
  "metadata": {
    "colab": {
      "name": "variaveis1.ipynb",
      "provenance": [],
      "collapsed_sections": [],
      "authorship_tag": "ABX9TyMIjSWqfYBiCEYJmWYgg9Bw"
    },
    "kernelspec": {
      "name": "python3",
      "display_name": "Python 3"
    }
  },
  "cells": [
    {
      "cell_type": "markdown",
      "metadata": {
        "id": "jlmplanPqVBZ",
        "colab_type": "text"
      },
      "source": [
        "# Variáveis"
      ]
    },
    {
      "cell_type": "markdown",
      "metadata": {
        "id": "6FzpiOG4qhOr",
        "colab_type": "text"
      },
      "source": [
        "Linguagem de programação tradicional."
      ]
    },
    {
      "cell_type": "code",
      "metadata": {
        "id": "yDmio7lYqC3H",
        "colab_type": "code",
        "colab": {
          "base_uri": "https://localhost:8080/",
          "height": 35
        },
        "outputId": "1b6fd2ac-daf4-46cf-b054-6801c000119b"
      },
      "source": [
        "x = 35\n",
        "y = x + 35\n",
        "y"
      ],
      "execution_count": 1,
      "outputs": [
        {
          "output_type": "execute_result",
          "data": {
            "text/plain": [
              "70"
            ]
          },
          "metadata": {
            "tags": []
          },
          "execution_count": 1
        }
      ]
    },
    {
      "cell_type": "markdown",
      "metadata": {
        "id": "dUaQsxFnq9Jm",
        "colab_type": "text"
      },
      "source": [
        "Agora no Tensorflow."
      ]
    },
    {
      "cell_type": "code",
      "metadata": {
        "id": "bLhmN-8LrCIG",
        "colab_type": "code",
        "colab": {}
      },
      "source": [
        "import tensorflow as tf"
      ],
      "execution_count": 0,
      "outputs": []
    },
    {
      "cell_type": "code",
      "metadata": {
        "id": "q9znyCjqrOWS",
        "colab_type": "code",
        "colab": {
          "base_uri": "https://localhost:8080/",
          "height": 35
        },
        "outputId": "6fd3e113-54d4-4076-bd75-25e56059416b"
      },
      "source": [
        "valor1 = tf.constant(15, name='valor1')\n",
        "valor1"
      ],
      "execution_count": 7,
      "outputs": [
        {
          "output_type": "execute_result",
          "data": {
            "text/plain": [
              "<tf.Tensor: shape=(), dtype=int32, numpy=15>"
            ]
          },
          "metadata": {
            "tags": []
          },
          "execution_count": 7
        }
      ]
    },
    {
      "cell_type": "markdown",
      "metadata": {
        "id": "zm1tuNIptqj9",
        "colab_type": "text"
      },
      "source": [
        "NO TF1, a linha baixo era apenas a criação do Grafo, mas no TF2 entendi que além de criar o grafo, ele também é executado."
      ]
    },
    {
      "cell_type": "code",
      "metadata": {
        "id": "Lo1U5kA0rmZ5",
        "colab_type": "code",
        "colab": {
          "base_uri": "https://localhost:8080/",
          "height": 53
        },
        "outputId": "3e1ab368-a92c-405d-a283-b90a91dae54b"
      },
      "source": [
        "soma = tf.Variable(valor1 + 5, name='soma')\n",
        "print(soma)\n",
        "type(soma)"
      ],
      "execution_count": 11,
      "outputs": [
        {
          "output_type": "stream",
          "text": [
            "<tf.Variable 'soma:0' shape=() dtype=int32, numpy=20>\n"
          ],
          "name": "stdout"
        },
        {
          "output_type": "execute_result",
          "data": {
            "text/plain": [
              "tensorflow.python.ops.resource_variable_ops.ResourceVariable"
            ]
          },
          "metadata": {
            "tags": []
          },
          "execution_count": 11
        }
      ]
    },
    {
      "cell_type": "markdown",
      "metadata": {
        "id": "ok_arNOItF6Q",
        "colab_type": "text"
      },
      "source": [
        "TF2 não precisa de init (tf.global_variables_initializer()) nem da criação de uma session para ter acesso ao valor escalar, basta usar o método \"numpy()\"."
      ]
    },
    {
      "cell_type": "code",
      "metadata": {
        "id": "_kl7l_4rsuxS",
        "colab_type": "code",
        "colab": {
          "base_uri": "https://localhost:8080/",
          "height": 35
        },
        "outputId": "faed0fd2-2576-4754-9635-a03d12cf3f68"
      },
      "source": [
        "s = soma\n",
        "s"
      ],
      "execution_count": 12,
      "outputs": [
        {
          "output_type": "execute_result",
          "data": {
            "text/plain": [
              "<tf.Variable 'soma:0' shape=() dtype=int32, numpy=20>"
            ]
          },
          "metadata": {
            "tags": []
          },
          "execution_count": 12
        }
      ]
    }
  ]
}