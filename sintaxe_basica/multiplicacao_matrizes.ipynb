{
  "nbformat": 4,
  "nbformat_minor": 0,
  "metadata": {
    "colab": {
      "name": "multiplicacao_matrizes.ipynb",
      "provenance": [],
      "collapsed_sections": [],
      "authorship_tag": "ABX9TyPopCBNOM6NN9PiuizlfIyj"
    },
    "kernelspec": {
      "name": "python3",
      "display_name": "Python 3"
    }
  },
  "cells": [
    {
      "cell_type": "markdown",
      "metadata": {
        "id": "ekQmPpJNNMYl",
        "colab_type": "text"
      },
      "source": [
        "# Multiplicação de Matrizes\n",
        "\n",
        "O produto de uma matriz por outra não é determinado por meio do produto dos seus respectivos elementos.\n",
        "\n",
        "Assim, o produto das matrizes A = $(a_{ij})_{m x p}$  e B = $(b_{ij})_{p x n}$ é a matriz C = $(c_{ij})_{m x n}$, em que cada elemento **$c_{ij}$** é obtido por meio da soma dos produtos dos elementos correspondentes da i-ésima linha de A pelos elementos da j-ésima coluna B."
      ]
    },
    {
      "cell_type": "markdown",
      "metadata": {
        "id": "Rcs0JTxCVujX",
        "colab_type": "text"
      },
      "source": [
        "Vamos multiplicar as matrizes ![alt text](https://www.somatematica.com.br/emedio/matrizes/Image32.gif) para entender como se obtém cada elemento $c_{ij}$.\n",
        "\n",
        "\n",
        "\n",
        "*   1ª linha e 1ª coluna \n",
        "\n",
        "![alt text](https://www.somatematica.com.br/emedio/matrizes/Image31.gif)\n",
        "*   1ª linha e 2ª coluna\n",
        "\n",
        "![alt text](https://www.somatematica.com.br/emedio/matrizes/Image33.gif)\n",
        "*   2ª linha e 1ª coluna\n",
        "\n",
        "![alt text](https://www.somatematica.com.br/emedio/matrizes/Image34.gif)\n",
        "*   2ª linha e 2ª coluna\n",
        "\n",
        "![alt text](https://www.somatematica.com.br/emedio/matrizes/Image35.gif)\n",
        "\n",
        "Assim, \n",
        "\n",
        "![alt text](https://www.somatematica.com.br/emedio/matrizes/Image36.gif)\n",
        "\n",
        "Fonte: https://www.somatematica.com.br/emedio/matrizes/matrizes4.php\n"
      ]
    },
    {
      "cell_type": "code",
      "metadata": {
        "id": "rPlWWlnPNFTI",
        "colab_type": "code",
        "colab": {}
      },
      "source": [
        "#importação do Tensorflow\n",
        "import tensorflow as tf"
      ],
      "execution_count": 0,
      "outputs": []
    },
    {
      "cell_type": "markdown",
      "metadata": {
        "id": "jGOY1JliOD54",
        "colab_type": "text"
      },
      "source": [
        "Criação das matrizes. Vamos utilizar os mesmo valores do exemplo acima."
      ]
    },
    {
      "cell_type": "code",
      "metadata": {
        "id": "0pkQoG28Nb_G",
        "colab_type": "code",
        "colab": {
          "base_uri": "https://localhost:8080/",
          "height": 90
        },
        "outputId": "fb36a5ed-c896-4240-9af1-51ffda2dea02"
      },
      "source": [
        "a = tf.constant([[ 1, 2], [3, 4]])\n",
        "b = tf.constant([[-1, 3], [4, 2]])\n",
        "print(a.numpy())\n",
        "print(b.numpy())"
      ],
      "execution_count": 6,
      "outputs": [
        {
          "output_type": "stream",
          "text": [
            "[[1 2]\n",
            " [3 4]]\n",
            "[[-1  3]\n",
            " [ 4  2]]\n"
          ],
          "name": "stdout"
        }
      ]
    },
    {
      "cell_type": "markdown",
      "metadata": {
        "id": "hfxTSO6VN5gh",
        "colab_type": "text"
      },
      "source": [
        "## tf.matmul()\n",
        "matrix multiplication\n",
        "\n",
        "Método utilizado para realizar a **multiplicação** de matrizes."
      ]
    },
    {
      "cell_type": "code",
      "metadata": {
        "id": "Drx4SHGjNz3g",
        "colab_type": "code",
        "colab": {
          "base_uri": "https://localhost:8080/",
          "height": 53
        },
        "outputId": "569a44d9-c97b-4668-dd92-aba6803cf7de"
      },
      "source": [
        "multiplicacao = tf.matmul(a, b)\n",
        "print(multiplicacao.numpy())"
      ],
      "execution_count": 4,
      "outputs": [
        {
          "output_type": "stream",
          "text": [
            "[[ 7  7]\n",
            " [13 17]]\n"
          ],
          "name": "stdout"
        }
      ]
    },
    {
      "cell_type": "markdown",
      "metadata": {
        "id": "LWKhRtW5OeOJ",
        "colab_type": "text"
      },
      "source": [
        "Se para a multiplicação de matrizes for utilizado o operador '*', o resultado será diferente a do obtido pelo método matmul(), pois a multiplicação ocorrerá entre os elementos de mesma posição na matriz. Esse resultado também está incorreta algebricamente."
      ]
    },
    {
      "cell_type": "code",
      "metadata": {
        "id": "Yw6PImfXOSpL",
        "colab_type": "code",
        "colab": {
          "base_uri": "https://localhost:8080/",
          "height": 72
        },
        "outputId": "6bacc4fb-28c0-4ccf-c7ca-e20b32e94980"
      },
      "source": [
        "print(a * b)"
      ],
      "execution_count": 5,
      "outputs": [
        {
          "output_type": "stream",
          "text": [
            "tf.Tensor(\n",
            "[[-1  6]\n",
            " [12  8]], shape=(2, 2), dtype=int32)\n"
          ],
          "name": "stdout"
        }
      ]
    },
    {
      "cell_type": "markdown",
      "metadata": {
        "id": "j6nZ-SzmX0Sp",
        "colab_type": "text"
      },
      "source": [
        "O que ocorre se for invertida a ordem da multiplicação das matrizes?\n",
        "\n",
        "O resultado é diferente, pois A.B é diferente de B.A:\n"
      ]
    },
    {
      "cell_type": "code",
      "metadata": {
        "id": "0-tRosTbX8Mi",
        "colab_type": "code",
        "colab": {
          "base_uri": "https://localhost:8080/",
          "height": 53
        },
        "outputId": "bc4dac1e-d7c9-400a-d649-2e958670a4a0"
      },
      "source": [
        "multiplicacao2 = tf.matmul(b, a)\n",
        "print(multiplicacao2.numpy())"
      ],
      "execution_count": 7,
      "outputs": [
        {
          "output_type": "stream",
          "text": [
            "[[ 8 10]\n",
            " [10 16]]\n"
          ],
          "name": "stdout"
        }
      ]
    },
    {
      "cell_type": "markdown",
      "metadata": {
        "id": "DhKQnJHhYtu2",
        "colab_type": "text"
      },
      "source": [
        "## Matrizes de ordem diferentes\n",
        "\n",
        "![alt text](https://www.somatematica.com.br/emedio/matrizes/Image40.gif)"
      ]
    },
    {
      "cell_type": "code",
      "metadata": {
        "id": "104ZnzVEYz7-",
        "colab_type": "code",
        "colab": {}
      },
      "source": [
        "a1 = tf.constant([[2, 3], [0, 1], [-1, 4]])\n",
        "b1 = tf.constant([[1, 2, 3], [-2, 0, 4]])"
      ],
      "execution_count": 0,
      "outputs": []
    },
    {
      "cell_type": "code",
      "metadata": {
        "id": "8JFQuRdObC4z",
        "colab_type": "code",
        "colab": {
          "base_uri": "https://localhost:8080/",
          "height": 199
        },
        "outputId": "ef0fc084-5904-4abd-e2f6-d6b68db63abf"
      },
      "source": [
        "multiplicacao3 = tf.matmul(a1, b1)\n",
        "print(a1.numpy(), '\\n')\n",
        "print(b1.numpy(), '\\n')\n",
        "print(multiplicacao3.numpy())"
      ],
      "execution_count": 15,
      "outputs": [
        {
          "output_type": "stream",
          "text": [
            "[[ 2  3]\n",
            " [ 0  1]\n",
            " [-1  4]] \n",
            "\n",
            "[[ 1  2  3]\n",
            " [-2  0  4]] \n",
            "\n",
            "[[-4  4 18]\n",
            " [-2  0  4]\n",
            " [-9 -2 13]]\n"
          ],
          "name": "stdout"
        }
      ]
    },
    {
      "cell_type": "markdown",
      "metadata": {
        "id": "VKzzY3iUbHGA",
        "colab_type": "text"
      },
      "source": [
        "Invertendo a ordem da multiplicação:\n",
        "\n",
        "![alt text](https://www.somatematica.com.br/emedio/matrizes/Image44.gif)"
      ]
    },
    {
      "cell_type": "code",
      "metadata": {
        "id": "CpMKRIe5bOfj",
        "colab_type": "code",
        "colab": {
          "base_uri": "https://localhost:8080/",
          "height": 181
        },
        "outputId": "ceaa24fd-bd71-4e53-c0cd-bae9c2cb4de4"
      },
      "source": [
        "multiplicacao3 = tf.matmul(b1, a1)\n",
        "print(a1.numpy(), '\\n')\n",
        "print(b1.numpy(), '\\n')\n",
        "print(multiplicacao3.numpy())"
      ],
      "execution_count": 16,
      "outputs": [
        {
          "output_type": "stream",
          "text": [
            "[[ 2  3]\n",
            " [ 0  1]\n",
            " [-1  4]] \n",
            "\n",
            "[[ 1  2  3]\n",
            " [-2  0  4]] \n",
            "\n",
            "[[-1 17]\n",
            " [-8 10]]\n"
          ],
          "name": "stdout"
        }
      ]
    }
  ]
}