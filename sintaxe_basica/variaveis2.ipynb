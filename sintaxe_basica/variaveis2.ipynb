{
  "nbformat": 4,
  "nbformat_minor": 0,
  "metadata": {
    "colab": {
      "name": "variaveis2.ipynb",
      "provenance": [],
      "collapsed_sections": [],
      "authorship_tag": "ABX9TyOR1w7gc8koAcqhnbZ2l/0R"
    },
    "kernelspec": {
      "name": "python3",
      "display_name": "Python 3"
    }
  },
  "cells": [
    {
      "cell_type": "markdown",
      "metadata": {
        "id": "Id9w4qpXuarg",
        "colab_type": "text"
      },
      "source": [
        "# Variáveis 2"
      ]
    },
    {
      "cell_type": "code",
      "metadata": {
        "id": "1SQckpKFuXiU",
        "colab_type": "code",
        "colab": {}
      },
      "source": [
        "import tensorflow as tf"
      ],
      "execution_count": 0,
      "outputs": []
    },
    {
      "cell_type": "code",
      "metadata": {
        "id": "4mBSGrbJujqO",
        "colab_type": "code",
        "colab": {
          "base_uri": "https://localhost:8080/",
          "height": 35
        },
        "outputId": "cedbf3fa-9f8a-45d7-9ed5-fe013da25be9"
      },
      "source": [
        "vetor = tf.constant([5, 10, 15], name='vetor1')\n",
        "type(vetor)"
      ],
      "execution_count": 18,
      "outputs": [
        {
          "output_type": "execute_result",
          "data": {
            "text/plain": [
              "tensorflow.python.framework.ops.EagerTensor"
            ]
          },
          "metadata": {
            "tags": []
          },
          "execution_count": 18
        }
      ]
    },
    {
      "cell_type": "code",
      "metadata": {
        "id": "EAeI633JuyFL",
        "colab_type": "code",
        "colab": {
          "base_uri": "https://localhost:8080/",
          "height": 35
        },
        "outputId": "e2c243a6-e5cd-4111-9543-89e178d08032"
      },
      "source": [
        "print(vetor)"
      ],
      "execution_count": 19,
      "outputs": [
        {
          "output_type": "stream",
          "text": [
            "tf.Tensor([ 5 10 15], shape=(3,), dtype=int32)\n"
          ],
          "name": "stdout"
        }
      ]
    },
    {
      "cell_type": "code",
      "metadata": {
        "id": "xPua9K1awEwW",
        "colab_type": "code",
        "colab": {
          "base_uri": "https://localhost:8080/",
          "height": 35
        },
        "outputId": "c6330b87-8de9-4026-f906-dfd8db0e8599"
      },
      "source": [
        "vetor"
      ],
      "execution_count": 20,
      "outputs": [
        {
          "output_type": "execute_result",
          "data": {
            "text/plain": [
              "<tf.Tensor: shape=(3,), dtype=int32, numpy=array([ 5, 10, 15], dtype=int32)>"
            ]
          },
          "metadata": {
            "tags": []
          },
          "execution_count": 20
        }
      ]
    },
    {
      "cell_type": "code",
      "metadata": {
        "id": "xv_JlVMnvDA5",
        "colab_type": "code",
        "colab": {}
      },
      "source": [
        "soma = tf.Variable(vetor + 5, name='soma')"
      ],
      "execution_count": 0,
      "outputs": []
    },
    {
      "cell_type": "code",
      "metadata": {
        "id": "zBj_T6fVvOBE",
        "colab_type": "code",
        "colab": {
          "base_uri": "https://localhost:8080/",
          "height": 53
        },
        "outputId": "4d1ab6fc-ba43-476d-c618-0eed9e8dd7ec"
      },
      "source": [
        "print(soma)\n",
        "soma.numpy()[1]"
      ],
      "execution_count": 22,
      "outputs": [
        {
          "output_type": "stream",
          "text": [
            "<tf.Variable 'soma:0' shape=(3,) dtype=int32, numpy=array([10, 15, 20], dtype=int32)>\n"
          ],
          "name": "stdout"
        },
        {
          "output_type": "execute_result",
          "data": {
            "text/plain": [
              "15"
            ]
          },
          "metadata": {
            "tags": []
          },
          "execution_count": 22
        }
      ]
    },
    {
      "cell_type": "code",
      "metadata": {
        "id": "haoTv0evvgm7",
        "colab_type": "code",
        "colab": {}
      },
      "source": [
        "valor = tf.Variable(10, name='valor')"
      ],
      "execution_count": 0,
      "outputs": []
    },
    {
      "cell_type": "code",
      "metadata": {
        "id": "HRLFnsguvl8e",
        "colab_type": "code",
        "colab": {
          "base_uri": "https://localhost:8080/",
          "height": 35
        },
        "outputId": "45b7d652-184b-4139-d142-e339e3ee12fd"
      },
      "source": [
        "valor.numpy()"
      ],
      "execution_count": 27,
      "outputs": [
        {
          "output_type": "execute_result",
          "data": {
            "text/plain": [
              "10"
            ]
          },
          "metadata": {
            "tags": []
          },
          "execution_count": 27
        }
      ]
    },
    {
      "cell_type": "code",
      "metadata": {
        "id": "41FGCHdSwTUk",
        "colab_type": "code",
        "colab": {
          "base_uri": "https://localhost:8080/",
          "height": 108
        },
        "outputId": "e57a4d1f-bd0b-47d2-ce08-4723ad47fca1"
      },
      "source": [
        "for i in range(5):\n",
        "  valor = valor + 1\n",
        "  print(valor.numpy())"
      ],
      "execution_count": 30,
      "outputs": [
        {
          "output_type": "stream",
          "text": [
            "21\n",
            "22\n",
            "23\n",
            "24\n",
            "25\n"
          ],
          "name": "stdout"
        }
      ]
    }
  ]
}