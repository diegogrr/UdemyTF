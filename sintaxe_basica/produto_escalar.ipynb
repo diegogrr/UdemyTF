{
  "nbformat": 4,
  "nbformat_minor": 0,
  "metadata": {
    "colab": {
      "name": "produto_escalar.ipynb",
      "provenance": [],
      "collapsed_sections": [],
      "authorship_tag": "ABX9TyPn34iS+UIHvJs3CF36Iv/x"
    },
    "kernelspec": {
      "name": "python3",
      "display_name": "Python 3"
    }
  },
  "cells": [
    {
      "cell_type": "markdown",
      "metadata": {
        "id": "9dpZsVHBmHtd",
        "colab_type": "text"
      },
      "source": [
        "# Produto Escalar"
      ]
    },
    {
      "cell_type": "markdown",
      "metadata": {
        "id": "9_E5in5emKjA",
        "colab_type": "text"
      },
      "source": [
        "Veremos como realizar a multiplicação e a soma utilizadas em um neurônio artificial. Mais especificamente, este representado pela imagem abaixo.\n",
        "\n",
        "![alt text](https://dgbits.com.br/public/2020-05-14_11h30_47.png)"
      ]
    },
    {
      "cell_type": "markdown",
      "metadata": {
        "id": "rhGCNhdZ0Zgd",
        "colab_type": "text"
      },
      "source": [
        "Importando o TensorFlow 2:"
      ]
    },
    {
      "cell_type": "code",
      "metadata": {
        "id": "7uRp1JPAl3vb",
        "colab_type": "code",
        "colab": {
          "base_uri": "https://localhost:8080/",
          "height": 35
        },
        "outputId": "0d059929-148e-4db1-cbc2-ed48b556e69e"
      },
      "source": [
        "import tensorflow as tf\n",
        "tf.__version__"
      ],
      "execution_count": 24,
      "outputs": [
        {
          "output_type": "execute_result",
          "data": {
            "text/plain": [
              "'2.2.0'"
            ]
          },
          "metadata": {
            "tags": []
          },
          "execution_count": 24
        }
      ]
    },
    {
      "cell_type": "markdown",
      "metadata": {
        "id": "PJsp2-Xpmk8w",
        "colab_type": "text"
      },
      "source": [
        "Criação do vetor de entrada:"
      ]
    },
    {
      "cell_type": "code",
      "metadata": {
        "id": "xTf1wf7MmiJe",
        "colab_type": "code",
        "colab": {}
      },
      "source": [
        "a = tf.constant([[-1.0, 7.0, 5.0]], name='entrada')"
      ],
      "execution_count": 0,
      "outputs": []
    },
    {
      "cell_type": "markdown",
      "metadata": {
        "id": "GHen9EuXm4Dw",
        "colab_type": "text"
      },
      "source": [
        "Representação dos pesos:"
      ]
    },
    {
      "cell_type": "code",
      "metadata": {
        "id": "0RE1bh_Im6zk",
        "colab_type": "code",
        "colab": {}
      },
      "source": [
        "b = tf.constant([[0.8, 0.1, 0.0]], name='pesos')"
      ],
      "execution_count": 0,
      "outputs": []
    },
    {
      "cell_type": "markdown",
      "metadata": {
        "id": "O9VQ3fNynHIq",
        "colab_type": "text"
      },
      "source": [
        "Visualização dos valores:"
      ]
    },
    {
      "cell_type": "code",
      "metadata": {
        "id": "AW1gDHtBnJda",
        "colab_type": "code",
        "colab": {
          "base_uri": "https://localhost:8080/",
          "height": 72
        },
        "outputId": "b2e23ee8-2feb-4b35-cf17-48f4dc1858cf"
      },
      "source": [
        "print(a.numpy())\n",
        "print()\n",
        "print(b.numpy())"
      ],
      "execution_count": 27,
      "outputs": [
        {
          "output_type": "stream",
          "text": [
            "[[-1.  7.  5.]]\n",
            "\n",
            "[[0.8 0.1 0. ]]\n"
          ],
          "name": "stdout"
        }
      ]
    },
    {
      "cell_type": "markdown",
      "metadata": {
        "id": "gkkEWg_XnkwD",
        "colab_type": "text"
      },
      "source": [
        "## Multiplicação\n",
        "\n",
        "`.matmul()`: retornará um erro, pois as matrizes em questão não atendem as regras da álgebra linear para essa operação. Veja que o número de colunas de 'a' é diferente do número de linhas de 'b'.\n",
        "\n",
        "Neste caso, então, teremos que usar um outro método que multiplica os elementos considerando apenas a sua posição na matriz/vetor.\n",
        "\n",
        "`.multiply()`"
      ]
    },
    {
      "cell_type": "code",
      "metadata": {
        "id": "PmYnJQXOnm59",
        "colab_type": "code",
        "colab": {
          "base_uri": "https://localhost:8080/",
          "height": 35
        },
        "outputId": "8bb1eb28-a9b1-455a-8c28-c6a1f472d5fc"
      },
      "source": [
        "multiplicacao = tf.multiply(a, b)\n",
        "print(multiplicacao.numpy())"
      ],
      "execution_count": 28,
      "outputs": [
        {
          "output_type": "stream",
          "text": [
            "[[-0.8  0.7  0. ]]\n"
          ],
          "name": "stdout"
        }
      ]
    },
    {
      "cell_type": "markdown",
      "metadata": {
        "id": "7Hmx6RPppgQi",
        "colab_type": "text"
      },
      "source": [
        "## Somatório\n",
        "\n",
        "Somatório da multiplicação.\n",
        "\n",
        "`.reduce_sum()`: método para somar os elementos de uma matriz/vetor."
      ]
    },
    {
      "cell_type": "code",
      "metadata": {
        "id": "178zwB9SpnhQ",
        "colab_type": "code",
        "colab": {
          "base_uri": "https://localhost:8080/",
          "height": 35
        },
        "outputId": "4ec3576b-2d45-45b8-9084-a49d7e7d58e8"
      },
      "source": [
        "soma = tf.reduce_sum(multiplicacao)\n",
        "print(soma.numpy())"
      ],
      "execution_count": 29,
      "outputs": [
        {
          "output_type": "stream",
          "text": [
            "-0.100000024\n"
          ],
          "name": "stdout"
        }
      ]
    },
    {
      "cell_type": "markdown",
      "metadata": {
        "id": "d5i9FcqUqQc4",
        "colab_type": "text"
      },
      "source": [
        "## Teste Adicional"
      ]
    },
    {
      "cell_type": "markdown",
      "metadata": {
        "id": "qg-mdDzEryFN",
        "colab_type": "text"
      },
      "source": [
        "Como os métodos `.multiply()` e `.reduce_sum()` se comportam em uma matriz com mais de uma linha?\n",
        "\n",
        "Da mesma forma, pois consideram a posição que os elementos se encontram na matiz. Exemplo da multiplicação: $a_{11}$ x $b_{11}$; $a_{12}$ x $b_{12}$;...; $a_{21}$ x $b_{21}$..."
      ]
    },
    {
      "cell_type": "code",
      "metadata": {
        "id": "Ru1YDYwLqT6l",
        "colab_type": "code",
        "colab": {
          "base_uri": "https://localhost:8080/",
          "height": 199
        },
        "outputId": "a10f37ff-2a09-47b0-e73f-38544ebfa80a"
      },
      "source": [
        "c = tf.constant([[-1.0, 7.0, 5.0],[-1.0, 7.0, 5.0]])\n",
        "d = tf.constant([[0.8, 0.1, 0.0],[0.8, 0.1, 0.0]])\n",
        "print(c.numpy())\n",
        "print()\n",
        "print(d.numpy())\n",
        "print()\n",
        "multp = tf.multiply(c, d)\n",
        "print(multp.numpy())\n",
        "print()\n",
        "soma2 = tf.reduce_sum(multp)\n",
        "print(soma2.numpy())"
      ],
      "execution_count": 30,
      "outputs": [
        {
          "output_type": "stream",
          "text": [
            "[[-1.  7.  5.]\n",
            " [-1.  7.  5.]]\n",
            "\n",
            "[[0.8 0.1 0. ]\n",
            " [0.8 0.1 0. ]]\n",
            "\n",
            "[[-0.8  0.7  0. ]\n",
            " [-0.8  0.7  0. ]]\n",
            "\n",
            "-0.20000005\n"
          ],
          "name": "stdout"
        }
      ]
    }
  ]
}