{
  "nbformat": 4,
  "nbformat_minor": 0,
  "metadata": {
    "colab": {
      "name": "constantes.ipynb",
      "provenance": [],
      "collapsed_sections": [],
      "authorship_tag": "ABX9TyMDCEUgCTyM2q7tYEfy67rs"
    },
    "kernelspec": {
      "name": "python3",
      "display_name": "Python 3"
    }
  },
  "cells": [
    {
      "cell_type": "markdown",
      "metadata": {
        "id": "tGS425EtrnXW",
        "colab_type": "text"
      },
      "source": [
        "# Constantes com TF"
      ]
    },
    {
      "cell_type": "code",
      "metadata": {
        "id": "KANyqTiMk0Aj",
        "colab_type": "code",
        "colab": {}
      },
      "source": [
        "import tensorflow as tf"
      ],
      "execution_count": 0,
      "outputs": []
    },
    {
      "cell_type": "code",
      "metadata": {
        "id": "OvCL8M37ruUS",
        "colab_type": "code",
        "colab": {}
      },
      "source": [
        "valor1 = tf.constant(2)\n",
        "valor2 = tf.constant(3)"
      ],
      "execution_count": 0,
      "outputs": []
    },
    {
      "cell_type": "code",
      "metadata": {
        "id": "LfsJ1Rw-r4A2",
        "colab_type": "code",
        "colab": {
          "base_uri": "https://localhost:8080/",
          "height": 35
        },
        "outputId": "c380ef9c-5b3c-42a1-ff6e-e71027032d1c"
      },
      "source": [
        "# visualizar o tipo \n",
        "type(valor1)"
      ],
      "execution_count": 4,
      "outputs": [
        {
          "output_type": "execute_result",
          "data": {
            "text/plain": [
              "tensorflow.python.framework.ops.EagerTensor"
            ]
          },
          "metadata": {
            "tags": []
          },
          "execution_count": 4
        }
      ]
    },
    {
      "cell_type": "markdown",
      "metadata": {
        "id": "3KZS-vnVsepw",
        "colab_type": "text"
      },
      "source": [
        "**Tensor:** que é a classe;\n",
        "\n",
        "**2 e 3:** valor da constante;\n",
        "\n",
        "**shape():** que é o tamanho dele, o formato. Está vazio porque é um escalar;\n",
        "\n",
        "**dtype=int32:** tipo dele;\n"
      ]
    },
    {
      "cell_type": "code",
      "metadata": {
        "id": "P_x1RvSAsHo_",
        "colab_type": "code",
        "colab": {
          "base_uri": "https://localhost:8080/",
          "height": 53
        },
        "outputId": "16df7b61-e980-45d1-c971-09e25af10df6"
      },
      "source": [
        "print(valor1)\n",
        "print(valor2)"
      ],
      "execution_count": 8,
      "outputs": [
        {
          "output_type": "stream",
          "text": [
            "tf.Tensor(2, shape=(), dtype=int32)\n",
            "tf.Tensor(3, shape=(), dtype=int32)\n"
          ],
          "name": "stdout"
        }
      ]
    },
    {
      "cell_type": "code",
      "metadata": {
        "id": "0lsf8ul1tgUq",
        "colab_type": "code",
        "colab": {
          "base_uri": "https://localhost:8080/",
          "height": 35
        },
        "outputId": "ef4bab84-7290-4e43-bef6-9bdc9079107d"
      },
      "source": [
        "soma = valor1 + valor2\n",
        "type(soma)"
      ],
      "execution_count": 6,
      "outputs": [
        {
          "output_type": "execute_result",
          "data": {
            "text/plain": [
              "tensorflow.python.framework.ops.EagerTensor"
            ]
          },
          "metadata": {
            "tags": []
          },
          "execution_count": 6
        }
      ]
    },
    {
      "cell_type": "code",
      "metadata": {
        "id": "A1KwdGwWtnkN",
        "colab_type": "code",
        "colab": {
          "base_uri": "https://localhost:8080/",
          "height": 35
        },
        "outputId": "31c6a771-1341-4a50-ac9d-6d6163b89471"
      },
      "source": [
        "# vamos tentar visualizar o valor da soma\n",
        "print(soma)"
      ],
      "execution_count": 7,
      "outputs": [
        {
          "output_type": "stream",
          "text": [
            "tf.Tensor(5, shape=(), dtype=int32)\n"
          ],
          "name": "stdout"
        }
      ]
    },
    {
      "cell_type": "code",
      "metadata": {
        "id": "5SPAYar4ueku",
        "colab_type": "code",
        "colab": {
          "base_uri": "https://localhost:8080/",
          "height": 35
        },
        "outputId": "4ed3f296-b5cf-4bf7-92f1-b475b0fa09ed"
      },
      "source": [
        "soma"
      ],
      "execution_count": 13,
      "outputs": [
        {
          "output_type": "execute_result",
          "data": {
            "text/plain": [
              "<tf.Tensor: shape=(), dtype=int32, numpy=5>"
            ]
          },
          "metadata": {
            "tags": []
          },
          "execution_count": 13
        }
      ]
    },
    {
      "cell_type": "markdown",
      "metadata": {
        "id": "-hdPw3EPxAyj",
        "colab_type": "text"
      },
      "source": [
        "Outro exemplo."
      ]
    },
    {
      "cell_type": "code",
      "metadata": {
        "id": "9e9TsHAcxCwx",
        "colab_type": "code",
        "colab": {}
      },
      "source": [
        "texto1 = tf.constant('Texto 1')\n",
        "texto2 = tf.constant('Texto 2')"
      ],
      "execution_count": 0,
      "outputs": []
    },
    {
      "cell_type": "code",
      "metadata": {
        "id": "neookMh2xOLS",
        "colab_type": "code",
        "colab": {
          "base_uri": "https://localhost:8080/",
          "height": 35
        },
        "outputId": "97092834-ec22-4831-b3c9-3d2e2f353bc7"
      },
      "source": [
        "type(texto1)"
      ],
      "execution_count": 15,
      "outputs": [
        {
          "output_type": "execute_result",
          "data": {
            "text/plain": [
              "tensorflow.python.framework.ops.EagerTensor"
            ]
          },
          "metadata": {
            "tags": []
          },
          "execution_count": 15
        }
      ]
    },
    {
      "cell_type": "code",
      "metadata": {
        "id": "1YhnesolxTtW",
        "colab_type": "code",
        "colab": {
          "base_uri": "https://localhost:8080/",
          "height": 35
        },
        "outputId": "d401e368-5d01-41f2-9a5e-96acde7c5073"
      },
      "source": [
        "print(texto1)"
      ],
      "execution_count": 16,
      "outputs": [
        {
          "output_type": "stream",
          "text": [
            "tf.Tensor(b'Texto 1', shape=(), dtype=string)\n"
          ],
          "name": "stdout"
        }
      ]
    },
    {
      "cell_type": "code",
      "metadata": {
        "id": "60qMXR_WxeI-",
        "colab_type": "code",
        "colab": {
          "base_uri": "https://localhost:8080/",
          "height": 35
        },
        "outputId": "88a628cb-e772-4ac6-bc51-0b6e666308ed"
      },
      "source": [
        "texto3 = texto1 + texto2\n",
        "print(texto3)"
      ],
      "execution_count": 18,
      "outputs": [
        {
          "output_type": "stream",
          "text": [
            "tf.Tensor(b'Texto 1Texto 2', shape=(), dtype=string)\n"
          ],
          "name": "stdout"
        }
      ]
    }
  ]
}