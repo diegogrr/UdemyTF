{
  "nbformat": 4,
  "nbformat_minor": 0,
  "metadata": {
    "colab": {
      "name": "placeholders.ipynb",
      "provenance": [],
      "collapsed_sections": [],
      "authorship_tag": "ABX9TyORaBCciq3nBhrcac1sZtde"
    },
    "kernelspec": {
      "name": "python3",
      "display_name": "Python 3"
    }
  },
  "cells": [
    {
      "cell_type": "markdown",
      "metadata": {
        "id": "NFxcZ39n3fkC",
        "colab_type": "text"
      },
      "source": [
        "# Placeholders\n",
        "\n",
        "Uma outra estrutura do TensorFlow, os placeholders, que faz parte da LowLevel API. De certa forma, é um tipo de variável na qual nós podemos atribuir dados. Ele não é inicializado e ele não contém os dados. Você defini qual o tipo de dados que ele recebe, e nós vamos deixar para passar esses dados mais tarde.\n",
        "\n",
        "placeholder = espaço reservado"
      ]
    },
    {
      "cell_type": "code",
      "metadata": {
        "id": "CPBbu1Rb3dbe",
        "colab_type": "code",
        "colab": {
          "base_uri": "https://localhost:8080/",
          "height": 110
        },
        "outputId": "38fe92c9-b506-43c5-dcc4-973fd144ec5f"
      },
      "source": [
        "import tensorflow.compat.v1 as tf\n",
        "tf.disable_v2_behavior()\n",
        "tf.__version__"
      ],
      "execution_count": 13,
      "outputs": [
        {
          "output_type": "stream",
          "text": [
            "WARNING:tensorflow:From /usr/local/lib/python3.6/dist-packages/tensorflow/python/compat/v2_compat.py:96: disable_resource_variables (from tensorflow.python.ops.variable_scope) is deprecated and will be removed in a future version.\n",
            "Instructions for updating:\n",
            "non-resource variables are not supported in the long term\n"
          ],
          "name": "stdout"
        },
        {
          "output_type": "execute_result",
          "data": {
            "text/plain": [
              "'2.2.0'"
            ]
          },
          "metadata": {
            "tags": []
          },
          "execution_count": 13
        }
      ]
    },
    {
      "cell_type": "markdown",
      "metadata": {
        "id": "xTd84-074tzn",
        "colab_type": "text"
      },
      "source": [
        "## Primeiro placeholder"
      ]
    },
    {
      "cell_type": "code",
      "metadata": {
        "id": "NoEaQPQA4xYt",
        "colab_type": "code",
        "colab": {}
      },
      "source": [
        "p = tf.placeholder('float', None) #(tipo de dado, dimensão)\n",
        "# shape=(),pois não se sabe a dimensão desses dados, se será um escalar, uma matriz ou um vetor.\n",
        "#p = tf.keras.Input(shape=(), dtype=tf.dtypes.float32)"
      ],
      "execution_count": 0,
      "outputs": []
    },
    {
      "cell_type": "code",
      "metadata": {
        "id": "-BoBqHV0ZWnr",
        "colab_type": "code",
        "colab": {}
      },
      "source": [
        "operacao = p + 2\n"
      ],
      "execution_count": 0,
      "outputs": []
    },
    {
      "cell_type": "code",
      "metadata": {
        "id": "r-mGtPmVd_L5",
        "colab_type": "code",
        "colab": {
          "base_uri": "https://localhost:8080/",
          "height": 35
        },
        "outputId": "8a12bc28-b862-457b-e28b-92d4d5261924"
      },
      "source": [
        "with tf.Session() as sess:\n",
        "  resultado = sess.run(operacao, feed_dict = {p: [1, 2, 3]})\n",
        "  print(resultado)"
      ],
      "execution_count": 18,
      "outputs": [
        {
          "output_type": "stream",
          "text": [
            "[3. 4. 5.]\n"
          ],
          "name": "stdout"
        }
      ]
    },
    {
      "cell_type": "code",
      "metadata": {
        "id": "FLO9KG70aE8x",
        "colab_type": "code",
        "colab": {}
      },
      "source": [
        "p2 = tf.placeholder('float', [None, 5])\n",
        "operacao2 = p2 * 5"
      ],
      "execution_count": 0,
      "outputs": []
    },
    {
      "cell_type": "code",
      "metadata": {
        "id": "iBh_oyaoikrB",
        "colab_type": "code",
        "colab": {
          "base_uri": "https://localhost:8080/",
          "height": 53
        },
        "outputId": "48368529-cf5f-42d8-b0c8-d619129f6262"
      },
      "source": [
        "with tf.Session() as sess:\n",
        "  dados = [[1,2,3,4,5],[6,7,8,9,10]]\n",
        "  resultado = sess.run(operacao2, feed_dict={p2: dados})\n",
        "  print(resultado)"
      ],
      "execution_count": 21,
      "outputs": [
        {
          "output_type": "stream",
          "text": [
            "[[ 5. 10. 15. 20. 25.]\n",
            " [30. 35. 40. 45. 50.]]\n"
          ],
          "name": "stdout"
        }
      ]
    }
  ]
}