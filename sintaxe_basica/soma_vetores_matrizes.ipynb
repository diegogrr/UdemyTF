{
  "nbformat": 4,
  "nbformat_minor": 0,
  "metadata": {
    "colab": {
      "name": "soma_vetores_matrizes.ipynb",
      "provenance": [],
      "collapsed_sections": [],
      "authorship_tag": "ABX9TyNEt8w1HZuqLCp3rlLhNVl9"
    },
    "kernelspec": {
      "name": "python3",
      "display_name": "Python 3"
    }
  },
  "cells": [
    {
      "cell_type": "markdown",
      "metadata": {
        "id": "gPk6_EBnDvL7",
        "colab_type": "text"
      },
      "source": [
        "# Soma de Vetores e Matrizes"
      ]
    },
    {
      "cell_type": "code",
      "metadata": {
        "id": "aIC9a9FyyCUW",
        "colab_type": "code",
        "colab": {}
      },
      "source": [
        "import tensorflow as tf"
      ],
      "execution_count": 0,
      "outputs": []
    },
    {
      "cell_type": "markdown",
      "metadata": {
        "id": "TKw9M611GicJ",
        "colab_type": "text"
      },
      "source": [
        "Vetores"
      ]
    },
    {
      "cell_type": "code",
      "metadata": {
        "id": "yFoyHhq3D2sm",
        "colab_type": "code",
        "colab": {}
      },
      "source": [
        "a = tf.constant([9, 8, 7], name='a')\n",
        "b = tf.constant([1, 2, 3], name='b')"
      ],
      "execution_count": 0,
      "outputs": []
    },
    {
      "cell_type": "markdown",
      "metadata": {
        "id": "jW3Z497cGkq0",
        "colab_type": "text"
      },
      "source": [
        "Matrizes"
      ]
    },
    {
      "cell_type": "code",
      "metadata": {
        "id": "BrXOn-ZxGqPX",
        "colab_type": "code",
        "colab": {
          "base_uri": "https://localhost:8080/",
          "height": 35
        },
        "outputId": "49652501-5f7a-4858-ae7e-91add01e1cd3"
      },
      "source": [
        "a1 = tf.constant([[1, 2, 3], [4, 5, 6]], name='a1')\n",
        "b1 = tf.constant([[1, 2, 3], [4, 5, 6]], name='b1')\n",
        "type(a1)"
      ],
      "execution_count": 22,
      "outputs": [
        {
          "output_type": "execute_result",
          "data": {
            "text/plain": [
              "tensorflow.python.framework.ops.EagerTensor"
            ]
          },
          "metadata": {
            "tags": []
          },
          "execution_count": 22
        }
      ]
    },
    {
      "cell_type": "code",
      "metadata": {
        "id": "LQI7j5EOG9O4",
        "colab_type": "code",
        "colab": {
          "base_uri": "https://localhost:8080/",
          "height": 72
        },
        "outputId": "fada4564-c478-4a66-d906-737e74d67629"
      },
      "source": [
        "print(a1)"
      ],
      "execution_count": 20,
      "outputs": [
        {
          "output_type": "stream",
          "text": [
            "tf.Tensor(\n",
            "[[1 2 3]\n",
            " [4 5 6]], shape=(2, 3), dtype=int32)\n"
          ],
          "name": "stdout"
        }
      ]
    },
    {
      "cell_type": "markdown",
      "metadata": {
        "id": "xaA0aVBWHDUi",
        "colab_type": "text"
      },
      "source": [
        "Caso queira visualizar apenas as dimensões:"
      ]
    },
    {
      "cell_type": "code",
      "metadata": {
        "id": "oxhcjCgcHJNz",
        "colab_type": "code",
        "colab": {
          "base_uri": "https://localhost:8080/",
          "height": 35
        },
        "outputId": "b551f9ab-fda2-4334-ea40-94c8159d2dca"
      },
      "source": [
        "a1.shape"
      ],
      "execution_count": 21,
      "outputs": [
        {
          "output_type": "execute_result",
          "data": {
            "text/plain": [
              "TensorShape([2, 3])"
            ]
          },
          "metadata": {
            "tags": []
          },
          "execution_count": 21
        }
      ]
    },
    {
      "cell_type": "markdown",
      "metadata": {
        "id": "B2BrImiLI7bb",
        "colab_type": "text"
      },
      "source": [
        "Matrizes com número de elementos diferentes."
      ]
    },
    {
      "cell_type": "code",
      "metadata": {
        "id": "tZ8voBv5It_v",
        "colab_type": "code",
        "colab": {
          "base_uri": "https://localhost:8080/",
          "height": 90
        },
        "outputId": "7148fa2a-a4d9-4930-a39a-c3f3b237ba3d"
      },
      "source": [
        "a2 = tf.constant([[1, 2, 3], [4, 5, 6]])\n",
        "b2 = tf.constant([[1], [2]])\n",
        "print(a2.numpy())\n",
        "print(b2.numpy())"
      ],
      "execution_count": 29,
      "outputs": [
        {
          "output_type": "stream",
          "text": [
            "[[1 2 3]\n",
            " [4 5 6]]\n",
            "[[1]\n",
            " [2]]\n"
          ],
          "name": "stdout"
        }
      ]
    },
    {
      "cell_type": "markdown",
      "metadata": {
        "id": "Ascbcy6XFxZY",
        "colab_type": "text"
      },
      "source": [
        "## Soma de Vetores\n",
        "\n",
        "Para que a soma de vetores e metrizes ocorra sem erros, é necessário que eles tenham o mesmo número de elementos."
      ]
    },
    {
      "cell_type": "code",
      "metadata": {
        "id": "0vq1Urf5F1eA",
        "colab_type": "code",
        "colab": {}
      },
      "source": [
        "soma = a + b"
      ],
      "execution_count": 0,
      "outputs": []
    },
    {
      "cell_type": "markdown",
      "metadata": {
        "id": "_ybuHA7wEKpr",
        "colab_type": "text"
      },
      "source": [
        "Observe que no TF2 a execução da soma acontece naturalmente. Não é necessário criar uma sessão para execução da \"soma\", como é no TF1."
      ]
    },
    {
      "cell_type": "code",
      "metadata": {
        "id": "VfR0CWbaEUof",
        "colab_type": "code",
        "colab": {
          "base_uri": "https://localhost:8080/",
          "height": 35
        },
        "outputId": "c81fe43f-6826-4d12-e8f0-a32c7af68561"
      },
      "source": [
        "print(soma)"
      ],
      "execution_count": 15,
      "outputs": [
        {
          "output_type": "stream",
          "text": [
            "tf.Tensor([10 10 10], shape=(3,), dtype=int32)\n"
          ],
          "name": "stdout"
        }
      ]
    },
    {
      "cell_type": "markdown",
      "metadata": {
        "id": "JGUOPljCEpz-",
        "colab_type": "text"
      },
      "source": [
        "Observe que o tipo de cada cada um deles é o mesmo, inclusive da \"soma\"."
      ]
    },
    {
      "cell_type": "code",
      "metadata": {
        "id": "6nPIFLokEulm",
        "colab_type": "code",
        "colab": {
          "base_uri": "https://localhost:8080/",
          "height": 35
        },
        "outputId": "d98ae70f-03bb-4130-a7fb-a98f1da0b8ea"
      },
      "source": [
        "type(a)"
      ],
      "execution_count": 16,
      "outputs": [
        {
          "output_type": "execute_result",
          "data": {
            "text/plain": [
              "tensorflow.python.framework.ops.EagerTensor"
            ]
          },
          "metadata": {
            "tags": []
          },
          "execution_count": 16
        }
      ]
    },
    {
      "cell_type": "code",
      "metadata": {
        "id": "cBibTnMuE4yQ",
        "colab_type": "code",
        "colab": {
          "base_uri": "https://localhost:8080/",
          "height": 35
        },
        "outputId": "0d00b094-9c21-4086-fc31-caad158c1ced"
      },
      "source": [
        "type(b)"
      ],
      "execution_count": 17,
      "outputs": [
        {
          "output_type": "execute_result",
          "data": {
            "text/plain": [
              "tensorflow.python.framework.ops.EagerTensor"
            ]
          },
          "metadata": {
            "tags": []
          },
          "execution_count": 17
        }
      ]
    },
    {
      "cell_type": "code",
      "metadata": {
        "id": "oQwCLEvYE6FW",
        "colab_type": "code",
        "colab": {
          "base_uri": "https://localhost:8080/",
          "height": 35
        },
        "outputId": "491de436-2315-4def-dcfd-e17bbce312c9"
      },
      "source": [
        "type(soma)"
      ],
      "execution_count": 18,
      "outputs": [
        {
          "output_type": "execute_result",
          "data": {
            "text/plain": [
              "tensorflow.python.framework.ops.EagerTensor"
            ]
          },
          "metadata": {
            "tags": []
          },
          "execution_count": 18
        }
      ]
    },
    {
      "cell_type": "markdown",
      "metadata": {
        "id": "k-kxzEkQHzjS",
        "colab_type": "text"
      },
      "source": [
        "## Soma de Matrizes"
      ]
    },
    {
      "cell_type": "markdown",
      "metadata": {
        "id": "XXAUU2I3HoQ8",
        "colab_type": "text"
      },
      "source": [
        "Soma utilizando recursos do TF.\n"
      ]
    },
    {
      "cell_type": "code",
      "metadata": {
        "id": "8Fb8t5hWHrJS",
        "colab_type": "code",
        "colab": {
          "base_uri": "https://localhost:8080/",
          "height": 72
        },
        "outputId": "dd0948d3-3c47-42b5-cd94-85bb1ce8af84"
      },
      "source": [
        "soma1 = tf.add(a1,b1)\n",
        "print(soma1)"
      ],
      "execution_count": 24,
      "outputs": [
        {
          "output_type": "stream",
          "text": [
            "tf.Tensor(\n",
            "[[ 2  4  6]\n",
            " [ 8 10 12]], shape=(2, 3), dtype=int32)\n"
          ],
          "name": "stdout"
        }
      ]
    },
    {
      "cell_type": "markdown",
      "metadata": {
        "id": "8dPtWNnvIM3f",
        "colab_type": "text"
      },
      "source": [
        "Que significa a mesma coisa que um somatório simples, utilizando o operador '+'."
      ]
    },
    {
      "cell_type": "code",
      "metadata": {
        "id": "sfRZED-LIHMX",
        "colab_type": "code",
        "colab": {
          "base_uri": "https://localhost:8080/",
          "height": 72
        },
        "outputId": "323a8e7c-08d9-41fe-85ec-40147ae1ef06"
      },
      "source": [
        "print(a1 + b1)"
      ],
      "execution_count": 25,
      "outputs": [
        {
          "output_type": "stream",
          "text": [
            "tf.Tensor(\n",
            "[[ 2  4  6]\n",
            " [ 8 10 12]], shape=(2, 3), dtype=int32)\n"
          ],
          "name": "stdout"
        }
      ]
    },
    {
      "cell_type": "markdown",
      "metadata": {
        "id": "NgfIxvthJYjR",
        "colab_type": "text"
      },
      "source": [
        "**Soma** de matrizes com **quantidades diferentes de elementos**, utilizando tf.add(). Mesmo o número de colunas sendo diferente do número de linhas, o somatório ocorre normalmente, contrariando a regra matemática de que a adição de matrizes só pode ser feita por matrizes de mesma ordem."
      ]
    },
    {
      "cell_type": "code",
      "metadata": {
        "id": "u1BCsJ5sJcd2",
        "colab_type": "code",
        "colab": {
          "base_uri": "https://localhost:8080/",
          "height": 144
        },
        "outputId": "ea4912c7-5430-4fcd-b0bb-db36ad880e36"
      },
      "source": [
        "soma2 = tf.add(a2, b2)\n",
        "print(a2.numpy())\n",
        "print(b2.numpy())\n",
        "print(\"---------------\")\n",
        "print(soma2.numpy())"
      ],
      "execution_count": 36,
      "outputs": [
        {
          "output_type": "stream",
          "text": [
            "[[1 2 3]\n",
            " [4 5 6]]\n",
            "[[1]\n",
            " [2]]\n",
            "---------------\n",
            "[[2 3 4]\n",
            " [6 7 8]]\n"
          ],
          "name": "stdout"
        }
      ]
    },
    {
      "cell_type": "markdown",
      "metadata": {
        "id": "JKF0z1k0KdZe",
        "colab_type": "text"
      },
      "source": [
        "Utilizando o perador '+' obtêm-se o mesmo resultado do método tf.add()"
      ]
    },
    {
      "cell_type": "code",
      "metadata": {
        "id": "152j3SsnKDqr",
        "colab_type": "code",
        "colab": {
          "base_uri": "https://localhost:8080/",
          "height": 72
        },
        "outputId": "d69d1a67-4b71-41fb-c212-c556b04eb3d8"
      },
      "source": [
        "print(a2 + b2)"
      ],
      "execution_count": 37,
      "outputs": [
        {
          "output_type": "stream",
          "text": [
            "tf.Tensor(\n",
            "[[2 3 4]\n",
            " [6 7 8]], shape=(2, 3), dtype=int32)\n"
          ],
          "name": "stdout"
        }
      ]
    }
  ]
}