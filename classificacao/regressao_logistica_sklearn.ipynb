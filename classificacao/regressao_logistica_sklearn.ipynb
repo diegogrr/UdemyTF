{
  "nbformat": 4,
  "nbformat_minor": 0,
  "metadata": {
    "colab": {
      "name": "regressao_logistica_sklearn.ipynb",
      "provenance": [],
      "collapsed_sections": [],
      "authorship_tag": "ABX9TyP3T3qVeoH5AuHoJ0dp49+w"
    },
    "kernelspec": {
      "name": "python3",
      "display_name": "Python 3"
    }
  },
  "cells": [
    {
      "cell_type": "markdown",
      "metadata": {
        "id": "tLmEFc8jLuNS",
        "colab_type": "text"
      },
      "source": [
        "# Regressão Logística com SKLearn"
      ]
    },
    {
      "cell_type": "markdown",
      "metadata": {
        "id": "R4E94aaCL0jP",
        "colab_type": "text"
      },
      "source": [
        "Objetivo: prever com base nos atributos previsores da tabela abaixo, qual é o salário da pessoa. Se ela vai ganhar mais do que 50k dólares, ou menos ou igual a 50k dólares."
      ]
    },
    {
      "cell_type": "code",
      "metadata": {
        "id": "p9PUn3vwJ_gO",
        "colab_type": "code",
        "colab": {
          "base_uri": "https://localhost:8080/",
          "height": 293
        },
        "outputId": "da3dd689-48f5-4bb2-b405-656ecce7baca"
      },
      "source": [
        "import pandas as pd\n",
        "url = 'https://raw.githubusercontent.com/diegogrr/UdemyTF/master/classificacao/census.csv'\n",
        "base = pd.read_csv(url)\n",
        "base.head()"
      ],
      "execution_count": 2,
      "outputs": [
        {
          "output_type": "execute_result",
          "data": {
            "text/html": [
              "<div>\n",
              "<style scoped>\n",
              "    .dataframe tbody tr th:only-of-type {\n",
              "        vertical-align: middle;\n",
              "    }\n",
              "\n",
              "    .dataframe tbody tr th {\n",
              "        vertical-align: top;\n",
              "    }\n",
              "\n",
              "    .dataframe thead th {\n",
              "        text-align: right;\n",
              "    }\n",
              "</style>\n",
              "<table border=\"1\" class=\"dataframe\">\n",
              "  <thead>\n",
              "    <tr style=\"text-align: right;\">\n",
              "      <th></th>\n",
              "      <th>age</th>\n",
              "      <th>workclass</th>\n",
              "      <th>final-weight</th>\n",
              "      <th>education</th>\n",
              "      <th>education-num</th>\n",
              "      <th>marital-status</th>\n",
              "      <th>occupation</th>\n",
              "      <th>relationship</th>\n",
              "      <th>race</th>\n",
              "      <th>sex</th>\n",
              "      <th>capital-gain</th>\n",
              "      <th>capital-loos</th>\n",
              "      <th>hour-per-week</th>\n",
              "      <th>native-country</th>\n",
              "      <th>income</th>\n",
              "    </tr>\n",
              "  </thead>\n",
              "  <tbody>\n",
              "    <tr>\n",
              "      <th>0</th>\n",
              "      <td>39</td>\n",
              "      <td>State-gov</td>\n",
              "      <td>77516</td>\n",
              "      <td>Bachelors</td>\n",
              "      <td>13</td>\n",
              "      <td>Never-married</td>\n",
              "      <td>Adm-clerical</td>\n",
              "      <td>Not-in-family</td>\n",
              "      <td>White</td>\n",
              "      <td>Male</td>\n",
              "      <td>2174</td>\n",
              "      <td>0</td>\n",
              "      <td>40</td>\n",
              "      <td>United-States</td>\n",
              "      <td>&lt;=50K</td>\n",
              "    </tr>\n",
              "    <tr>\n",
              "      <th>1</th>\n",
              "      <td>50</td>\n",
              "      <td>Self-emp-not-inc</td>\n",
              "      <td>83311</td>\n",
              "      <td>Bachelors</td>\n",
              "      <td>13</td>\n",
              "      <td>Married-civ-spouse</td>\n",
              "      <td>Exec-managerial</td>\n",
              "      <td>Husband</td>\n",
              "      <td>White</td>\n",
              "      <td>Male</td>\n",
              "      <td>0</td>\n",
              "      <td>0</td>\n",
              "      <td>13</td>\n",
              "      <td>United-States</td>\n",
              "      <td>&lt;=50K</td>\n",
              "    </tr>\n",
              "    <tr>\n",
              "      <th>2</th>\n",
              "      <td>38</td>\n",
              "      <td>Private</td>\n",
              "      <td>215646</td>\n",
              "      <td>HS-grad</td>\n",
              "      <td>9</td>\n",
              "      <td>Divorced</td>\n",
              "      <td>Handlers-cleaners</td>\n",
              "      <td>Not-in-family</td>\n",
              "      <td>White</td>\n",
              "      <td>Male</td>\n",
              "      <td>0</td>\n",
              "      <td>0</td>\n",
              "      <td>40</td>\n",
              "      <td>United-States</td>\n",
              "      <td>&lt;=50K</td>\n",
              "    </tr>\n",
              "    <tr>\n",
              "      <th>3</th>\n",
              "      <td>53</td>\n",
              "      <td>Private</td>\n",
              "      <td>234721</td>\n",
              "      <td>11th</td>\n",
              "      <td>7</td>\n",
              "      <td>Married-civ-spouse</td>\n",
              "      <td>Handlers-cleaners</td>\n",
              "      <td>Husband</td>\n",
              "      <td>Black</td>\n",
              "      <td>Male</td>\n",
              "      <td>0</td>\n",
              "      <td>0</td>\n",
              "      <td>40</td>\n",
              "      <td>United-States</td>\n",
              "      <td>&lt;=50K</td>\n",
              "    </tr>\n",
              "    <tr>\n",
              "      <th>4</th>\n",
              "      <td>28</td>\n",
              "      <td>Private</td>\n",
              "      <td>338409</td>\n",
              "      <td>Bachelors</td>\n",
              "      <td>13</td>\n",
              "      <td>Married-civ-spouse</td>\n",
              "      <td>Prof-specialty</td>\n",
              "      <td>Wife</td>\n",
              "      <td>Black</td>\n",
              "      <td>Female</td>\n",
              "      <td>0</td>\n",
              "      <td>0</td>\n",
              "      <td>40</td>\n",
              "      <td>Cuba</td>\n",
              "      <td>&lt;=50K</td>\n",
              "    </tr>\n",
              "  </tbody>\n",
              "</table>\n",
              "</div>"
            ],
            "text/plain": [
              "   age          workclass  final-weight  ... hour-per-week  native-country  income\n",
              "0   39          State-gov         77516  ...            40   United-States   <=50K\n",
              "1   50   Self-emp-not-inc         83311  ...            13   United-States   <=50K\n",
              "2   38            Private        215646  ...            40   United-States   <=50K\n",
              "3   53            Private        234721  ...            40   United-States   <=50K\n",
              "4   28            Private        338409  ...            40            Cuba   <=50K\n",
              "\n",
              "[5 rows x 15 columns]"
            ]
          },
          "metadata": {
            "tags": []
          },
          "execution_count": 2
        }
      ]
    },
    {
      "cell_type": "markdown",
      "metadata": {
        "id": "fSPj-8QZMmD3",
        "colab_type": "text"
      },
      "source": [
        "Ver os valores únicos da coluna income (*renda*):"
      ]
    },
    {
      "cell_type": "code",
      "metadata": {
        "id": "QSap4nSuMoN9",
        "colab_type": "code",
        "colab": {
          "base_uri": "https://localhost:8080/",
          "height": 35
        },
        "outputId": "17a2bacf-8cec-427f-fd16-5f87197b8d5d"
      },
      "source": [
        "base['income'].unique()"
      ],
      "execution_count": 3,
      "outputs": [
        {
          "output_type": "execute_result",
          "data": {
            "text/plain": [
              "array([' <=50K', ' >50K'], dtype=object)"
            ]
          },
          "metadata": {
            "tags": []
          },
          "execution_count": 3
        }
      ]
    },
    {
      "cell_type": "markdown",
      "metadata": {
        "id": "_k2glUFtNFEe",
        "colab_type": "text"
      },
      "source": [
        "Visualizar a quantidade de registros da base utilizada:"
      ]
    },
    {
      "cell_type": "code",
      "metadata": {
        "id": "oHv8URGzNJdV",
        "colab_type": "code",
        "colab": {
          "base_uri": "https://localhost:8080/",
          "height": 35
        },
        "outputId": "4f516b4a-f254-4066-859b-d7387ce45f57"
      },
      "source": [
        "base.shape"
      ],
      "execution_count": 4,
      "outputs": [
        {
          "output_type": "execute_result",
          "data": {
            "text/plain": [
              "(32561, 15)"
            ]
          },
          "metadata": {
            "tags": []
          },
          "execution_count": 4
        }
      ]
    },
    {
      "cell_type": "markdown",
      "metadata": {
        "id": "-3JbHiBlNQb1",
        "colab_type": "text"
      },
      "source": [
        "x: atributos previsores;\n",
        "\n",
        "y: resposta que é a classe;"
      ]
    },
    {
      "cell_type": "code",
      "metadata": {
        "id": "touw3OlqNaaU",
        "colab_type": "code",
        "colab": {}
      },
      "source": [
        "x = base.iloc[:, 0:14].values\n",
        "y = base.iloc[:,14].values"
      ],
      "execution_count": 0,
      "outputs": []
    },
    {
      "cell_type": "markdown",
      "metadata": {
        "id": "J_mHHfjLOCn6",
        "colab_type": "text"
      },
      "source": [
        "## Pré-processamentos"
      ]
    },
    {
      "cell_type": "markdown",
      "metadata": {
        "id": "TwIFEuTyOIhW",
        "colab_type": "text"
      },
      "source": [
        "Transformar os atributos categóricos em números.\n",
        "\n",
        "Exemplo: onde temos \"State-gov\" passa a ser \"1\";"
      ]
    },
    {
      "cell_type": "code",
      "metadata": {
        "id": "3hUC25hFNyhB",
        "colab_type": "code",
        "colab": {}
      },
      "source": [
        "from sklearn.preprocessing import LabelEncoder\n",
        "label_encoder = LabelEncoder()"
      ],
      "execution_count": 0,
      "outputs": []
    },
    {
      "cell_type": "markdown",
      "metadata": {
        "id": "yXvUB_EjO1Kb",
        "colab_type": "text"
      },
      "source": [
        "Para ter uma ideia dos atributos, vamos visualizar o primeiro registro:"
      ]
    },
    {
      "cell_type": "code",
      "metadata": {
        "id": "Kztfcm3WPBch",
        "colab_type": "code",
        "colab": {
          "base_uri": "https://localhost:8080/",
          "height": 53
        },
        "outputId": "bf1743f7-8b4d-40af-b248-eb1de2fcf442"
      },
      "source": [
        "print(x[0])"
      ],
      "execution_count": 12,
      "outputs": [
        {
          "output_type": "stream",
          "text": [
            "[39 ' State-gov' 77516 ' Bachelors' 13 ' Never-married' ' Adm-clerical'\n",
            " ' Not-in-family' ' White' ' Male' 2174 0 40 ' United-States']\n"
          ],
          "name": "stdout"
        }
      ]
    },
    {
      "cell_type": "markdown",
      "metadata": {
        "id": "YPKzj7-yPXgA",
        "colab_type": "text"
      },
      "source": [
        "Transformar os índices:"
      ]
    },
    {
      "cell_type": "code",
      "metadata": {
        "id": "6xky6uTzPK_P",
        "colab_type": "code",
        "colab": {}
      },
      "source": [
        "x[:,1] = label_encoder.fit_transform(x[:,1])\n",
        "x[:,3] = label_encoder.fit_transform(x[:,3])\n",
        "x[:,5] = label_encoder.fit_transform(x[:,5])\n",
        "x[:,6] = label_encoder.fit_transform(x[:,6])\n",
        "x[:,7] = label_encoder.fit_transform(x[:,7])\n",
        "x[:,8] = label_encoder.fit_transform(x[:,8])\n",
        "x[:,9] = label_encoder.fit_transform(x[:,9])\n",
        "x[:,13] = label_encoder.fit_transform(x[:,13])"
      ],
      "execution_count": 0,
      "outputs": []
    },
    {
      "cell_type": "markdown",
      "metadata": {
        "id": "ktDfjaQnQI9s",
        "colab_type": "text"
      },
      "source": [
        "Para checar se houve a transformação corretamente, vamos checar o primeiro registro:"
      ]
    },
    {
      "cell_type": "code",
      "metadata": {
        "id": "aN_dVOP1QN4V",
        "colab_type": "code",
        "colab": {
          "base_uri": "https://localhost:8080/",
          "height": 35
        },
        "outputId": "f7c98a79-b64f-4836-cfc5-3e63396f8d61"
      },
      "source": [
        "print(x[0])"
      ],
      "execution_count": 14,
      "outputs": [
        {
          "output_type": "stream",
          "text": [
            "[39 7 77516 9 13 4 1 1 4 1 2174 0 40 39]\n"
          ],
          "name": "stdout"
        }
      ]
    },
    {
      "cell_type": "markdown",
      "metadata": {
        "id": "1LVwjLLmQfh2",
        "colab_type": "text"
      },
      "source": [
        "### Escalonamento dos Valores"
      ]
    },
    {
      "cell_type": "markdown",
      "metadata": {
        "id": "RXEAobAjQkcj",
        "colab_type": "text"
      },
      "source": [
        "Há uma grande diferença esclar entre os valores, será necessário um escalonamento."
      ]
    },
    {
      "cell_type": "code",
      "metadata": {
        "id": "nZAbOxfCQjMo",
        "colab_type": "code",
        "colab": {}
      },
      "source": [
        "from sklearn.preprocessing import StandardScaler"
      ],
      "execution_count": 0,
      "outputs": []
    },
    {
      "cell_type": "markdown",
      "metadata": {
        "id": "xtC6qklRQ3Tb",
        "colab_type": "text"
      },
      "source": [
        "Neste momento temos duas opções:\n",
        "\n",
        "*   Padronização - que o `StandardScaler()`;\n",
        "*   Normalização - que é o `MinMaxScaler()`.\n",
        "\n",
        "Recomenda-se utilizar a padronização porque ele é mais robusto contra outliers se você tiver registros fora do padrão."
      ]
    },
    {
      "cell_type": "code",
      "metadata": {
        "id": "YAHRxLW2RlDV",
        "colab_type": "code",
        "colab": {
          "base_uri": "https://localhost:8080/",
          "height": 72
        },
        "outputId": "92be62ca-d9f1-4a73-d119-cbed42ad94af"
      },
      "source": [
        "scaler_x = StandardScaler()\n",
        "x = scaler_x.fit_transform(x) # como todos os dados são numéricos, não é preciso informar as colunas para a transformação.\n"
      ],
      "execution_count": 18,
      "outputs": [
        {
          "output_type": "stream",
          "text": [
            "[ 0.03067056  2.15057856 -1.06361075 -0.33543693  1.13473876  0.92163395\n",
            " -1.3178091  -0.27780504  0.39366753  0.70307135  0.1484529  -0.21665953\n",
            " -0.03542945  0.29156857]\n"
          ],
          "name": "stdout"
        }
      ]
    },
    {
      "cell_type": "markdown",
      "metadata": {
        "id": "oVydhzjtSLlk",
        "colab_type": "text"
      },
      "source": [
        "Obser que os registros agora estão escalonados:"
      ]
    },
    {
      "cell_type": "code",
      "metadata": {
        "id": "yKioV18FSPe9",
        "colab_type": "code",
        "colab": {
          "base_uri": "https://localhost:8080/",
          "height": 72
        },
        "outputId": "0a50d421-a4fb-45b9-951a-5ab5486ad798"
      },
      "source": [
        "print(x[0])"
      ],
      "execution_count": 19,
      "outputs": [
        {
          "output_type": "stream",
          "text": [
            "[ 0.03067056  2.15057856 -1.06361075 -0.33543693  1.13473876  0.92163395\n",
            " -1.3178091  -0.27780504  0.39366753  0.70307135  0.1484529  -0.21665953\n",
            " -0.03542945  0.29156857]\n"
          ],
          "name": "stdout"
        }
      ]
    },
    {
      "cell_type": "markdown",
      "metadata": {
        "id": "r60CBmKkSTjl",
        "colab_type": "text"
      },
      "source": [
        "### Divisão da Base de Dados\n",
        "\n",
        "Entre treinamento e teste.\n",
        "\n",
        "\n",
        "*   70% para o treinamento\n",
        "*   30% para o teste\n"
      ]
    },
    {
      "cell_type": "code",
      "metadata": {
        "id": "cSeqLcldScej",
        "colab_type": "code",
        "colab": {}
      },
      "source": [
        "from sklearn.model_selection import train_test_split\n",
        "x_treinamento, x_teste, y_treinamento, y_teste = train_test_split(x, y, test_size = 0.3)"
      ],
      "execution_count": 0,
      "outputs": []
    },
    {
      "cell_type": "markdown",
      "metadata": {
        "id": "1k6IJ7gzTGf3",
        "colab_type": "text"
      },
      "source": [
        "Registros para o treinamento (aprendizado):"
      ]
    },
    {
      "cell_type": "code",
      "metadata": {
        "id": "DYveDKPxTHRw",
        "colab_type": "code",
        "colab": {
          "base_uri": "https://localhost:8080/",
          "height": 53
        },
        "outputId": "3a6cb6e8-d749-4139-ca15-f4bc65acb56e"
      },
      "source": [
        "print(x_treinamento.shape)\n",
        "print(y_treinamento.shape)"
      ],
      "execution_count": 22,
      "outputs": [
        {
          "output_type": "stream",
          "text": [
            "(22792, 14)\n",
            "(22792,)\n"
          ],
          "name": "stdout"
        }
      ]
    },
    {
      "cell_type": "markdown",
      "metadata": {
        "id": "NC4eHYX9TQZP",
        "colab_type": "text"
      },
      "source": [
        "Registros para os testes (generalização):"
      ]
    },
    {
      "cell_type": "code",
      "metadata": {
        "id": "sXnPYnFzTRcZ",
        "colab_type": "code",
        "colab": {
          "base_uri": "https://localhost:8080/",
          "height": 35
        },
        "outputId": "42551f52-771c-4d1e-b5e5-f33702d64da7"
      },
      "source": [
        "print(x_teste.shape, y_teste.shape)"
      ],
      "execution_count": 23,
      "outputs": [
        {
          "output_type": "stream",
          "text": [
            "(9769, 14) (9769,)\n"
          ],
          "name": "stdout"
        }
      ]
    },
    {
      "cell_type": "markdown",
      "metadata": {
        "id": "7NMHSVjlU2KI",
        "colab_type": "text"
      },
      "source": [
        "## Criação do Modelo"
      ]
    },
    {
      "cell_type": "markdown",
      "metadata": {
        "id": "-3Nr-JZuV-mG",
        "colab_type": "text"
      },
      "source": [
        "`max_iter` = quantas repetições queremos realizar para ele ajustar o algoritmo."
      ]
    },
    {
      "cell_type": "code",
      "metadata": {
        "id": "ReU-1AgCU1YW",
        "colab_type": "code",
        "colab": {}
      },
      "source": [
        "from sklearn.linear_model import LogisticRegression\n",
        "classificador = LogisticRegression(max_iter=10000)"
      ],
      "execution_count": 0,
      "outputs": []
    },
    {
      "cell_type": "markdown",
      "metadata": {
        "id": "rszFyyw0WT-d",
        "colab_type": "text"
      },
      "source": [
        "### Treinamento"
      ]
    },
    {
      "cell_type": "code",
      "metadata": {
        "id": "g_K66nSFWYNq",
        "colab_type": "code",
        "colab": {
          "base_uri": "https://localhost:8080/",
          "height": 108
        },
        "outputId": "467dfb22-0e7a-475a-c269-a1a08daa27fc"
      },
      "source": [
        "classificador.fit(x_treinamento, y_treinamento)"
      ],
      "execution_count": 27,
      "outputs": [
        {
          "output_type": "execute_result",
          "data": {
            "text/plain": [
              "LogisticRegression(C=1.0, class_weight=None, dual=False, fit_intercept=True,\n",
              "                   intercept_scaling=1, l1_ratio=None, max_iter=10000,\n",
              "                   multi_class='auto', n_jobs=None, penalty='l2',\n",
              "                   random_state=None, solver='lbfgs', tol=0.0001, verbose=0,\n",
              "                   warm_start=False)"
            ]
          },
          "metadata": {
            "tags": []
          },
          "execution_count": 27
        }
      ]
    },
    {
      "cell_type": "markdown",
      "metadata": {
        "id": "EBnFWBG8Wh9-",
        "colab_type": "text"
      },
      "source": [
        "### Previsões"
      ]
    },
    {
      "cell_type": "markdown",
      "metadata": {
        "id": "aW-GXgg4W1jM",
        "colab_type": "text"
      },
      "source": [
        "Vamos submeter os registro da variável `x_teste` ao classificador."
      ]
    },
    {
      "cell_type": "code",
      "metadata": {
        "id": "UxUhNugIWkmr",
        "colab_type": "code",
        "colab": {
          "base_uri": "https://localhost:8080/",
          "height": 35
        },
        "outputId": "4b8cdcaa-a33d-4e6d-d357-241ed3bbc131"
      },
      "source": [
        "previsoes = classificador.predict(x_teste)\n",
        "print(previsoes)"
      ],
      "execution_count": 29,
      "outputs": [
        {
          "output_type": "stream",
          "text": [
            "[' >50K' ' <=50K' ' <=50K' ... ' <=50K' ' <=50K' ' <=50K']\n"
          ],
          "name": "stdout"
        }
      ]
    },
    {
      "cell_type": "markdown",
      "metadata": {
        "id": "Ei6XrgwjXH9C",
        "colab_type": "text"
      },
      "source": [
        "## Comparativo\n",
        "\n",
        "Entre a predição (`previsoes`) e as respostas que nós sabemos (`y_teste`)."
      ]
    },
    {
      "cell_type": "code",
      "metadata": {
        "id": "yjtePQp_XLEb",
        "colab_type": "code",
        "colab": {
          "base_uri": "https://localhost:8080/",
          "height": 35
        },
        "outputId": "f449aa26-ae02-42e5-b4e8-f417dbae0010"
      },
      "source": [
        "from sklearn.metrics import accuracy_score\n",
        "taxa_acerto = accuracy_score(y_teste,previsoes)\n",
        "print(taxa_acerto)"
      ],
      "execution_count": 32,
      "outputs": [
        {
          "output_type": "stream",
          "text": [
            "0.8273108813594022\n"
          ],
          "name": "stdout"
        }
      ]
    },
    {
      "cell_type": "markdown",
      "metadata": {
        "id": "jiTtFSCoX-tR",
        "colab_type": "text"
      },
      "source": [
        "Observer que tivemos uma taxa de acerto de 82% com a regressão logística do SKlearn."
      ]
    }
  ]
}