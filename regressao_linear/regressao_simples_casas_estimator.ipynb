{
  "nbformat": 4,
  "nbformat_minor": 0,
  "metadata": {
    "colab": {
      "name": "regressao_simples_casas_estimator.ipynb",
      "provenance": [],
      "collapsed_sections": [],
      "authorship_tag": "ABX9TyOqQXOYgCiSiS6a4UCe5fSf"
    },
    "kernelspec": {
      "name": "python3",
      "display_name": "Python 3"
    }
  },
  "cells": [
    {
      "cell_type": "markdown",
      "metadata": {
        "id": "GX_lGZR56gwZ",
        "colab_type": "text"
      },
      "source": [
        "# Previsão do Preço de Casas Com Estimators\n",
        "\n",
        "Base de dados retirada do Kaggle, disponível neste [Link](https://www.kaggle.com/harlfoxem/housesalesprediction)."
      ]
    },
    {
      "cell_type": "code",
      "metadata": {
        "id": "yyf2-Yg_6VZg",
        "colab_type": "code",
        "colab": {
          "base_uri": "https://localhost:8080/",
          "height": 226
        },
        "outputId": "7140fc67-7f07-4d7b-988c-d1c5033f1f9d"
      },
      "source": [
        "import pandas as pd\n",
        "url = 'https://raw.githubusercontent.com/diegogrr/UdemyTF/master/regressao_linear/original.csv'\n",
        "base = pd.read_csv(url)\n",
        "base.head()"
      ],
      "execution_count": 19,
      "outputs": [
        {
          "output_type": "execute_result",
          "data": {
            "text/html": [
              "<div>\n",
              "<style scoped>\n",
              "    .dataframe tbody tr th:only-of-type {\n",
              "        vertical-align: middle;\n",
              "    }\n",
              "\n",
              "    .dataframe tbody tr th {\n",
              "        vertical-align: top;\n",
              "    }\n",
              "\n",
              "    .dataframe thead th {\n",
              "        text-align: right;\n",
              "    }\n",
              "</style>\n",
              "<table border=\"1\" class=\"dataframe\">\n",
              "  <thead>\n",
              "    <tr style=\"text-align: right;\">\n",
              "      <th></th>\n",
              "      <th>id</th>\n",
              "      <th>date</th>\n",
              "      <th>price</th>\n",
              "      <th>bedrooms</th>\n",
              "      <th>bathrooms</th>\n",
              "      <th>sqft_living</th>\n",
              "      <th>sqft_lot</th>\n",
              "      <th>floors</th>\n",
              "      <th>waterfront</th>\n",
              "      <th>view</th>\n",
              "      <th>condition</th>\n",
              "      <th>grade</th>\n",
              "      <th>sqft_above</th>\n",
              "      <th>sqft_basement</th>\n",
              "      <th>yr_built</th>\n",
              "      <th>yr_renovated</th>\n",
              "      <th>zipcode</th>\n",
              "      <th>lat</th>\n",
              "      <th>long</th>\n",
              "      <th>sqft_living15</th>\n",
              "      <th>sqft_lot15</th>\n",
              "    </tr>\n",
              "  </thead>\n",
              "  <tbody>\n",
              "    <tr>\n",
              "      <th>0</th>\n",
              "      <td>7129300520</td>\n",
              "      <td>20141013T000000</td>\n",
              "      <td>221900.0</td>\n",
              "      <td>3</td>\n",
              "      <td>1.00</td>\n",
              "      <td>1180</td>\n",
              "      <td>5650</td>\n",
              "      <td>1.0</td>\n",
              "      <td>0</td>\n",
              "      <td>0</td>\n",
              "      <td>3</td>\n",
              "      <td>7</td>\n",
              "      <td>1180</td>\n",
              "      <td>0</td>\n",
              "      <td>1955</td>\n",
              "      <td>0</td>\n",
              "      <td>98178</td>\n",
              "      <td>47.5112</td>\n",
              "      <td>-122.257</td>\n",
              "      <td>1340</td>\n",
              "      <td>5650</td>\n",
              "    </tr>\n",
              "    <tr>\n",
              "      <th>1</th>\n",
              "      <td>6414100192</td>\n",
              "      <td>20141209T000000</td>\n",
              "      <td>538000.0</td>\n",
              "      <td>3</td>\n",
              "      <td>2.25</td>\n",
              "      <td>2570</td>\n",
              "      <td>7242</td>\n",
              "      <td>2.0</td>\n",
              "      <td>0</td>\n",
              "      <td>0</td>\n",
              "      <td>3</td>\n",
              "      <td>7</td>\n",
              "      <td>2170</td>\n",
              "      <td>400</td>\n",
              "      <td>1951</td>\n",
              "      <td>1991</td>\n",
              "      <td>98125</td>\n",
              "      <td>47.7210</td>\n",
              "      <td>-122.319</td>\n",
              "      <td>1690</td>\n",
              "      <td>7639</td>\n",
              "    </tr>\n",
              "    <tr>\n",
              "      <th>2</th>\n",
              "      <td>5631500400</td>\n",
              "      <td>20150225T000000</td>\n",
              "      <td>180000.0</td>\n",
              "      <td>2</td>\n",
              "      <td>1.00</td>\n",
              "      <td>770</td>\n",
              "      <td>10000</td>\n",
              "      <td>1.0</td>\n",
              "      <td>0</td>\n",
              "      <td>0</td>\n",
              "      <td>3</td>\n",
              "      <td>6</td>\n",
              "      <td>770</td>\n",
              "      <td>0</td>\n",
              "      <td>1933</td>\n",
              "      <td>0</td>\n",
              "      <td>98028</td>\n",
              "      <td>47.7379</td>\n",
              "      <td>-122.233</td>\n",
              "      <td>2720</td>\n",
              "      <td>8062</td>\n",
              "    </tr>\n",
              "    <tr>\n",
              "      <th>3</th>\n",
              "      <td>2487200875</td>\n",
              "      <td>20141209T000000</td>\n",
              "      <td>604000.0</td>\n",
              "      <td>4</td>\n",
              "      <td>3.00</td>\n",
              "      <td>1960</td>\n",
              "      <td>5000</td>\n",
              "      <td>1.0</td>\n",
              "      <td>0</td>\n",
              "      <td>0</td>\n",
              "      <td>5</td>\n",
              "      <td>7</td>\n",
              "      <td>1050</td>\n",
              "      <td>910</td>\n",
              "      <td>1965</td>\n",
              "      <td>0</td>\n",
              "      <td>98136</td>\n",
              "      <td>47.5208</td>\n",
              "      <td>-122.393</td>\n",
              "      <td>1360</td>\n",
              "      <td>5000</td>\n",
              "    </tr>\n",
              "    <tr>\n",
              "      <th>4</th>\n",
              "      <td>1954400510</td>\n",
              "      <td>20150218T000000</td>\n",
              "      <td>510000.0</td>\n",
              "      <td>3</td>\n",
              "      <td>2.00</td>\n",
              "      <td>1680</td>\n",
              "      <td>8080</td>\n",
              "      <td>1.0</td>\n",
              "      <td>0</td>\n",
              "      <td>0</td>\n",
              "      <td>3</td>\n",
              "      <td>8</td>\n",
              "      <td>1680</td>\n",
              "      <td>0</td>\n",
              "      <td>1987</td>\n",
              "      <td>0</td>\n",
              "      <td>98074</td>\n",
              "      <td>47.6168</td>\n",
              "      <td>-122.045</td>\n",
              "      <td>1800</td>\n",
              "      <td>7503</td>\n",
              "    </tr>\n",
              "  </tbody>\n",
              "</table>\n",
              "</div>"
            ],
            "text/plain": [
              "           id             date     price  ...     long  sqft_living15  sqft_lot15\n",
              "0  7129300520  20141013T000000  221900.0  ... -122.257           1340        5650\n",
              "1  6414100192  20141209T000000  538000.0  ... -122.319           1690        7639\n",
              "2  5631500400  20150225T000000  180000.0  ... -122.233           2720        8062\n",
              "3  2487200875  20141209T000000  604000.0  ... -122.393           1360        5000\n",
              "4  1954400510  20150218T000000  510000.0  ... -122.045           1800        7503\n",
              "\n",
              "[5 rows x 21 columns]"
            ]
          },
          "metadata": {
            "tags": []
          },
          "execution_count": 19
        }
      ]
    },
    {
      "cell_type": "markdown",
      "metadata": {
        "id": "850FBe5i7UiQ",
        "colab_type": "text"
      },
      "source": [
        "Visualizar a quantidade de registros:"
      ]
    },
    {
      "cell_type": "code",
      "metadata": {
        "id": "xe3kGt-S7XmP",
        "colab_type": "code",
        "colab": {
          "base_uri": "https://localhost:8080/",
          "height": 35
        },
        "outputId": "2b1d744f-f4f0-45b4-8103-55cc4c8f6c35"
      },
      "source": [
        "base.shape"
      ],
      "execution_count": 20,
      "outputs": [
        {
          "output_type": "execute_result",
          "data": {
            "text/plain": [
              "(21613, 21)"
            ]
          },
          "metadata": {
            "tags": []
          },
          "execution_count": 20
        }
      ]
    },
    {
      "cell_type": "code",
      "metadata": {
        "id": "JZbcmt2h68BJ",
        "colab_type": "code",
        "colab": {}
      },
      "source": [
        "x = base.iloc[:,5:6].values # metragem quadrada\n",
        "y = base.iloc[:,2:3].values # preço das casas"
      ],
      "execution_count": 0,
      "outputs": []
    },
    {
      "cell_type": "markdown",
      "metadata": {
        "id": "QaRrtwvc7qny",
        "colab_type": "text"
      },
      "source": [
        "Escalonamento:"
      ]
    },
    {
      "cell_type": "code",
      "metadata": {
        "id": "4HjCaNh57s7n",
        "colab_type": "code",
        "colab": {
          "base_uri": "https://localhost:8080/",
          "height": 290
        },
        "outputId": "255ad050-8259-44cb-bc28-30f1233ebafc"
      },
      "source": [
        "from sklearn.preprocessing import StandardScaler\n",
        "# metragem quadrada\n",
        "scaler_x = StandardScaler()\n",
        "x = scaler_x.fit_transform(x)\n",
        "print(x)\n",
        "print()\n",
        "#preço da casa\n",
        "scaler_y = StandardScaler()\n",
        "y = scaler_y.fit_transform(y)\n",
        "print(y)"
      ],
      "execution_count": 22,
      "outputs": [
        {
          "output_type": "stream",
          "text": [
            "[[-0.97983502]\n",
            " [ 0.53363434]\n",
            " [-1.42625404]\n",
            " ...\n",
            " [-1.15404732]\n",
            " [-0.52252773]\n",
            " [-1.15404732]]\n",
            "\n",
            "[[-0.86671733]\n",
            " [-0.00568792]\n",
            " [-0.98084935]\n",
            " ...\n",
            " [-0.37586519]\n",
            " [-0.38158814]\n",
            " [-0.58588173]]\n"
          ],
          "name": "stdout"
        }
      ]
    },
    {
      "cell_type": "markdown",
      "metadata": {
        "id": "5xYtpyL778Ul",
        "colab_type": "text"
      },
      "source": [
        "Importar TensorFlow:"
      ]
    },
    {
      "cell_type": "code",
      "metadata": {
        "id": "K-FgyHq47-Yi",
        "colab_type": "code",
        "colab": {
          "base_uri": "https://localhost:8080/",
          "height": 35
        },
        "outputId": "2bd9035f-f8b3-4bc0-f008-7d7f6a027aff"
      },
      "source": [
        "import tensorflow.compat.v1 as tf\n",
        "tf.disable_v2_behavior()\n",
        "tf.__version__"
      ],
      "execution_count": 23,
      "outputs": [
        {
          "output_type": "execute_result",
          "data": {
            "text/plain": [
              "'2.2.0'"
            ]
          },
          "metadata": {
            "tags": []
          },
          "execution_count": 23
        }
      ]
    },
    {
      "cell_type": "markdown",
      "metadata": {
        "id": "Uo7kJtpV8F7B",
        "colab_type": "text"
      },
      "source": [
        "Criar uma lista com as colunas:"
      ]
    },
    {
      "cell_type": "code",
      "metadata": {
        "id": "jdeqiTXv8ICE",
        "colab_type": "code",
        "colab": {
          "base_uri": "https://localhost:8080/",
          "height": 35
        },
        "outputId": "1c1fe378-a1fe-4312-de1f-ce7c5edb0fc5"
      },
      "source": [
        "colunas = [tf.feature_column.numeric_column('x',shape=[1])]\n",
        "print(colunas)"
      ],
      "execution_count": 24,
      "outputs": [
        {
          "output_type": "stream",
          "text": [
            "[NumericColumn(key='x', shape=(1,), default_value=None, dtype=tf.float32, normalizer_fn=None)]\n"
          ],
          "name": "stdout"
        }
      ]
    },
    {
      "cell_type": "markdown",
      "metadata": {
        "id": "5I69q3fA8m-f",
        "colab_type": "text"
      },
      "source": [
        "Criar o regressor:\n",
        "\n",
        "Ainda não estamos trabalhando com redes neurais."
      ]
    },
    {
      "cell_type": "code",
      "metadata": {
        "id": "odPnEI2_8odv",
        "colab_type": "code",
        "colab": {
          "base_uri": "https://localhost:8080/",
          "height": 201
        },
        "outputId": "5392d377-516e-4b56-be1e-7b77c059ce9f"
      },
      "source": [
        "regressor = tf.estimator.LinearRegressor(feature_columns=colunas)\n",
        "# normal aparecer alguns warnings"
      ],
      "execution_count": 25,
      "outputs": [
        {
          "output_type": "stream",
          "text": [
            "INFO:tensorflow:Using default config.\n",
            "WARNING:tensorflow:Using temporary folder as model directory: /tmp/tmp6ya3tc6w\n",
            "INFO:tensorflow:Using config: {'_model_dir': '/tmp/tmp6ya3tc6w', '_tf_random_seed': None, '_save_summary_steps': 100, '_save_checkpoints_steps': None, '_save_checkpoints_secs': 600, '_session_config': allow_soft_placement: true\n",
            "graph_options {\n",
            "  rewrite_options {\n",
            "    meta_optimizer_iterations: ONE\n",
            "  }\n",
            "}\n",
            ", '_keep_checkpoint_max': 5, '_keep_checkpoint_every_n_hours': 10000, '_log_step_count_steps': 100, '_train_distribute': None, '_device_fn': None, '_protocol': None, '_eval_distribute': None, '_experimental_distribute': None, '_experimental_max_worker_delay_secs': None, '_session_creation_timeout_secs': 7200, '_service': None, '_cluster_spec': ClusterSpec({}), '_task_type': 'worker', '_task_id': 0, '_global_id_in_cluster': 0, '_master': '', '_evaluation_master': '', '_is_chief': True, '_num_ps_replicas': 0, '_num_worker_replicas': 1}\n"
          ],
          "name": "stdout"
        }
      ]
    },
    {
      "cell_type": "markdown",
      "metadata": {
        "id": "Xa_TIalY9Mps",
        "colab_type": "text"
      },
      "source": [
        "## Divisão da Base de Dados\n",
        "\n",
        "Entre treinamento e teste.\n",
        "\n",
        "\n",
        "*   70% para o treinamento\n",
        "*   30% para o teste\n",
        "\n"
      ]
    },
    {
      "cell_type": "code",
      "metadata": {
        "id": "MemkLX2g9FmW",
        "colab_type": "code",
        "colab": {}
      },
      "source": [
        "from sklearn.model_selection import train_test_split\n",
        "x_treinamento, x_teste, y_treinamento, y_teste = train_test_split(x, y, test_size = 0.3)"
      ],
      "execution_count": 0,
      "outputs": []
    },
    {
      "cell_type": "markdown",
      "metadata": {
        "id": "5GQFbSeP-33U",
        "colab_type": "text"
      },
      "source": [
        "Registros para o treinamento (aprendizado):"
      ]
    },
    {
      "cell_type": "code",
      "metadata": {
        "id": "MfFwNUhN-SU8",
        "colab_type": "code",
        "colab": {
          "base_uri": "https://localhost:8080/",
          "height": 53
        },
        "outputId": "92d1e4aa-f78b-415a-dbae-f507a5bbd04f"
      },
      "source": [
        "print(x_treinamento.shape)\n",
        "print(y_treinamento.shape)"
      ],
      "execution_count": 27,
      "outputs": [
        {
          "output_type": "stream",
          "text": [
            "(15129, 1)\n",
            "(15129, 1)\n"
          ],
          "name": "stdout"
        }
      ]
    },
    {
      "cell_type": "markdown",
      "metadata": {
        "id": "jLe2wwpN-8Yu",
        "colab_type": "text"
      },
      "source": [
        "Registros para os testes (generalização):"
      ]
    },
    {
      "cell_type": "code",
      "metadata": {
        "id": "rDYpIVMR-hF6",
        "colab_type": "code",
        "colab": {
          "base_uri": "https://localhost:8080/",
          "height": 35
        },
        "outputId": "486f5db7-81fa-4911-f352-3f811bf244ff"
      },
      "source": [
        "print(x_teste.shape, y_teste.shape)"
      ],
      "execution_count": 28,
      "outputs": [
        {
          "output_type": "stream",
          "text": [
            "(6484, 1) (6484, 1)\n"
          ],
          "name": "stdout"
        }
      ]
    },
    {
      "cell_type": "markdown",
      "metadata": {
        "id": "lslmBeaX_m3K",
        "colab_type": "text"
      },
      "source": [
        "## Função de Treinamento"
      ]
    },
    {
      "cell_type": "markdown",
      "metadata": {
        "id": "OFfAL9Hj_puF",
        "colab_type": "text"
      },
      "source": [
        "Conceito de função dos estimators: a origem é 'pandas', mas lembre-se que nós convertemos para matrizes do tipo 'numpy'."
      ]
    },
    {
      "cell_type": "code",
      "metadata": {
        "id": "qWnyK7Rq_oum",
        "colab_type": "code",
        "colab": {}
      },
      "source": [
        "funcao_treinamento = tf.estimator.inputs.numpy_input_fn({'x': x_treinamento}, y_treinamento, batch_size=32, \n",
        "                                                        num_epochs=None, shuffle=True)"
      ],
      "execution_count": 0,
      "outputs": []
    },
    {
      "cell_type": "markdown",
      "metadata": {
        "id": "kkVa9GDdAy2U",
        "colab_type": "text"
      },
      "source": [
        "## Função de Teste"
      ]
    },
    {
      "cell_type": "code",
      "metadata": {
        "id": "_3rEeITEA1kM",
        "colab_type": "code",
        "colab": {}
      },
      "source": [
        "funcao_teste = tf.estimator.inputs.numpy_input_fn({'x': x_teste}, y_teste, batch_size=32, \n",
        "                                                  num_epochs=1000, shuffle=False)\n",
        "# shuffle=True pois não queremos que seja aleatório, \n",
        "# e sim que seja feito o teste em todos os registro"
      ],
      "execution_count": 0,
      "outputs": []
    },
    {
      "cell_type": "markdown",
      "metadata": {
        "id": "gx0HKYzoCKiQ",
        "colab_type": "text"
      },
      "source": [
        "## Treinamento do Regressor"
      ]
    },
    {
      "cell_type": "code",
      "metadata": {
        "id": "RNZ-LI7MCPMo",
        "colab_type": "code",
        "colab": {
          "base_uri": "https://localhost:8080/",
          "height": 1000
        },
        "outputId": "71319e6f-757a-4f7e-ef27-ce9ce1c63d2f"
      },
      "source": [
        "regressor.train(input_fn=funcao_treinamento, steps=10000)\n",
        "# steps - ideia dos passos da descida do gradiente"
      ],
      "execution_count": 31,
      "outputs": [
        {
          "output_type": "stream",
          "text": [
            "WARNING:tensorflow:From /usr/local/lib/python3.6/dist-packages/tensorflow/python/training/training_util.py:236: Variable.initialized_value (from tensorflow.python.ops.variables) is deprecated and will be removed in a future version.\n",
            "Instructions for updating:\n",
            "Use Variable.read_value. Variables in 2.X are initialized automatically both in eager and graph (inside tf.defun) contexts.\n",
            "WARNING:tensorflow:From /usr/local/lib/python3.6/dist-packages/tensorflow_estimator/python/estimator/inputs/queues/feeding_queue_runner.py:65: QueueRunner.__init__ (from tensorflow.python.training.queue_runner_impl) is deprecated and will be removed in a future version.\n",
            "Instructions for updating:\n",
            "To construct input pipelines, use the `tf.data` module.\n",
            "WARNING:tensorflow:From /usr/local/lib/python3.6/dist-packages/tensorflow_estimator/python/estimator/inputs/queues/feeding_functions.py:491: add_queue_runner (from tensorflow.python.training.queue_runner_impl) is deprecated and will be removed in a future version.\n",
            "Instructions for updating:\n",
            "To construct input pipelines, use the `tf.data` module.\n",
            "INFO:tensorflow:Calling model_fn.\n",
            "WARNING:tensorflow:From /usr/local/lib/python3.6/dist-packages/tensorflow/python/ops/resource_variable_ops.py:1666: calling BaseResourceVariable.__init__ (from tensorflow.python.ops.resource_variable_ops) with constraint is deprecated and will be removed in a future version.\n",
            "Instructions for updating:\n",
            "If using Keras pass *_constraint arguments to layers.\n",
            "WARNING:tensorflow:From /usr/local/lib/python3.6/dist-packages/tensorflow/python/feature_column/feature_column_v2.py:540: Layer.add_variable (from tensorflow.python.keras.engine.base_layer_v1) is deprecated and will be removed in a future version.\n",
            "Instructions for updating:\n",
            "Please use `layer.add_weight` method instead.\n",
            "INFO:tensorflow:Done calling model_fn.\n",
            "INFO:tensorflow:Create CheckpointSaverHook.\n",
            "INFO:tensorflow:Graph was finalized.\n",
            "INFO:tensorflow:Running local_init_op.\n",
            "INFO:tensorflow:Done running local_init_op.\n",
            "WARNING:tensorflow:From /usr/local/lib/python3.6/dist-packages/tensorflow/python/training/monitored_session.py:906: start_queue_runners (from tensorflow.python.training.queue_runner_impl) is deprecated and will be removed in a future version.\n",
            "Instructions for updating:\n",
            "To construct input pipelines, use the `tf.data` module.\n",
            "INFO:tensorflow:Calling checkpoint listeners before saving checkpoint 0...\n",
            "INFO:tensorflow:Saving checkpoints for 0 into /tmp/tmp6ya3tc6w/model.ckpt.\n",
            "INFO:tensorflow:Calling checkpoint listeners after saving checkpoint 0...\n",
            "INFO:tensorflow:loss = 11.195052, step = 1\n",
            "INFO:tensorflow:global_step/sec: 721.362\n",
            "INFO:tensorflow:loss = 5.1562285, step = 101 (0.143 sec)\n",
            "INFO:tensorflow:global_step/sec: 796.848\n",
            "INFO:tensorflow:loss = 8.653954, step = 201 (0.122 sec)\n",
            "WARNING:tensorflow:It seems that global step (tf.train.get_global_step) has not been increased. Current value (could be stable): 202 vs previous value: 202. You could increase the global step by passing tf.train.get_global_step() to Optimizer.apply_gradients or Optimizer.minimize.\n",
            "INFO:tensorflow:global_step/sec: 844.454\n",
            "INFO:tensorflow:loss = 11.985907, step = 301 (0.121 sec)\n",
            "INFO:tensorflow:global_step/sec: 844.861\n",
            "INFO:tensorflow:loss = 10.267313, step = 401 (0.118 sec)\n",
            "INFO:tensorflow:global_step/sec: 856.697\n",
            "INFO:tensorflow:loss = 9.317684, step = 501 (0.116 sec)\n",
            "INFO:tensorflow:global_step/sec: 868.697\n",
            "INFO:tensorflow:loss = 31.388597, step = 601 (0.120 sec)\n",
            "INFO:tensorflow:global_step/sec: 821.655\n",
            "INFO:tensorflow:loss = 11.83889, step = 701 (0.118 sec)\n",
            "INFO:tensorflow:global_step/sec: 871.821\n",
            "INFO:tensorflow:loss = 20.493534, step = 801 (0.114 sec)\n",
            "INFO:tensorflow:global_step/sec: 881.086\n",
            "INFO:tensorflow:loss = 8.515676, step = 901 (0.118 sec)\n",
            "INFO:tensorflow:global_step/sec: 691.254\n",
            "INFO:tensorflow:loss = 29.373207, step = 1001 (0.140 sec)\n",
            "INFO:tensorflow:global_step/sec: 874.36\n",
            "INFO:tensorflow:loss = 7.3581996, step = 1101 (0.118 sec)\n",
            "INFO:tensorflow:global_step/sec: 841.424\n",
            "INFO:tensorflow:loss = 14.523798, step = 1201 (0.116 sec)\n",
            "INFO:tensorflow:global_step/sec: 861.613\n",
            "INFO:tensorflow:loss = 22.1916, step = 1301 (0.117 sec)\n",
            "INFO:tensorflow:global_step/sec: 856.701\n",
            "INFO:tensorflow:loss = 6.9209037, step = 1401 (0.115 sec)\n",
            "INFO:tensorflow:global_step/sec: 882.939\n",
            "INFO:tensorflow:loss = 10.397718, step = 1501 (0.116 sec)\n",
            "INFO:tensorflow:global_step/sec: 833.159\n",
            "INFO:tensorflow:loss = 11.146368, step = 1601 (0.118 sec)\n",
            "INFO:tensorflow:global_step/sec: 833.407\n",
            "INFO:tensorflow:loss = 5.311083, step = 1701 (0.121 sec)\n",
            "INFO:tensorflow:global_step/sec: 925.707\n",
            "INFO:tensorflow:loss = 7.2337255, step = 1801 (0.114 sec)\n",
            "INFO:tensorflow:global_step/sec: 824.091\n",
            "INFO:tensorflow:loss = 5.817898, step = 1901 (0.118 sec)\n",
            "INFO:tensorflow:global_step/sec: 887.051\n",
            "INFO:tensorflow:loss = 15.236992, step = 2001 (0.112 sec)\n",
            "INFO:tensorflow:global_step/sec: 857.035\n",
            "INFO:tensorflow:loss = 8.802128, step = 2101 (0.116 sec)\n",
            "INFO:tensorflow:global_step/sec: 849.603\n",
            "INFO:tensorflow:loss = 10.080579, step = 2201 (0.117 sec)\n",
            "INFO:tensorflow:global_step/sec: 901.371\n",
            "INFO:tensorflow:loss = 10.82058, step = 2301 (0.110 sec)\n",
            "WARNING:tensorflow:It seems that global step (tf.train.get_global_step) has not been increased. Current value (could be stable): 2303 vs previous value: 2303. You could increase the global step by passing tf.train.get_global_step() to Optimizer.apply_gradients or Optimizer.minimize.\n",
            "INFO:tensorflow:global_step/sec: 872.69\n",
            "INFO:tensorflow:loss = 6.4725103, step = 2401 (0.116 sec)\n",
            "INFO:tensorflow:global_step/sec: 890.401\n",
            "INFO:tensorflow:loss = 16.2173, step = 2501 (0.117 sec)\n",
            "INFO:tensorflow:global_step/sec: 815.652\n",
            "INFO:tensorflow:loss = 25.89807, step = 2601 (0.119 sec)\n",
            "INFO:tensorflow:global_step/sec: 848.179\n",
            "INFO:tensorflow:loss = 5.8174443, step = 2701 (0.119 sec)\n",
            "INFO:tensorflow:global_step/sec: 828.151\n",
            "INFO:tensorflow:loss = 7.152205, step = 2801 (0.121 sec)\n",
            "INFO:tensorflow:global_step/sec: 834.302\n",
            "INFO:tensorflow:loss = 8.905768, step = 2901 (0.118 sec)\n",
            "INFO:tensorflow:global_step/sec: 875.073\n",
            "INFO:tensorflow:loss = 8.171835, step = 3001 (0.115 sec)\n",
            "INFO:tensorflow:global_step/sec: 893.057\n",
            "INFO:tensorflow:loss = 16.002125, step = 3101 (0.115 sec)\n",
            "INFO:tensorflow:global_step/sec: 851.928\n",
            "INFO:tensorflow:loss = 10.681408, step = 3201 (0.119 sec)\n",
            "INFO:tensorflow:global_step/sec: 841.609\n",
            "INFO:tensorflow:loss = 24.228712, step = 3301 (0.115 sec)\n",
            "WARNING:tensorflow:It seems that global step (tf.train.get_global_step) has not been increased. Current value (could be stable): 3370 vs previous value: 3370. You could increase the global step by passing tf.train.get_global_step() to Optimizer.apply_gradients or Optimizer.minimize.\n",
            "INFO:tensorflow:global_step/sec: 813.223\n",
            "INFO:tensorflow:loss = 142.60939, step = 3401 (0.121 sec)\n",
            "WARNING:tensorflow:It seems that global step (tf.train.get_global_step) has not been increased. Current value (could be stable): 3407 vs previous value: 3407. You could increase the global step by passing tf.train.get_global_step() to Optimizer.apply_gradients or Optimizer.minimize.\n",
            "INFO:tensorflow:global_step/sec: 824.216\n",
            "INFO:tensorflow:loss = 7.7258387, step = 3501 (0.122 sec)\n",
            "INFO:tensorflow:global_step/sec: 842.032\n",
            "INFO:tensorflow:loss = 13.512585, step = 3601 (0.119 sec)\n",
            "INFO:tensorflow:global_step/sec: 830.468\n",
            "INFO:tensorflow:loss = 6.9742002, step = 3701 (0.122 sec)\n",
            "WARNING:tensorflow:It seems that global step (tf.train.get_global_step) has not been increased. Current value (could be stable): 3704 vs previous value: 3704. You could increase the global step by passing tf.train.get_global_step() to Optimizer.apply_gradients or Optimizer.minimize.\n",
            "INFO:tensorflow:global_step/sec: 821.586\n",
            "INFO:tensorflow:loss = 4.3206296, step = 3801 (0.120 sec)\n",
            "INFO:tensorflow:global_step/sec: 883.142\n",
            "INFO:tensorflow:loss = 5.176484, step = 3901 (0.114 sec)\n",
            "INFO:tensorflow:global_step/sec: 900.809\n",
            "INFO:tensorflow:loss = 19.646671, step = 4001 (0.113 sec)\n",
            "INFO:tensorflow:global_step/sec: 733.493\n",
            "INFO:tensorflow:loss = 10.550712, step = 4101 (0.134 sec)\n",
            "INFO:tensorflow:global_step/sec: 861.492\n",
            "INFO:tensorflow:loss = 9.278896, step = 4201 (0.119 sec)\n",
            "INFO:tensorflow:global_step/sec: 812.377\n",
            "INFO:tensorflow:loss = 7.915983, step = 4301 (0.119 sec)\n",
            "INFO:tensorflow:global_step/sec: 818.077\n",
            "INFO:tensorflow:loss = 21.50478, step = 4401 (0.126 sec)\n",
            "INFO:tensorflow:global_step/sec: 829.855\n",
            "INFO:tensorflow:loss = 28.916916, step = 4501 (0.118 sec)\n",
            "INFO:tensorflow:global_step/sec: 865.292\n",
            "INFO:tensorflow:loss = 14.412715, step = 4601 (0.116 sec)\n",
            "INFO:tensorflow:global_step/sec: 866.839\n",
            "INFO:tensorflow:loss = 47.58415, step = 4701 (0.117 sec)\n",
            "INFO:tensorflow:global_step/sec: 801.031\n",
            "INFO:tensorflow:loss = 13.066326, step = 4801 (0.123 sec)\n",
            "INFO:tensorflow:global_step/sec: 840.475\n",
            "INFO:tensorflow:loss = 20.700838, step = 4901 (0.120 sec)\n",
            "INFO:tensorflow:global_step/sec: 916.423\n",
            "INFO:tensorflow:loss = 8.627491, step = 5001 (0.109 sec)\n",
            "INFO:tensorflow:global_step/sec: 850.028\n",
            "INFO:tensorflow:loss = 5.741673, step = 5101 (0.118 sec)\n",
            "INFO:tensorflow:global_step/sec: 869.336\n",
            "INFO:tensorflow:loss = 8.775265, step = 5201 (0.114 sec)\n",
            "INFO:tensorflow:global_step/sec: 856.857\n",
            "INFO:tensorflow:loss = 7.656039, step = 5301 (0.119 sec)\n",
            "INFO:tensorflow:global_step/sec: 864.545\n",
            "INFO:tensorflow:loss = 19.957262, step = 5401 (0.119 sec)\n",
            "INFO:tensorflow:global_step/sec: 877.708\n",
            "INFO:tensorflow:loss = 9.628902, step = 5501 (0.108 sec)\n",
            "INFO:tensorflow:global_step/sec: 867.317\n",
            "INFO:tensorflow:loss = 12.749612, step = 5601 (0.115 sec)\n",
            "INFO:tensorflow:global_step/sec: 867.101\n",
            "INFO:tensorflow:loss = 11.807144, step = 5701 (0.118 sec)\n",
            "INFO:tensorflow:global_step/sec: 863.76\n",
            "INFO:tensorflow:loss = 8.316515, step = 5801 (0.116 sec)\n",
            "INFO:tensorflow:global_step/sec: 816.952\n",
            "INFO:tensorflow:loss = 5.301897, step = 5901 (0.120 sec)\n",
            "INFO:tensorflow:global_step/sec: 858.424\n",
            "INFO:tensorflow:loss = 6.080413, step = 6001 (0.118 sec)\n",
            "INFO:tensorflow:global_step/sec: 889.311\n",
            "INFO:tensorflow:loss = 9.391039, step = 6101 (0.113 sec)\n",
            "INFO:tensorflow:global_step/sec: 835.411\n",
            "INFO:tensorflow:loss = 24.996271, step = 6201 (0.122 sec)\n",
            "INFO:tensorflow:global_step/sec: 890.478\n",
            "INFO:tensorflow:loss = 27.816023, step = 6301 (0.110 sec)\n",
            "INFO:tensorflow:global_step/sec: 906.708\n",
            "INFO:tensorflow:loss = 9.207168, step = 6401 (0.109 sec)\n",
            "INFO:tensorflow:global_step/sec: 884.246\n",
            "INFO:tensorflow:loss = 7.3502464, step = 6501 (0.117 sec)\n",
            "INFO:tensorflow:global_step/sec: 864.582\n",
            "INFO:tensorflow:loss = 30.726324, step = 6601 (0.113 sec)\n",
            "INFO:tensorflow:global_step/sec: 899.982\n",
            "INFO:tensorflow:loss = 11.867729, step = 6701 (0.111 sec)\n",
            "INFO:tensorflow:global_step/sec: 858.95\n",
            "INFO:tensorflow:loss = 12.888824, step = 6801 (0.116 sec)\n",
            "INFO:tensorflow:global_step/sec: 887.409\n",
            "INFO:tensorflow:loss = 13.046662, step = 6901 (0.112 sec)\n",
            "INFO:tensorflow:global_step/sec: 879.558\n",
            "INFO:tensorflow:loss = 15.601364, step = 7001 (0.116 sec)\n",
            "INFO:tensorflow:global_step/sec: 820.607\n",
            "INFO:tensorflow:loss = 19.537794, step = 7101 (0.119 sec)\n",
            "INFO:tensorflow:global_step/sec: 850.368\n",
            "INFO:tensorflow:loss = 14.986667, step = 7201 (0.118 sec)\n",
            "INFO:tensorflow:global_step/sec: 837.227\n",
            "INFO:tensorflow:loss = 14.844995, step = 7301 (0.122 sec)\n",
            "INFO:tensorflow:global_step/sec: 868.488\n",
            "INFO:tensorflow:loss = 11.944505, step = 7401 (0.113 sec)\n",
            "INFO:tensorflow:global_step/sec: 857.084\n",
            "INFO:tensorflow:loss = 5.579094, step = 7501 (0.117 sec)\n",
            "INFO:tensorflow:global_step/sec: 905.391\n",
            "INFO:tensorflow:loss = 9.408808, step = 7601 (0.110 sec)\n",
            "INFO:tensorflow:global_step/sec: 856.673\n",
            "INFO:tensorflow:loss = 6.195216, step = 7701 (0.118 sec)\n",
            "INFO:tensorflow:global_step/sec: 881.808\n",
            "INFO:tensorflow:loss = 19.967957, step = 7801 (0.112 sec)\n",
            "INFO:tensorflow:global_step/sec: 815.532\n",
            "INFO:tensorflow:loss = 27.031898, step = 7901 (0.125 sec)\n",
            "INFO:tensorflow:global_step/sec: 836.709\n",
            "INFO:tensorflow:loss = 6.8459024, step = 8001 (0.118 sec)\n",
            "INFO:tensorflow:global_step/sec: 799.314\n",
            "INFO:tensorflow:loss = 11.267656, step = 8101 (0.126 sec)\n",
            "INFO:tensorflow:global_step/sec: 850.352\n",
            "INFO:tensorflow:loss = 16.248209, step = 8201 (0.116 sec)\n",
            "INFO:tensorflow:global_step/sec: 830.613\n",
            "INFO:tensorflow:loss = 14.824047, step = 8301 (0.121 sec)\n",
            "INFO:tensorflow:global_step/sec: 853.33\n",
            "INFO:tensorflow:loss = 57.66594, step = 8401 (0.117 sec)\n",
            "INFO:tensorflow:global_step/sec: 882.042\n",
            "INFO:tensorflow:loss = 14.750822, step = 8501 (0.116 sec)\n",
            "INFO:tensorflow:global_step/sec: 820.264\n",
            "INFO:tensorflow:loss = 10.110691, step = 8601 (0.120 sec)\n",
            "INFO:tensorflow:global_step/sec: 906.326\n",
            "INFO:tensorflow:loss = 7.0482755, step = 8701 (0.112 sec)\n",
            "INFO:tensorflow:global_step/sec: 857.233\n",
            "INFO:tensorflow:loss = 6.048579, step = 8801 (0.116 sec)\n",
            "INFO:tensorflow:global_step/sec: 902.888\n",
            "INFO:tensorflow:loss = 9.569312, step = 8901 (0.111 sec)\n",
            "INFO:tensorflow:global_step/sec: 902.873\n",
            "INFO:tensorflow:loss = 25.503616, step = 9001 (0.110 sec)\n",
            "INFO:tensorflow:global_step/sec: 905.016\n",
            "INFO:tensorflow:loss = 8.1383915, step = 9101 (0.112 sec)\n",
            "INFO:tensorflow:global_step/sec: 857.641\n",
            "INFO:tensorflow:loss = 10.350895, step = 9201 (0.116 sec)\n",
            "INFO:tensorflow:global_step/sec: 844.575\n",
            "INFO:tensorflow:loss = 12.864151, step = 9301 (0.115 sec)\n",
            "INFO:tensorflow:global_step/sec: 853.545\n",
            "INFO:tensorflow:loss = 11.771713, step = 9401 (0.119 sec)\n",
            "INFO:tensorflow:global_step/sec: 844.257\n",
            "INFO:tensorflow:loss = 47.778717, step = 9501 (0.115 sec)\n",
            "INFO:tensorflow:global_step/sec: 827.953\n",
            "INFO:tensorflow:loss = 4.981138, step = 9601 (0.126 sec)\n",
            "INFO:tensorflow:global_step/sec: 793.602\n",
            "INFO:tensorflow:loss = 11.940674, step = 9701 (0.124 sec)\n",
            "INFO:tensorflow:global_step/sec: 845.708\n",
            "INFO:tensorflow:loss = 9.057905, step = 9801 (0.116 sec)\n",
            "INFO:tensorflow:global_step/sec: 875.332\n",
            "INFO:tensorflow:loss = 33.397972, step = 9901 (0.116 sec)\n",
            "INFO:tensorflow:Calling checkpoint listeners before saving checkpoint 10000...\n",
            "INFO:tensorflow:Saving checkpoints for 10000 into /tmp/tmp6ya3tc6w/model.ckpt.\n",
            "INFO:tensorflow:Calling checkpoint listeners after saving checkpoint 10000...\n",
            "INFO:tensorflow:Loss for final step: 6.205703.\n"
          ],
          "name": "stdout"
        },
        {
          "output_type": "execute_result",
          "data": {
            "text/plain": [
              "<tensorflow_estimator.python.estimator.canned.linear.LinearRegressor at 0x7fbcb57d3ba8>"
            ]
          },
          "metadata": {
            "tags": []
          },
          "execution_count": 31
        }
      ]
    },
    {
      "cell_type": "markdown",
      "metadata": {
        "id": "Vvjq-_rmC7Cq",
        "colab_type": "text"
      },
      "source": [
        "### Para visualizar algumas métricas"
      ]
    },
    {
      "cell_type": "code",
      "metadata": {
        "id": "57AR7AG-C-2n",
        "colab_type": "code",
        "colab": {
          "base_uri": "https://localhost:8080/",
          "height": 399
        },
        "outputId": "184a3d58-b434-4caf-d100-5d17a29f8615"
      },
      "source": [
        "metricas_treinamento = regressor.evaluate(input_fn=funcao_treinamento, steps=10000)"
      ],
      "execution_count": 32,
      "outputs": [
        {
          "output_type": "stream",
          "text": [
            "INFO:tensorflow:Calling model_fn.\n",
            "INFO:tensorflow:Done calling model_fn.\n",
            "INFO:tensorflow:Starting evaluation at 2020-05-22T15:42:40Z\n",
            "INFO:tensorflow:Graph was finalized.\n",
            "INFO:tensorflow:Restoring parameters from /tmp/tmp6ya3tc6w/model.ckpt-10000\n",
            "INFO:tensorflow:Running local_init_op.\n",
            "INFO:tensorflow:Done running local_init_op.\n",
            "INFO:tensorflow:Evaluation [1000/10000]\n",
            "INFO:tensorflow:Evaluation [2000/10000]\n",
            "INFO:tensorflow:Evaluation [3000/10000]\n",
            "INFO:tensorflow:Evaluation [4000/10000]\n",
            "INFO:tensorflow:Evaluation [5000/10000]\n",
            "INFO:tensorflow:Evaluation [6000/10000]\n",
            "INFO:tensorflow:Evaluation [7000/10000]\n",
            "INFO:tensorflow:Evaluation [8000/10000]\n",
            "INFO:tensorflow:Evaluation [9000/10000]\n",
            "INFO:tensorflow:Evaluation [10000/10000]\n",
            "INFO:tensorflow:Inference Time : 9.95610s\n",
            "INFO:tensorflow:Finished evaluation at 2020-05-22-15:42:50\n",
            "INFO:tensorflow:Saving dict for global step 10000: average_loss = 0.4892956, global_step = 10000, label/mean = -0.0033089374, loss = 15.657459, prediction/mean = 0.0077664442\n",
            "INFO:tensorflow:Saving 'checkpoint_path' summary for global step 10000: /tmp/tmp6ya3tc6w/model.ckpt-10000\n"
          ],
          "name": "stdout"
        }
      ]
    },
    {
      "cell_type": "markdown",
      "metadata": {
        "id": "M669oG-SDQEt",
        "colab_type": "text"
      },
      "source": [
        "Métricas da base de teste:"
      ]
    },
    {
      "cell_type": "code",
      "metadata": {
        "id": "dRDyPIWyDSfo",
        "colab_type": "code",
        "colab": {
          "base_uri": "https://localhost:8080/",
          "height": 399
        },
        "outputId": "d81de6e4-58cf-469d-909f-a70aa19de8e9"
      },
      "source": [
        "metricas_teste = regressor.evaluate(input_fn=funcao_teste, steps=10000)"
      ],
      "execution_count": 33,
      "outputs": [
        {
          "output_type": "stream",
          "text": [
            "INFO:tensorflow:Calling model_fn.\n",
            "INFO:tensorflow:Done calling model_fn.\n",
            "INFO:tensorflow:Starting evaluation at 2020-05-22T15:44:02Z\n",
            "INFO:tensorflow:Graph was finalized.\n",
            "INFO:tensorflow:Restoring parameters from /tmp/tmp6ya3tc6w/model.ckpt-10000\n",
            "INFO:tensorflow:Running local_init_op.\n",
            "INFO:tensorflow:Done running local_init_op.\n",
            "INFO:tensorflow:Evaluation [1000/10000]\n",
            "INFO:tensorflow:Evaluation [2000/10000]\n",
            "INFO:tensorflow:Evaluation [3000/10000]\n",
            "INFO:tensorflow:Evaluation [4000/10000]\n",
            "INFO:tensorflow:Evaluation [5000/10000]\n",
            "INFO:tensorflow:Evaluation [6000/10000]\n",
            "INFO:tensorflow:Evaluation [7000/10000]\n",
            "INFO:tensorflow:Evaluation [8000/10000]\n",
            "INFO:tensorflow:Evaluation [9000/10000]\n",
            "INFO:tensorflow:Evaluation [10000/10000]\n",
            "INFO:tensorflow:Inference Time : 10.29179s\n",
            "INFO:tensorflow:Finished evaluation at 2020-05-22-15:44:12\n",
            "INFO:tensorflow:Saving dict for global step 10000: average_loss = 0.55031896, global_step = 10000, label/mean = 0.0075356276, loss = 17.610207, prediction/mean = 0.011026491\n",
            "INFO:tensorflow:Saving 'checkpoint_path' summary for global step 10000: /tmp/tmp6ya3tc6w/model.ckpt-10000\n"
          ],
          "name": "stdout"
        }
      ]
    },
    {
      "cell_type": "markdown",
      "metadata": {
        "id": "5lCgqrNaDjf8",
        "colab_type": "text"
      },
      "source": [
        "Realizando algumas comparações:\n",
        "\n",
        "Em geral, o item 'loss' será melhor no treinamento do que no teste."
      ]
    },
    {
      "cell_type": "code",
      "metadata": {
        "id": "5gfoACASDnay",
        "colab_type": "code",
        "colab": {
          "base_uri": "https://localhost:8080/",
          "height": 53
        },
        "outputId": "db30dd07-2975-465f-a1bd-88a7c99d6fea"
      },
      "source": [
        "print(metricas_treinamento)\n",
        "print(metricas_teste)"
      ],
      "execution_count": 35,
      "outputs": [
        {
          "output_type": "stream",
          "text": [
            "{'average_loss': 0.4892956, 'label/mean': -0.0033089374, 'loss': 15.657459, 'prediction/mean': 0.0077664442, 'global_step': 10000}\n",
            "{'average_loss': 0.55031896, 'label/mean': 0.0075356276, 'loss': 17.610207, 'prediction/mean': 0.011026491, 'global_step': 10000}\n"
          ],
          "name": "stdout"
        }
      ]
    },
    {
      "cell_type": "markdown",
      "metadata": {
        "id": "O58CQgxbEHSZ",
        "colab_type": "text"
      },
      "source": [
        "Nosso modelo está pronto!"
      ]
    },
    {
      "cell_type": "markdown",
      "metadata": {
        "id": "e0I2wz2rEJdU",
        "colab_type": "text"
      },
      "source": [
        "## Previsões"
      ]
    },
    {
      "cell_type": "code",
      "metadata": {
        "id": "veswYhnWELpD",
        "colab_type": "code",
        "colab": {}
      },
      "source": [
        "import numpy as np"
      ],
      "execution_count": 0,
      "outputs": []
    },
    {
      "cell_type": "markdown",
      "metadata": {
        "id": "sx1ZLH-eEfno",
        "colab_type": "text"
      },
      "source": [
        "Objetivo: prever o preço das casas baseada na metragem informada abaixo:"
      ]
    },
    {
      "cell_type": "code",
      "metadata": {
        "id": "wvj54GH1ETFS",
        "colab_type": "code",
        "colab": {
          "base_uri": "https://localhost:8080/",
          "height": 72
        },
        "outputId": "7f0f101d-88a2-40f8-992e-ecc7bbd194b1"
      },
      "source": [
        "novas_casas = np.array([[800],[900],[1000]])\n",
        "print(novas_casas)"
      ],
      "execution_count": 38,
      "outputs": [
        {
          "output_type": "stream",
          "text": [
            "[[ 800]\n",
            " [ 900]\n",
            " [1000]]\n"
          ],
          "name": "stdout"
        }
      ]
    },
    {
      "cell_type": "markdown",
      "metadata": {
        "id": "aN4qckP-E1Mh",
        "colab_type": "text"
      },
      "source": [
        "Fazer o escalonamento:"
      ]
    },
    {
      "cell_type": "code",
      "metadata": {
        "id": "NQr-Npd9EoqF",
        "colab_type": "code",
        "colab": {
          "base_uri": "https://localhost:8080/",
          "height": 72
        },
        "outputId": "4f2c6156-ac52-4a00-a44a-7f7b1afa9c8a"
      },
      "source": [
        "novas_casas = scaler_x.transform(novas_casas)\n",
        "print(novas_casas)"
      ],
      "execution_count": 39,
      "outputs": [
        {
          "output_type": "stream",
          "text": [
            "[[-1.39358923]\n",
            " [-1.28470655]\n",
            " [-1.17582386]]\n"
          ],
          "name": "stdout"
        }
      ]
    },
    {
      "cell_type": "markdown",
      "metadata": {
        "id": "I9lMSleGFCFB",
        "colab_type": "text"
      },
      "source": [
        "Criar uma função para fazer a previsão desses novos registros:"
      ]
    },
    {
      "cell_type": "code",
      "metadata": {
        "id": "budR0FhgFGoF",
        "colab_type": "code",
        "colab": {}
      },
      "source": [
        "funcao_previsao = tf.estimator.inputs.numpy_input_fn({'x': novas_casas}, shuffle=False)"
      ],
      "execution_count": 0,
      "outputs": []
    },
    {
      "cell_type": "code",
      "metadata": {
        "id": "MIRTgjWRFUii",
        "colab_type": "code",
        "colab": {}
      },
      "source": [
        "previsoes = regressor.predict(input_fn=funcao_previsao)"
      ],
      "execution_count": 0,
      "outputs": []
    },
    {
      "cell_type": "code",
      "metadata": {
        "id": "I00Ie5sJFatX",
        "colab_type": "code",
        "colab": {
          "base_uri": "https://localhost:8080/",
          "height": 181
        },
        "outputId": "aff25773-0ce2-4077-c2b6-b52a643fc13c"
      },
      "source": [
        "list(previsoes) # predictions está escalonado"
      ],
      "execution_count": 43,
      "outputs": [
        {
          "output_type": "stream",
          "text": [
            "INFO:tensorflow:Calling model_fn.\n",
            "INFO:tensorflow:Done calling model_fn.\n",
            "INFO:tensorflow:Graph was finalized.\n",
            "INFO:tensorflow:Restoring parameters from /tmp/tmp6ya3tc6w/model.ckpt-10000\n",
            "INFO:tensorflow:Running local_init_op.\n",
            "INFO:tensorflow:Done running local_init_op.\n"
          ],
          "name": "stdout"
        },
        {
          "output_type": "execute_result",
          "data": {
            "text/plain": [
              "[{'predictions': array([-0.9384173], dtype=float32)},\n",
              " {'predictions': array([-0.86441296], dtype=float32)},\n",
              " {'predictions': array([-0.7904085], dtype=float32)}]"
            ]
          },
          "metadata": {
            "tags": []
          },
          "execution_count": 43
        }
      ]
    },
    {
      "cell_type": "markdown",
      "metadata": {
        "id": "RTNvwqEBFq6z",
        "colab_type": "text"
      },
      "source": [
        "Faremos um `for` para percorrer esses generators e obter o valor das casas em dolar, e não escalonados."
      ]
    },
    {
      "cell_type": "code",
      "metadata": {
        "id": "OagpQBNIFdCQ",
        "colab_type": "code",
        "colab": {
          "base_uri": "https://localhost:8080/",
          "height": 181
        },
        "outputId": "e5c809d9-fdb5-4cbc-ec87-aeed15fb2bee"
      },
      "source": [
        "for p in regressor.predict(input_fn=funcao_previsao):\n",
        "  #print(p['predictions'])\n",
        "  print(scaler_y.inverse_transform(p['predictions']))"
      ],
      "execution_count": 44,
      "outputs": [
        {
          "output_type": "stream",
          "text": [
            "INFO:tensorflow:Calling model_fn.\n",
            "INFO:tensorflow:Done calling model_fn.\n",
            "INFO:tensorflow:Graph was finalized.\n",
            "INFO:tensorflow:Restoring parameters from /tmp/tmp6ya3tc6w/model.ckpt-10000\n",
            "INFO:tensorflow:Running local_init_op.\n",
            "INFO:tensorflow:Done running local_init_op.\n",
            "[195577.58]\n",
            "[222745.98]\n",
            "[249914.39]\n"
          ],
          "name": "stdout"
        }
      ]
    },
    {
      "cell_type": "markdown",
      "metadata": {
        "id": "oH4SCFk-G7s4",
        "colab_type": "text"
      },
      "source": [
        "Observe que conforme a metragem aumenta, também aumenta o preço da casa."
      ]
    }
  ]
}