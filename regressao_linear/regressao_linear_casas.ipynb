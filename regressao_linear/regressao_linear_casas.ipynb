{
  "nbformat": 4,
  "nbformat_minor": 0,
  "metadata": {
    "colab": {
      "name": "regressao_linear_casas.ipynb",
      "provenance": [],
      "collapsed_sections": [],
      "authorship_tag": "ABX9TyObVA0T8Ye5XnnHSirMnqXW"
    },
    "kernelspec": {
      "name": "python3",
      "display_name": "Python 3"
    }
  },
  "cells": [
    {
      "cell_type": "markdown",
      "metadata": {
        "id": "o_PS3HrSTuqa",
        "colab_type": "text"
      },
      "source": [
        "# Previsão do Preço de Casas\n",
        "\n",
        "Base de dados retirada do Kaggle, disponível neste [Link](https://www.kaggle.com/harlfoxem/housesalesprediction).\n"
      ]
    },
    {
      "cell_type": "markdown",
      "metadata": {
        "id": "-ZaRqcBsU45W",
        "colab_type": "text"
      },
      "source": [
        "Bibliotecas:"
      ]
    },
    {
      "cell_type": "code",
      "metadata": {
        "id": "9MN-DUegTlAM",
        "colab_type": "code",
        "colab": {}
      },
      "source": [
        "import pandas as pd\n",
        "#import io\n",
        "#import requests\n",
        "url = 'https://raw.githubusercontent.com/diegogrr/UdemyTF/master/regressao_linear/original.csv'\n",
        "#s = requests.get(url).content\n",
        "#base = pd.read_csv(io.StringIO(s.decode('utf-8')),error_bad_lines=False)\n",
        "base = pd.read_csv(url)"
      ],
      "execution_count": 0,
      "outputs": []
    },
    {
      "cell_type": "code",
      "metadata": {
        "id": "d0NvQHC6VJcV",
        "colab_type": "code",
        "colab": {
          "base_uri": "https://localhost:8080/",
          "height": 226
        },
        "outputId": "d1c36fe9-36d6-4b92-c5dd-50b97f405e4f"
      },
      "source": [
        "base.head()"
      ],
      "execution_count": 50,
      "outputs": [
        {
          "output_type": "execute_result",
          "data": {
            "text/html": [
              "<div>\n",
              "<style scoped>\n",
              "    .dataframe tbody tr th:only-of-type {\n",
              "        vertical-align: middle;\n",
              "    }\n",
              "\n",
              "    .dataframe tbody tr th {\n",
              "        vertical-align: top;\n",
              "    }\n",
              "\n",
              "    .dataframe thead th {\n",
              "        text-align: right;\n",
              "    }\n",
              "</style>\n",
              "<table border=\"1\" class=\"dataframe\">\n",
              "  <thead>\n",
              "    <tr style=\"text-align: right;\">\n",
              "      <th></th>\n",
              "      <th>id</th>\n",
              "      <th>date</th>\n",
              "      <th>price</th>\n",
              "      <th>bedrooms</th>\n",
              "      <th>bathrooms</th>\n",
              "      <th>sqft_living</th>\n",
              "      <th>sqft_lot</th>\n",
              "      <th>floors</th>\n",
              "      <th>waterfront</th>\n",
              "      <th>view</th>\n",
              "      <th>condition</th>\n",
              "      <th>grade</th>\n",
              "      <th>sqft_above</th>\n",
              "      <th>sqft_basement</th>\n",
              "      <th>yr_built</th>\n",
              "      <th>yr_renovated</th>\n",
              "      <th>zipcode</th>\n",
              "      <th>lat</th>\n",
              "      <th>long</th>\n",
              "      <th>sqft_living15</th>\n",
              "      <th>sqft_lot15</th>\n",
              "    </tr>\n",
              "  </thead>\n",
              "  <tbody>\n",
              "    <tr>\n",
              "      <th>0</th>\n",
              "      <td>7129300520</td>\n",
              "      <td>20141013T000000</td>\n",
              "      <td>221900.0</td>\n",
              "      <td>3</td>\n",
              "      <td>1.00</td>\n",
              "      <td>1180</td>\n",
              "      <td>5650</td>\n",
              "      <td>1.0</td>\n",
              "      <td>0</td>\n",
              "      <td>0</td>\n",
              "      <td>3</td>\n",
              "      <td>7</td>\n",
              "      <td>1180</td>\n",
              "      <td>0</td>\n",
              "      <td>1955</td>\n",
              "      <td>0</td>\n",
              "      <td>98178</td>\n",
              "      <td>47.5112</td>\n",
              "      <td>-122.257</td>\n",
              "      <td>1340</td>\n",
              "      <td>5650</td>\n",
              "    </tr>\n",
              "    <tr>\n",
              "      <th>1</th>\n",
              "      <td>6414100192</td>\n",
              "      <td>20141209T000000</td>\n",
              "      <td>538000.0</td>\n",
              "      <td>3</td>\n",
              "      <td>2.25</td>\n",
              "      <td>2570</td>\n",
              "      <td>7242</td>\n",
              "      <td>2.0</td>\n",
              "      <td>0</td>\n",
              "      <td>0</td>\n",
              "      <td>3</td>\n",
              "      <td>7</td>\n",
              "      <td>2170</td>\n",
              "      <td>400</td>\n",
              "      <td>1951</td>\n",
              "      <td>1991</td>\n",
              "      <td>98125</td>\n",
              "      <td>47.7210</td>\n",
              "      <td>-122.319</td>\n",
              "      <td>1690</td>\n",
              "      <td>7639</td>\n",
              "    </tr>\n",
              "    <tr>\n",
              "      <th>2</th>\n",
              "      <td>5631500400</td>\n",
              "      <td>20150225T000000</td>\n",
              "      <td>180000.0</td>\n",
              "      <td>2</td>\n",
              "      <td>1.00</td>\n",
              "      <td>770</td>\n",
              "      <td>10000</td>\n",
              "      <td>1.0</td>\n",
              "      <td>0</td>\n",
              "      <td>0</td>\n",
              "      <td>3</td>\n",
              "      <td>6</td>\n",
              "      <td>770</td>\n",
              "      <td>0</td>\n",
              "      <td>1933</td>\n",
              "      <td>0</td>\n",
              "      <td>98028</td>\n",
              "      <td>47.7379</td>\n",
              "      <td>-122.233</td>\n",
              "      <td>2720</td>\n",
              "      <td>8062</td>\n",
              "    </tr>\n",
              "    <tr>\n",
              "      <th>3</th>\n",
              "      <td>2487200875</td>\n",
              "      <td>20141209T000000</td>\n",
              "      <td>604000.0</td>\n",
              "      <td>4</td>\n",
              "      <td>3.00</td>\n",
              "      <td>1960</td>\n",
              "      <td>5000</td>\n",
              "      <td>1.0</td>\n",
              "      <td>0</td>\n",
              "      <td>0</td>\n",
              "      <td>5</td>\n",
              "      <td>7</td>\n",
              "      <td>1050</td>\n",
              "      <td>910</td>\n",
              "      <td>1965</td>\n",
              "      <td>0</td>\n",
              "      <td>98136</td>\n",
              "      <td>47.5208</td>\n",
              "      <td>-122.393</td>\n",
              "      <td>1360</td>\n",
              "      <td>5000</td>\n",
              "    </tr>\n",
              "    <tr>\n",
              "      <th>4</th>\n",
              "      <td>1954400510</td>\n",
              "      <td>20150218T000000</td>\n",
              "      <td>510000.0</td>\n",
              "      <td>3</td>\n",
              "      <td>2.00</td>\n",
              "      <td>1680</td>\n",
              "      <td>8080</td>\n",
              "      <td>1.0</td>\n",
              "      <td>0</td>\n",
              "      <td>0</td>\n",
              "      <td>3</td>\n",
              "      <td>8</td>\n",
              "      <td>1680</td>\n",
              "      <td>0</td>\n",
              "      <td>1987</td>\n",
              "      <td>0</td>\n",
              "      <td>98074</td>\n",
              "      <td>47.6168</td>\n",
              "      <td>-122.045</td>\n",
              "      <td>1800</td>\n",
              "      <td>7503</td>\n",
              "    </tr>\n",
              "  </tbody>\n",
              "</table>\n",
              "</div>"
            ],
            "text/plain": [
              "           id             date     price  ...     long  sqft_living15  sqft_lot15\n",
              "0  7129300520  20141013T000000  221900.0  ... -122.257           1340        5650\n",
              "1  6414100192  20141209T000000  538000.0  ... -122.319           1690        7639\n",
              "2  5631500400  20150225T000000  180000.0  ... -122.233           2720        8062\n",
              "3  2487200875  20141209T000000  604000.0  ... -122.393           1360        5000\n",
              "4  1954400510  20150218T000000  510000.0  ... -122.045           1800        7503\n",
              "\n",
              "[5 rows x 21 columns]"
            ]
          },
          "metadata": {
            "tags": []
          },
          "execution_count": 50
        }
      ]
    },
    {
      "cell_type": "markdown",
      "metadata": {
        "id": "DLI1t8kIY6lp",
        "colab_type": "text"
      },
      "source": [
        "Visualizar quantos registro há nessa base de dados:"
      ]
    },
    {
      "cell_type": "code",
      "metadata": {
        "id": "DwhJpEhYY90R",
        "colab_type": "code",
        "colab": {
          "base_uri": "https://localhost:8080/",
          "height": 417
        },
        "outputId": "90700220-3b56-4915-d406-465cbee5650a"
      },
      "source": [
        "print(base.count())"
      ],
      "execution_count": 51,
      "outputs": [
        {
          "output_type": "stream",
          "text": [
            "id               21613\n",
            "date             21613\n",
            "price            21613\n",
            "bedrooms         21613\n",
            "bathrooms        21613\n",
            "sqft_living      21613\n",
            "sqft_lot         21613\n",
            "floors           21613\n",
            "waterfront       21613\n",
            "view             21613\n",
            "condition        21613\n",
            "grade            21613\n",
            "sqft_above       21613\n",
            "sqft_basement    21613\n",
            "yr_built         21613\n",
            "yr_renovated     21613\n",
            "zipcode          21613\n",
            "lat              21613\n",
            "long             21613\n",
            "sqft_living15    21613\n",
            "sqft_lot15       21613\n",
            "dtype: int64\n"
          ],
          "name": "stdout"
        }
      ]
    },
    {
      "cell_type": "markdown",
      "metadata": {
        "id": "6vpTLE_0ZMbo",
        "colab_type": "text"
      },
      "source": [
        "Visualizar a quantidade de registros e atributos:"
      ]
    },
    {
      "cell_type": "code",
      "metadata": {
        "id": "9x813wxuZREP",
        "colab_type": "code",
        "colab": {
          "base_uri": "https://localhost:8080/",
          "height": 35
        },
        "outputId": "810b7da3-a1d4-48b1-a5e9-ba00c3acd46c"
      },
      "source": [
        "print(base.shape)"
      ],
      "execution_count": 52,
      "outputs": [
        {
          "output_type": "stream",
          "text": [
            "(21613, 21)\n"
          ],
          "name": "stdout"
        }
      ]
    },
    {
      "cell_type": "markdown",
      "metadata": {
        "id": "W8TroRzQZXL8",
        "colab_type": "text"
      },
      "source": [
        "Criaremos as variáveis:\n",
        "\n",
        "\n",
        "*   'x' que armazenará a metragem quadrada (*sqft_living*).\n",
        "*   'y' valor das casas (*price*).\n",
        "\n"
      ]
    },
    {
      "cell_type": "code",
      "metadata": {
        "id": "WL1jdw5MZ5bL",
        "colab_type": "code",
        "colab": {
          "base_uri": "https://localhost:8080/",
          "height": 35
        },
        "outputId": "d608e5dc-4909-4dfb-fee5-593be82dcbce"
      },
      "source": [
        "x = base.iloc[:,5].values # todas as linhas da coluna 5\n",
        "print(x.shape)"
      ],
      "execution_count": 53,
      "outputs": [
        {
          "output_type": "stream",
          "text": [
            "(21613,)\n"
          ],
          "name": "stdout"
        }
      ]
    },
    {
      "cell_type": "code",
      "metadata": {
        "id": "_7eZ3w4oc8O1",
        "colab_type": "code",
        "colab": {
          "base_uri": "https://localhost:8080/",
          "height": 35
        },
        "outputId": "d981a0ba-ab8b-4c63-da0f-e956c6031bfc"
      },
      "source": [
        "x = x.reshape(-1,1) # não será alterada as linhas, será adicionada uma coluna\n",
        "print(x.shape)"
      ],
      "execution_count": 54,
      "outputs": [
        {
          "output_type": "stream",
          "text": [
            "(21613, 1)\n"
          ],
          "name": "stdout"
        }
      ]
    },
    {
      "cell_type": "markdown",
      "metadata": {
        "id": "Wc5rYPuid0yM",
        "colab_type": "text"
      },
      "source": [
        "Agora temos o 'x' no formato matriz:"
      ]
    },
    {
      "cell_type": "code",
      "metadata": {
        "id": "iQFS7Ao1d4IJ",
        "colab_type": "code",
        "colab": {
          "base_uri": "https://localhost:8080/",
          "height": 144
        },
        "outputId": "83c14868-8bf0-4044-961a-75f89573173d"
      },
      "source": [
        "print(x)"
      ],
      "execution_count": 55,
      "outputs": [
        {
          "output_type": "stream",
          "text": [
            "[[1180]\n",
            " [2570]\n",
            " [ 770]\n",
            " ...\n",
            " [1020]\n",
            " [1600]\n",
            " [1020]]\n"
          ],
          "name": "stdout"
        }
      ]
    },
    {
      "cell_type": "markdown",
      "metadata": {
        "id": "zV2lGsfCd9Fs",
        "colab_type": "text"
      },
      "source": [
        "Agora com a variável 'y':"
      ]
    },
    {
      "cell_type": "code",
      "metadata": {
        "id": "ZDgQSnqgeAVs",
        "colab_type": "code",
        "colab": {
          "base_uri": "https://localhost:8080/",
          "height": 35
        },
        "outputId": "d558639e-0af8-45d2-8b22-b4f189c75dc7"
      },
      "source": [
        "y = base.iloc[:,2:3].values\n",
        "print(y.shape)"
      ],
      "execution_count": 56,
      "outputs": [
        {
          "output_type": "stream",
          "text": [
            "(21613, 1)\n"
          ],
          "name": "stdout"
        }
      ]
    },
    {
      "cell_type": "markdown",
      "metadata": {
        "id": "3UUMfB0OeSdM",
        "colab_type": "text"
      },
      "source": [
        "## Escalonamento dos Valores"
      ]
    },
    {
      "cell_type": "code",
      "metadata": {
        "id": "7gzAQdCPeVVa",
        "colab_type": "code",
        "colab": {
          "base_uri": "https://localhost:8080/",
          "height": 290
        },
        "outputId": "2d23e868-63e0-41f8-f9f4-a27a6377c515"
      },
      "source": [
        "from sklearn.preprocessing import StandardScaler\n",
        "# metragem quadrada\n",
        "scaler_x = StandardScaler()\n",
        "x = scaler_x.fit_transform(x)\n",
        "print(x)\n",
        "print()\n",
        "#preço da casa\n",
        "scaler_y = StandardScaler()\n",
        "y = scaler_y.fit_transform(y)\n",
        "print(y)"
      ],
      "execution_count": 57,
      "outputs": [
        {
          "output_type": "stream",
          "text": [
            "[[-0.97983502]\n",
            " [ 0.53363434]\n",
            " [-1.42625404]\n",
            " ...\n",
            " [-1.15404732]\n",
            " [-0.52252773]\n",
            " [-1.15404732]]\n",
            "\n",
            "[[-0.86671733]\n",
            " [-0.00568792]\n",
            " [-0.98084935]\n",
            " ...\n",
            " [-0.37586519]\n",
            " [-0.38158814]\n",
            " [-0.58588173]]\n"
          ],
          "name": "stdout"
        }
      ]
    },
    {
      "cell_type": "markdown",
      "metadata": {
        "id": "DE7KqQnMfFzL",
        "colab_type": "text"
      },
      "source": [
        "### Gráfico"
      ]
    },
    {
      "cell_type": "code",
      "metadata": {
        "id": "WmOsPAaJfDnS",
        "colab_type": "code",
        "colab": {
          "base_uri": "https://localhost:8080/",
          "height": 283
        },
        "outputId": "2b21eb64-6175-4f4e-8b42-21db3d9cf74e"
      },
      "source": [
        "import matplotlib.pyplot as plt\n",
        "%matplotlib inline\n",
        "plt.scatter(x,y)"
      ],
      "execution_count": 58,
      "outputs": [
        {
          "output_type": "execute_result",
          "data": {
            "text/plain": [
              "<matplotlib.collections.PathCollection at 0x7f235824ada0>"
            ]
          },
          "metadata": {
            "tags": []
          },
          "execution_count": 58
        },
        {
          "output_type": "display_data",
          "data": {
            "image/png": "[encoded data removed]",
            "text/plain": [
              "<Figure size 432x288 with 1 Axes>"
            ]
          },
          "metadata": {
            "tags": [],
            "needs_background": "light"
          }
        }
      ]
    },
    {
      "cell_type": "markdown",
      "metadata": {
        "id": "MsUqtYFZfp31",
        "colab_type": "text"
      },
      "source": [
        "## Fórmula da Regressão Linear Simples\n",
        "\n",
        "Agora nós criaremos a nossa fórmula para regressão linear simples. \n",
        "\n",
        "y = $b_0$ + $b_1$ * $x_1$\n",
        "\n",
        "Onde:\n",
        "\n",
        "\n",
        "*   y = previsão do preço de venda;\n",
        "*   $b_0$ = constante, valor inicial;\n",
        "*   $b_1$ = coeficiente, declive da linha;\n",
        "*   $x_1$ = metragem quadrada."
      ]
    },
    {
      "cell_type": "markdown",
      "metadata": {
        "id": "vuUCAg1zud1R",
        "colab_type": "text"
      },
      "source": [
        "## Construção do Modelo"
      ]
    },
    {
      "cell_type": "code",
      "metadata": {
        "id": "i5Y8P_RGfwjK",
        "colab_type": "code",
        "colab": {
          "base_uri": "https://localhost:8080/",
          "height": 35
        },
        "outputId": "02e1450d-ee01-43b9-fcfe-7c01c60d1e68"
      },
      "source": [
        "import numpy as np\n",
        "np.random.seed(1)\n",
        "np.random.rand(2)"
      ],
      "execution_count": 59,
      "outputs": [
        {
          "output_type": "execute_result",
          "data": {
            "text/plain": [
              "array([0.417022  , 0.72032449])"
            ]
          },
          "metadata": {
            "tags": []
          },
          "execution_count": 59
        }
      ]
    },
    {
      "cell_type": "markdown",
      "metadata": {
        "id": "LWOqkMWDspvY",
        "colab_type": "text"
      },
      "source": [
        "Importar o TensorFlow:"
      ]
    },
    {
      "cell_type": "code",
      "metadata": {
        "id": "qhIQs8eIstiR",
        "colab_type": "code",
        "colab": {
          "base_uri": "https://localhost:8080/",
          "height": 35
        },
        "outputId": "ba006215-ea13-4b83-ccaf-7831b4c2cc5b"
      },
      "source": [
        "import tensorflow.compat.v1 as tf\n",
        "tf.disable_v2_behavior()\n",
        "tf.__version__"
      ],
      "execution_count": 60,
      "outputs": [
        {
          "output_type": "execute_result",
          "data": {
            "text/plain": [
              "'2.2.0'"
            ]
          },
          "metadata": {
            "tags": []
          },
          "execution_count": 60
        }
      ]
    },
    {
      "cell_type": "code",
      "metadata": {
        "id": "dPodk4xQsyvE",
        "colab_type": "code",
        "colab": {}
      },
      "source": [
        "b0 = tf.Variable(0.41)\n",
        "b1 = tf.Variable(0.72)"
      ],
      "execution_count": 0,
      "outputs": []
    },
    {
      "cell_type": "markdown",
      "metadata": {
        "id": "7_ExN_iWtDHV",
        "colab_type": "text"
      },
      "source": [
        "Como nós temos mais registro, faremos um processo diferente do exercício anterior. Vamos utilizar o conceito de placeholders."
      ]
    },
    {
      "cell_type": "code",
      "metadata": {
        "id": "nmlMuWAvtABn",
        "colab_type": "code",
        "colab": {}
      },
      "source": [
        "batch_size = 32 # uma forma de segmentar o envio de dados para o processamento\n",
        "xph = tf.placeholder(tf.float32, [batch_size, 1]) # metragem quadrada\n",
        "yph = tf.placeholder(tf.float32, [batch_size, 1]) # preço da casa"
      ],
      "execution_count": 0,
      "outputs": []
    },
    {
      "cell_type": "markdown",
      "metadata": {
        "id": "5odB7OpkusqE",
        "colab_type": "text"
      },
      "source": [
        "Criação do modelo que irá representar as previsões:"
      ]
    },
    {
      "cell_type": "code",
      "metadata": {
        "id": "24fxPCZeuv-B",
        "colab_type": "code",
        "colab": {}
      },
      "source": [
        "y_modelo = b0 + b1 * xph\n",
        "erro = tf.losses.mean_squared_error(yph, y_modelo)"
      ],
      "execution_count": 0,
      "outputs": []
    },
    {
      "cell_type": "markdown",
      "metadata": {
        "id": "XvMPWISTvNjK",
        "colab_type": "text"
      },
      "source": [
        "Criar o otimizador:"
      ]
    },
    {
      "cell_type": "code",
      "metadata": {
        "id": "fHSplnWSvPQ4",
        "colab_type": "code",
        "colab": {}
      },
      "source": [
        "otimizador = tf.train.GradientDescentOptimizer(learning_rate=0.001)"
      ],
      "execution_count": 0,
      "outputs": []
    },
    {
      "cell_type": "markdown",
      "metadata": {
        "id": "e8i1s0iivZWV",
        "colab_type": "text"
      },
      "source": [
        "Variável treinamento:"
      ]
    },
    {
      "cell_type": "code",
      "metadata": {
        "id": "N5tt7D1Mvbd_",
        "colab_type": "code",
        "colab": {}
      },
      "source": [
        "treinamento = otimizador.minimize(erro)"
      ],
      "execution_count": 0,
      "outputs": []
    },
    {
      "cell_type": "markdown",
      "metadata": {
        "id": "NMdFT---vjrp",
        "colab_type": "text"
      },
      "source": [
        "Inicializador das variáveis:"
      ]
    },
    {
      "cell_type": "code",
      "metadata": {
        "id": "27rZAWnuvmc_",
        "colab_type": "code",
        "colab": {}
      },
      "source": [
        "init = tf.global_variables_initializer()"
      ],
      "execution_count": 0,
      "outputs": []
    },
    {
      "cell_type": "markdown",
      "metadata": {
        "id": "AOo9mCOLvuj5",
        "colab_type": "text"
      },
      "source": [
        "Criar a sessão:"
      ]
    },
    {
      "cell_type": "code",
      "metadata": {
        "id": "HTklbQeDvwJC",
        "colab_type": "code",
        "colab": {}
      },
      "source": [
        "with tf.Session() as sess:\n",
        "  sess.run(init)\n",
        "  for i in range(10000):\n",
        "    # preencher os placeholders\n",
        "    # fazer um sorteio dos indices que serão utilizados\n",
        "    # retornará uma lista com 32 índices\n",
        "    indices = np.random.randint(len(x), size=batch_size) # irá selecionar um número entre 0 e 21612\n",
        "    feed = {xph: x[indices], yph: y[indices]}\n",
        "    sess.run(treinamento, feed_dict=feed)\n",
        "  b0_final, b1_final = sess.run([b0, b1])"
      ],
      "execution_count": 0,
      "outputs": []
    },
    {
      "cell_type": "code",
      "metadata": {
        "id": "ZwITxELm39GR",
        "colab_type": "code",
        "colab": {
          "base_uri": "https://localhost:8080/",
          "height": 53
        },
        "outputId": "98d19f4c-806c-4a79-e1a8-fd02ec20e678"
      },
      "source": [
        "print(b0_final)\n",
        "print(b1_final)"
      ],
      "execution_count": 68,
      "outputs": [
        {
          "output_type": "stream",
          "text": [
            "-0.0030732856\n",
            "0.69893813\n"
          ],
          "name": "stdout"
        }
      ]
    },
    {
      "cell_type": "markdown",
      "metadata": {
        "id": "NlRlZI8J4IFQ",
        "colab_type": "text"
      },
      "source": [
        "## Fazendo algumas previsões"
      ]
    },
    {
      "cell_type": "code",
      "metadata": {
        "id": "FQ_pYw6k4L3e",
        "colab_type": "code",
        "colab": {}
      },
      "source": [
        "previsoes = b0_final + b1_final * x"
      ],
      "execution_count": 0,
      "outputs": []
    },
    {
      "cell_type": "code",
      "metadata": {
        "id": "RUWSPzYY4Sz0",
        "colab_type": "code",
        "colab": {
          "base_uri": "https://localhost:8080/",
          "height": 144
        },
        "outputId": "1e9acef9-ba18-479a-fcdb-f99bb5742c45"
      },
      "source": [
        "print(previsoes)"
      ],
      "execution_count": 70,
      "outputs": [
        {
          "output_type": "stream",
          "text": [
            "[[-0.68791734]\n",
            " [ 0.3699041 ]\n",
            " [-0.99993662]\n",
            " ...\n",
            " [-0.80968096]\n",
            " [-0.36828784]\n",
            " [-0.80968096]]\n"
          ],
          "name": "stdout"
        }
      ]
    },
    {
      "cell_type": "code",
      "metadata": {
        "id": "D7Aic57W4XJX",
        "colab_type": "code",
        "colab": {
          "base_uri": "https://localhost:8080/",
          "height": 283
        },
        "outputId": "72947071-2799-459e-f6a7-62dcac0c9405"
      },
      "source": [
        "plt.plot(x, y, 'o')\n",
        "plt.plot(x, previsoes, color='red')"
      ],
      "execution_count": 71,
      "outputs": [
        {
          "output_type": "execute_result",
          "data": {
            "text/plain": [
              "[<matplotlib.lines.Line2D at 0x7f23582592e8>]"
            ]
          },
          "metadata": {
            "tags": []
          },
          "execution_count": 71
        },
        {
          "output_type": "display_data",
          "data": {
            "image/png": "[encoded data removed]",
            "text/plain": [
              "<Figure size 432x288 with 1 Axes>"
            ]
          },
          "metadata": {
            "tags": [],
            "needs_background": "light"
          }
        }
      ]
    },
    {
      "cell_type": "markdown",
      "metadata": {
        "id": "ivS7bpVI4pnb",
        "colab_type": "text"
      },
      "source": [
        "Para termos uma visão melhor de como esse algoritmo está se comportando com relação aos erros:"
      ]
    },
    {
      "cell_type": "code",
      "metadata": {
        "id": "FgM3DpUf4tjY",
        "colab_type": "code",
        "colab": {}
      },
      "source": [
        "y1 = scaler_y.inverse_transform(y)\n",
        "previsoes1 = scaler_y.inverse_transform(previsoes)"
      ],
      "execution_count": 0,
      "outputs": []
    },
    {
      "cell_type": "markdown",
      "metadata": {
        "id": "Fc8ZOzdv5HcB",
        "colab_type": "text"
      },
      "source": [
        "### Cálculo do Mean Absolute Error"
      ]
    },
    {
      "cell_type": "code",
      "metadata": {
        "id": "Vky_5gmR5DjE",
        "colab_type": "code",
        "colab": {
          "base_uri": "https://localhost:8080/",
          "height": 53
        },
        "outputId": "9677b282-178b-4672-ac6f-3b2782d2cfe5"
      },
      "source": [
        "from sklearn.metrics import mean_absolute_error, mean_squared_error\n",
        "mae = mean_absolute_error(y1, previsoes1)\n",
        "mse = mean_squared_error(y1, previsoes1)\n",
        "print(mae)\n",
        "print(mse)"
      ],
      "execution_count": 73,
      "outputs": [
        {
          "output_type": "stream",
          "text": [
            "173392.88201431488\n",
            "68353852434.105515\n"
          ],
          "name": "stdout"
        }
      ]
    }
  ]
}