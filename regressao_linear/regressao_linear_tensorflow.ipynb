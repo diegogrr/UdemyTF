{
  "nbformat": 4,
  "nbformat_minor": 0,
  "metadata": {
    "colab": {
      "name": "regressao_linear_tensorflow.ipynb",
      "provenance": [],
      "collapsed_sections": [],
      "authorship_tag": "ABX9TyOGz7OGr/NtihV51Doq0M//"
    },
    "kernelspec": {
      "name": "python3",
      "display_name": "Python 3"
    }
  },
  "cells": [
    {
      "cell_type": "markdown",
      "metadata": {
        "id": "al1gam9IbsKO",
        "colab_type": "text"
      },
      "source": [
        "# Regressão Linear com TensorFlow"
      ]
    },
    {
      "cell_type": "markdown",
      "metadata": {
        "id": "dsCS-DEPby8P",
        "colab_type": "text"
      },
      "source": [
        "Importar a bilioteca numpy:"
      ]
    },
    {
      "cell_type": "code",
      "metadata": {
        "id": "hlRxwOrDbjsB",
        "colab_type": "code",
        "colab": {}
      },
      "source": [
        "import numpy as np"
      ],
      "execution_count": 0,
      "outputs": []
    },
    {
      "cell_type": "markdown",
      "metadata": {
        "id": "wppfgRaPb8v2",
        "colab_type": "text"
      },
      "source": [
        "Criação das matrizes para armazenar a idade [X] e o valor do plano de saúde [Y]:"
      ]
    },
    {
      "cell_type": "code",
      "metadata": {
        "id": "LEbGGty9b9eF",
        "colab_type": "code",
        "colab": {
          "base_uri": "https://localhost:8080/",
          "height": 199
        },
        "outputId": "eba3ec06-d2b3-4e66-8fa9-97fa9584fc38"
      },
      "source": [
        "X = np.array([[18], [23], [28], [33], [38], [43], [48], [53], [58], [63]])\n",
        "print(X)"
      ],
      "execution_count": 26,
      "outputs": [
        {
          "output_type": "stream",
          "text": [
            "[[18]\n",
            " [23]\n",
            " [28]\n",
            " [33]\n",
            " [38]\n",
            " [43]\n",
            " [48]\n",
            " [53]\n",
            " [58]\n",
            " [63]]\n"
          ],
          "name": "stdout"
        }
      ]
    },
    {
      "cell_type": "code",
      "metadata": {
        "id": "Y8plqAl-cCV2",
        "colab_type": "code",
        "colab": {
          "base_uri": "https://localhost:8080/",
          "height": 199
        },
        "outputId": "b8e2ac21-78c8-4885-8f1d-5e9c13b028e3"
      },
      "source": [
        "Y = np.array([[871], [1132], [1042], [1356], [1488], [1638], [1569], [1754], [1866], [1900]])\n",
        "print(Y)"
      ],
      "execution_count": 27,
      "outputs": [
        {
          "output_type": "stream",
          "text": [
            "[[ 871]\n",
            " [1132]\n",
            " [1042]\n",
            " [1356]\n",
            " [1488]\n",
            " [1638]\n",
            " [1569]\n",
            " [1754]\n",
            " [1866]\n",
            " [1900]]\n"
          ],
          "name": "stdout"
        }
      ]
    },
    {
      "cell_type": "markdown",
      "metadata": {
        "id": "mbluX6crcTqc",
        "colab_type": "text"
      },
      "source": [
        "## Escalonamento dos Valores\n",
        "\n",
        "Procedimento necessário quando se trabalhar com regressão linear com o TensorFlow. O escalonamento é importante para que os valores envolvidos fiquem no mesmo padrão."
      ]
    },
    {
      "cell_type": "code",
      "metadata": {
        "id": "TWQJn4BKcm4X",
        "colab_type": "code",
        "colab": {}
      },
      "source": [
        "from sklearn.preprocessing import StandardScaler\n",
        "scaler_x = StandardScaler()"
      ],
      "execution_count": 0,
      "outputs": []
    },
    {
      "cell_type": "markdown",
      "metadata": {
        "id": "lObjiAIxdrQN",
        "colab_type": "text"
      },
      "source": [
        "Para nós fazermos efetivamente a transformação da variável X para valores escalonados, devemos executar o seguinte código:"
      ]
    },
    {
      "cell_type": "code",
      "metadata": {
        "id": "mv-FeEX-d0FV",
        "colab_type": "code",
        "colab": {
          "base_uri": "https://localhost:8080/",
          "height": 199
        },
        "outputId": "28916f53-8298-4948-fb4c-bd8a6a695823"
      },
      "source": [
        "X = scaler_x.fit_transform(X)\n",
        "print(X)"
      ],
      "execution_count": 29,
      "outputs": [
        {
          "output_type": "stream",
          "text": [
            "[[-1.5666989 ]\n",
            " [-1.21854359]\n",
            " [-0.87038828]\n",
            " [-0.52223297]\n",
            " [-0.17407766]\n",
            " [ 0.17407766]\n",
            " [ 0.52223297]\n",
            " [ 0.87038828]\n",
            " [ 1.21854359]\n",
            " [ 1.5666989 ]]\n"
          ],
          "name": "stdout"
        }
      ]
    },
    {
      "cell_type": "markdown",
      "metadata": {
        "id": "9VS012lceo5v",
        "colab_type": "text"
      },
      "source": [
        "Vamos fazer a mesma coisa para o Y:"
      ]
    },
    {
      "cell_type": "code",
      "metadata": {
        "id": "f0dZnwo5evRf",
        "colab_type": "code",
        "colab": {
          "base_uri": "https://localhost:8080/",
          "height": 199
        },
        "outputId": "c3232097-b25f-4875-91db-0ae1537a4642"
      },
      "source": [
        "scaler_y = StandardScaler()\n",
        "Y = scaler_y.fit_transform(Y)\n",
        "print(Y)"
      ],
      "execution_count": 30,
      "outputs": [
        {
          "output_type": "stream",
          "text": [
            "[[-1.75751985]\n",
            " [-0.98083058]\n",
            " [-1.24865447]\n",
            " [-0.31424669]\n",
            " [ 0.07856167]\n",
            " [ 0.52493481]\n",
            " [ 0.31960317]\n",
            " [ 0.87013004]\n",
            " [ 1.20342199]\n",
            " [ 1.3045999 ]]\n"
          ],
          "name": "stdout"
        }
      ]
    },
    {
      "cell_type": "markdown",
      "metadata": {
        "id": "65jFiZqVfEzM",
        "colab_type": "text"
      },
      "source": [
        "## Visualizar um Gráfico"
      ]
    },
    {
      "cell_type": "markdown",
      "metadata": {
        "id": "TQn7eozCfRXR",
        "colab_type": "text"
      },
      "source": [
        "Importar a bilioteca `matplotlib.pyplot`:"
      ]
    },
    {
      "cell_type": "code",
      "metadata": {
        "id": "Z5bq8bt5fH9N",
        "colab_type": "code",
        "colab": {}
      },
      "source": [
        "import matplotlib.pyplot as plt\n",
        "%matplotlib inline"
      ],
      "execution_count": 0,
      "outputs": []
    },
    {
      "cell_type": "markdown",
      "metadata": {
        "id": "Q_KFKasdfW2c",
        "colab_type": "text"
      },
      "source": [
        "Para plotar o gráfico:"
      ]
    },
    {
      "cell_type": "code",
      "metadata": {
        "id": "dLSWy4etfbw6",
        "colab_type": "code",
        "colab": {
          "base_uri": "https://localhost:8080/",
          "height": 283
        },
        "outputId": "b134b17e-c352-426a-f690-fce71118a3aa"
      },
      "source": [
        "plt.scatter(X, Y)"
      ],
      "execution_count": 32,
      "outputs": [
        {
          "output_type": "execute_result",
          "data": {
            "text/plain": [
              "<matplotlib.collections.PathCollection at 0x7f372516b898>"
            ]
          },
          "metadata": {
            "tags": []
          },
          "execution_count": 32
        },
        {
          "output_type": "display_data",
          "data": {
            "image/png": "[encoded data removed]",
            "text/plain": [
              "<Figure size 432x288 with 1 Axes>"
            ]
          },
          "metadata": {
            "tags": [],
            "needs_background": "light"
          }
        }
      ]
    },
    {
      "cell_type": "markdown",
      "metadata": {
        "id": "rKF8JPZxfoXN",
        "colab_type": "text"
      },
      "source": [
        "Temos a mesma disposição dos pontos que antes do escalonamento, isso porque o escalonamento não apenas coloca o dado em uma escala diferente."
      ]
    },
    {
      "cell_type": "markdown",
      "metadata": {
        "id": "4mnyNKGMgG0p",
        "colab_type": "text"
      },
      "source": [
        "## Fórmula da Regressão Linear Simples\n",
        "\n",
        "Agora nós criaremos a nossa fórmula para regressão linear simples. \n",
        "\n",
        "Y = $b_0$ + $b_1$ * $X_1$\n",
        "\n",
        "Onde:\n",
        "\n",
        "\n",
        "*   Y = previsão de custo;\n",
        "*   $b_0$ = constante, valor inicial;\n",
        "*   $b_1$ = coeficiente, declive da linha;\n",
        "*   $X_1$ = idade.\n",
        "\n",
        "Lembrando que o objetivo é encontrar os valores de $b_0$ e $b_1$."
      ]
    },
    {
      "cell_type": "markdown",
      "metadata": {
        "id": "TnoupO-HhKoD",
        "colab_type": "text"
      },
      "source": [
        "Vamos criar um otimizador que irá encontra esses dois parâmetros. E quando ele executa pela primeira vez, em geral, ele vai inicializar esses dois parâmetros de forma aleatória. E o processo, utilizando a descida do gradiente, consiste em encontrar os valores por meio dos quais se obtém o menor erro possível entre a previsão e os valores reais do plano de saúde."
      ]
    },
    {
      "cell_type": "code",
      "metadata": {
        "id": "nwS9nZ55gCtL",
        "colab_type": "code",
        "colab": {
          "base_uri": "https://localhost:8080/",
          "height": 35
        },
        "outputId": "587424b6-9be4-45b2-f2f0-5fa1d8cdc928"
      },
      "source": [
        "np.random.seed(0) # 0 - para sempre inicializar com os mesmo valores\n",
        "np.random.rand(2)"
      ],
      "execution_count": 33,
      "outputs": [
        {
          "output_type": "execute_result",
          "data": {
            "text/plain": [
              "array([0.5488135 , 0.71518937])"
            ]
          },
          "metadata": {
            "tags": []
          },
          "execution_count": 33
        }
      ]
    },
    {
      "cell_type": "markdown",
      "metadata": {
        "id": "sPbLwAPfiftr",
        "colab_type": "text"
      },
      "source": [
        "Estamos inicializando com esses dois valores, para que você entenda que, internamente, o algoritmo vai utilizar essas funções randômicas para gerar esses dois valores iniciais."
      ]
    },
    {
      "cell_type": "markdown",
      "metadata": {
        "id": "3v5-FC6yi7tF",
        "colab_type": "text"
      },
      "source": [
        "Importar o TensorFlow:"
      ]
    },
    {
      "cell_type": "code",
      "metadata": {
        "id": "qxw16QL3i_tr",
        "colab_type": "code",
        "colab": {
          "base_uri": "https://localhost:8080/",
          "height": 35
        },
        "outputId": "07a9d017-b813-47fa-b861-e8089b4f1f06"
      },
      "source": [
        "#import tensorflow as tf\n",
        "import tensorflow.compat.v1 as tf\n",
        "tf.disable_v2_behavior()\n",
        "tf.__version__"
      ],
      "execution_count": 34,
      "outputs": [
        {
          "output_type": "execute_result",
          "data": {
            "text/plain": [
              "'2.2.0'"
            ]
          },
          "metadata": {
            "tags": []
          },
          "execution_count": 34
        }
      ]
    },
    {
      "cell_type": "markdown",
      "metadata": {
        "id": "fXRNjvjtjUQZ",
        "colab_type": "text"
      },
      "source": [
        "Vamos utilizar variáveis e não constantes, porque nós queremos otimizar estes dois valores."
      ]
    },
    {
      "cell_type": "code",
      "metadata": {
        "id": "2_7QpdNNjG2n",
        "colab_type": "code",
        "colab": {
          "base_uri": "https://localhost:8080/",
          "height": 35
        },
        "outputId": "be55fc50-b36b-4638-e0a8-8564f07b7b05"
      },
      "source": [
        "b0 = tf.Variable(0.54)\n",
        "b1 = tf.Variable(0.71)\n",
        "print(b0)"
      ],
      "execution_count": 35,
      "outputs": [
        {
          "output_type": "stream",
          "text": [
            "<tf.Variable 'Variable_4:0' shape=() dtype=float32_ref>\n"
          ],
          "name": "stdout"
        }
      ]
    },
    {
      "cell_type": "markdown",
      "metadata": {
        "id": "06gR972ckJHt",
        "colab_type": "text"
      },
      "source": [
        "### Cálculo do Erro\n",
        "\n",
        "Iremos utilizar o *Mean Square Error*, para o ajuste dos parâmetros. Para isso, teremos que criar uma fórmula que receba:\n",
        "\n",
        "\n",
        "\n",
        "*   O pacote `losses`: que trata das perdas;\n",
        "*   O método `mean_squared_error()`: para calcular o erro quadrático médio entre os valores reais e os valores previstos. Para calcular os valores previstos, iremos utilizar a fórmula da regressão linear simples.\n",
        "\n"
      ]
    },
    {
      "cell_type": "code",
      "metadata": {
        "id": "Pg_4-viZjRCD",
        "colab_type": "code",
        "colab": {}
      },
      "source": [
        "erro = tf.losses.mean_squared_error(Y,(b0 + b1 * X))"
      ],
      "execution_count": 0,
      "outputs": []
    },
    {
      "cell_type": "markdown",
      "metadata": {
        "id": "93-LvIfxlfBp",
        "colab_type": "text"
      },
      "source": [
        "Para fazermos o treinamento, iremos utilizar a descida do gradiente. Lembrando que se o valor da taxa de aprendizagem for muito pequeno, ele vai demorar mais para chegar no mínimo global, mas se o valor for grande, ele pode não alcançar o melhor valor esperado. Saiba que o mínimo global é o menor valor possível."
      ]
    },
    {
      "cell_type": "code",
      "metadata": {
        "id": "y-nOD6Adlq9J",
        "colab_type": "code",
        "colab": {}
      },
      "source": [
        "otimizador = tf.train.GradientDescentOptimizer(learning_rate=0.001)"
      ],
      "execution_count": 0,
      "outputs": []
    },
    {
      "cell_type": "markdown",
      "metadata": {
        "id": "vQFCYAdzMWVi",
        "colab_type": "text"
      },
      "source": [
        "Treinamento:é uma regressão linear, é você utilizar a descida do gradiente para você encontrar o menor erro possível."
      ]
    },
    {
      "cell_type": "code",
      "metadata": {
        "id": "MQiCHT9MMYGA",
        "colab_type": "code",
        "colab": {}
      },
      "source": [
        "treinamento = otimizador.minimize(erro)"
      ],
      "execution_count": 0,
      "outputs": []
    },
    {
      "cell_type": "markdown",
      "metadata": {
        "id": "ndXSLMpqNkFl",
        "colab_type": "text"
      },
      "source": [
        "Inicializar as variáveis:"
      ]
    },
    {
      "cell_type": "code",
      "metadata": {
        "id": "4DKOCXkRNDgN",
        "colab_type": "code",
        "colab": {}
      },
      "source": [
        "init = tf.global_variables_initializer()"
      ],
      "execution_count": 0,
      "outputs": []
    },
    {
      "cell_type": "markdown",
      "metadata": {
        "id": "meOHEoTLNqY1",
        "colab_type": "text"
      },
      "source": [
        "## Fazer o Treinamento"
      ]
    },
    {
      "cell_type": "code",
      "metadata": {
        "id": "M0c2lCQRNtYa",
        "colab_type": "code",
        "colab": {}
      },
      "source": [
        "with tf.Session() as sess:\n",
        "  sess.run(init)\n",
        "  #print(sess.run(b0))\n",
        "  #print(sess.run(b1))\n",
        "  #definir a quantidade de época que iremos executar esse código\n",
        "  for i in range(1000):\n",
        "    sess.run(treinamento)\n",
        "  b0_final, b1_final = sess.run([b0,b1])"
      ],
      "execution_count": 0,
      "outputs": []
    },
    {
      "cell_type": "code",
      "metadata": {
        "id": "cTKPa-FTO6PY",
        "colab_type": "code",
        "colab": {
          "base_uri": "https://localhost:8080/",
          "height": 35
        },
        "outputId": "8777f2d3-bb8d-4f4a-e39e-8c75c10ed42b"
      },
      "source": [
        "b0_final"
      ],
      "execution_count": 41,
      "outputs": [
        {
          "output_type": "execute_result",
          "data": {
            "text/plain": [
              "0.07293497"
            ]
          },
          "metadata": {
            "tags": []
          },
          "execution_count": 41
        }
      ]
    },
    {
      "cell_type": "code",
      "metadata": {
        "id": "5zq9Km46PF4u",
        "colab_type": "code",
        "colab": {
          "base_uri": "https://localhost:8080/",
          "height": 35
        },
        "outputId": "1539bf17-89de-471b-a932-28cfed28bde8"
      },
      "source": [
        "b1_final"
      ],
      "execution_count": 42,
      "outputs": [
        {
          "output_type": "execute_result",
          "data": {
            "text/plain": [
              "0.9359134"
            ]
          },
          "metadata": {
            "tags": []
          },
          "execution_count": 42
        }
      ]
    },
    {
      "cell_type": "markdown",
      "metadata": {
        "id": "wZkYmVXpPSMz",
        "colab_type": "text"
      },
      "source": [
        "Encontrado os dois parâmetros, agora eu posso fazer classificações."
      ]
    },
    {
      "cell_type": "code",
      "metadata": {
        "id": "xRtCLFdyPWuz",
        "colab_type": "code",
        "colab": {
          "base_uri": "https://localhost:8080/",
          "height": 199
        },
        "outputId": "8dc4cac3-4b46-437d-97d3-5518cc593023"
      },
      "source": [
        "previsoes = b0_final + b1_final * X\n",
        "print(previsoes)"
      ],
      "execution_count": 44,
      "outputs": [
        {
          "output_type": "stream",
          "text": [
            "[[-1.3933595 ]\n",
            " [-1.06751629]\n",
            " [-0.74167307]\n",
            " [-0.41582985]\n",
            " [-0.08998664]\n",
            " [ 0.23585658]\n",
            " [ 0.56169979]\n",
            " [ 0.88754301]\n",
            " [ 1.21338623]\n",
            " [ 1.53922944]]\n"
          ],
          "name": "stdout"
        }
      ]
    },
    {
      "cell_type": "code",
      "metadata": {
        "id": "TtgOzD0fPheU",
        "colab_type": "code",
        "colab": {
          "base_uri": "https://localhost:8080/",
          "height": 35
        },
        "outputId": "191bc1ce-e28d-4054-a8ce-771ce2d1e378"
      },
      "source": [
        "print(type(previsoes))"
      ],
      "execution_count": 45,
      "outputs": [
        {
          "output_type": "stream",
          "text": [
            "<class 'numpy.ndarray'>\n"
          ],
          "name": "stdout"
        }
      ]
    },
    {
      "cell_type": "markdown",
      "metadata": {
        "id": "5f27Lk-0PtBq",
        "colab_type": "text"
      },
      "source": [
        "Como é do tipo \"numpy array\", fica fácil para criar um gráfico."
      ]
    },
    {
      "cell_type": "code",
      "metadata": {
        "id": "ttnIuRz4Pzj1",
        "colab_type": "code",
        "colab": {
          "base_uri": "https://localhost:8080/",
          "height": 283
        },
        "outputId": "fdf89f32-6ce3-42f8-fb5c-049bfb7f4aa4"
      },
      "source": [
        "plt.plot(X, previsoes, color = 'red')\n",
        "plt.plot(X, Y, 'o')"
      ],
      "execution_count": 49,
      "outputs": [
        {
          "output_type": "execute_result",
          "data": {
            "text/plain": [
              "[<matplotlib.lines.Line2D at 0x7f3724c8b7f0>]"
            ]
          },
          "metadata": {
            "tags": []
          },
          "execution_count": 49
        },
        {
          "output_type": "display_data",
          "data": {
            "image/png": "[encoded data removed]",
            "text/plain": [
              "<Figure size 432x288 with 1 Axes>"
            ]
          },
          "metadata": {
            "tags": [],
            "needs_background": "light"
          }
        }
      ]
    },
    {
      "cell_type": "markdown",
      "metadata": {
        "id": "572JzqzyQRng",
        "colab_type": "text"
      },
      "source": [
        "Caso queira fazer uma previsão para uma pessoa que tenha 40 anos:"
      ]
    },
    {
      "cell_type": "code",
      "metadata": {
        "id": "sGHqduxAQWCs",
        "colab_type": "code",
        "colab": {
          "base_uri": "https://localhost:8080/",
          "height": 35
        },
        "outputId": "b33f69a9-8f92-4673-b72d-459f7921d0d7"
      },
      "source": [
        "previsao = b0_final + b1_final * 40\n",
        "previsao"
      ],
      "execution_count": 51,
      "outputs": [
        {
          "output_type": "execute_result",
          "data": {
            "text/plain": [
              "37.50947032868862"
            ]
          },
          "metadata": {
            "tags": []
          },
          "execution_count": 51
        }
      ]
    },
    {
      "cell_type": "markdown",
      "metadata": {
        "id": "X7LktlcWQiDh",
        "colab_type": "text"
      },
      "source": [
        "Esse valor de 37 é estranho, para um valor de plano de saúde. Isso acontece porque o 40 não está escalonado. Nesse caso, precisaremos escalonar o valor 40."
      ]
    },
    {
      "cell_type": "code",
      "metadata": {
        "id": "tnyL3xswQqSb",
        "colab_type": "code",
        "colab": {
          "base_uri": "https://localhost:8080/",
          "height": 35
        },
        "outputId": "f36c7dee-feea-490a-eb4c-66a53ac95fd8"
      },
      "source": [
        "previsao = scaler_y.inverse_transform(b0_final + b1_final * scaler_x.transform([[40]]))\n",
        "print(previsao)"
      ],
      "execution_count": 55,
      "outputs": [
        {
          "output_type": "stream",
          "text": [
            "[[1475.15950152]]\n"
          ],
          "name": "stdout"
        }
      ]
    },
    {
      "cell_type": "markdown",
      "metadata": {
        "id": "k7HLsi12RoI_",
        "colab_type": "text"
      },
      "source": [
        "Processo para desescalonar as variáveis:"
      ]
    },
    {
      "cell_type": "code",
      "metadata": {
        "id": "EVZKegWxR1Fw",
        "colab_type": "code",
        "colab": {
          "base_uri": "https://localhost:8080/",
          "height": 199
        },
        "outputId": "1ae3050e-3dc4-45a2-9696-cb35fa115df4"
      },
      "source": [
        "y1 = scaler_y.inverse_transform(Y)\n",
        "print(y1)"
      ],
      "execution_count": 56,
      "outputs": [
        {
          "output_type": "stream",
          "text": [
            "[[ 871.]\n",
            " [1132.]\n",
            " [1042.]\n",
            " [1356.]\n",
            " [1488.]\n",
            " [1638.]\n",
            " [1569.]\n",
            " [1754.]\n",
            " [1866.]\n",
            " [1900.]]\n"
          ],
          "name": "stdout"
        }
      ]
    },
    {
      "cell_type": "code",
      "metadata": {
        "id": "hCvMVhKmSC0h",
        "colab_type": "code",
        "colab": {
          "base_uri": "https://localhost:8080/",
          "height": 199
        },
        "outputId": "c3bd7c26-96d4-4072-8f4b-9417074a32b9"
      },
      "source": [
        "previsoes1 = scaler_y.inverse_transform(previsoes)\n",
        "print(previsoes1)"
      ],
      "execution_count": 57,
      "outputs": [
        {
          "output_type": "stream",
          "text": [
            "[[ 993.37307127]\n",
            " [1102.86998723]\n",
            " [1212.3669032 ]\n",
            " [1321.86381917]\n",
            " [1431.36073513]\n",
            " [1540.8576511 ]\n",
            " [1650.35456707]\n",
            " [1759.85148303]\n",
            " [1869.348399  ]\n",
            " [1978.84531497]]\n"
          ],
          "name": "stdout"
        }
      ]
    },
    {
      "cell_type": "code",
      "metadata": {
        "id": "WYCiHcEaSd1K",
        "colab_type": "code",
        "colab": {
          "base_uri": "https://localhost:8080/",
          "height": 53
        },
        "outputId": "d8e8ed11-b788-4800-ae68-fc5223bc23cc"
      },
      "source": [
        "from sklearn.metrics import mean_absolute_error, mean_squared_error\n",
        "mae = mean_absolute_error(y1, previsoes1)\n",
        "mse = mean_squared_error(y1, previsoes1)\n",
        "print(mae)\n",
        "print(mse)"
      ],
      "execution_count": 58,
      "outputs": [
        {
          "output_type": "stream",
          "text": [
            "67.91875458994167\n",
            "7153.9129941765395\n"
          ],
          "name": "stdout"
        }
      ]
    }
  ]
}