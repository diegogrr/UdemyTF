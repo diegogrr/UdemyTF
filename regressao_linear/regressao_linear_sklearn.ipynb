{
  "nbformat": 4,
  "nbformat_minor": 0,
  "metadata": {
    "colab": {
      "name": "regressao_linear_sklearn",
      "provenance": [],
      "collapsed_sections": [],
      "authorship_tag": "ABX9TyOeGbErNDfTU/Qy/sgZQs00"
    },
    "kernelspec": {
      "name": "python3",
      "display_name": "Python 3"
    }
  },
  "cells": [
    {
      "cell_type": "markdown",
      "metadata": {
        "id": "YGlC25vo7Sn1",
        "colab_type": "text"
      },
      "source": [
        "# Regressão Linear com Scikit-learn (sklearn)"
      ]
    },
    {
      "cell_type": "code",
      "metadata": {
        "id": "B3m38--o63zg",
        "colab_type": "code",
        "colab": {}
      },
      "source": [
        "import numpy as np"
      ],
      "execution_count": 0,
      "outputs": []
    },
    {
      "cell_type": "markdown",
      "metadata": {
        "id": "SksszZKP9w0v",
        "colab_type": "text"
      },
      "source": [
        "Variável X para armazenar a idade."
      ]
    },
    {
      "cell_type": "code",
      "metadata": {
        "id": "h3gY1E7O9PLn",
        "colab_type": "code",
        "outputId": "68cb11c5-6aa2-48d7-cf47-189b2e2024ab",
        "colab": {
          "base_uri": "https://localhost:8080/",
          "height": 199
        }
      },
      "source": [
        "X = np.array([[18], [23], [28], [33], [38], [43], [48], [53], [58], [63]])\n",
        "print(X)"
      ],
      "execution_count": 44,
      "outputs": [
        {
          "output_type": "stream",
          "text": [
            "[[18]\n",
            " [23]\n",
            " [28]\n",
            " [33]\n",
            " [38]\n",
            " [43]\n",
            " [48]\n",
            " [53]\n",
            " [58]\n",
            " [63]]\n"
          ],
          "name": "stdout"
        }
      ]
    },
    {
      "cell_type": "markdown",
      "metadata": {
        "id": "2ILNJGWH9qIz",
        "colab_type": "text"
      },
      "source": [
        "Vamos criar a variável Y que vai indicar o valor do plano de saúde."
      ]
    },
    {
      "cell_type": "code",
      "metadata": {
        "id": "iJ9imiRa92Rm",
        "colab_type": "code",
        "outputId": "5eb67c22-c5ef-4128-f0a2-993a10ee2340",
        "colab": {
          "base_uri": "https://localhost:8080/",
          "height": 199
        }
      },
      "source": [
        "Y = np.array([[871], [1132], [1042], [1356], [1488], [1638], [1569], [1754], [1866], [1900]])\n",
        "print(Y)"
      ],
      "execution_count": 45,
      "outputs": [
        {
          "output_type": "stream",
          "text": [
            "[[ 871]\n",
            " [1132]\n",
            " [1042]\n",
            " [1356]\n",
            " [1488]\n",
            " [1638]\n",
            " [1569]\n",
            " [1754]\n",
            " [1866]\n",
            " [1900]]\n"
          ],
          "name": "stdout"
        }
      ]
    },
    {
      "cell_type": "markdown",
      "metadata": {
        "id": "hW43gp5u-XmY",
        "colab_type": "text"
      },
      "source": [
        "## Gráfico\n",
        "\n",
        "Importar a bilioteca matplotlib:"
      ]
    },
    {
      "cell_type": "code",
      "metadata": {
        "id": "q16H31__-g3X",
        "colab_type": "code",
        "colab": {}
      },
      "source": [
        "import matplotlib.pyplot as plt\n",
        "# como estamos trabalhando em um notebook, precisamo adicionar o código para fazer o inline\n",
        "%matplotlib inline"
      ],
      "execution_count": 0,
      "outputs": []
    },
    {
      "cell_type": "markdown",
      "metadata": {
        "id": "oUKqjIHg_M6c",
        "colab_type": "text"
      },
      "source": [
        "Vamos agora visualizar um gráfico, para identificar a disposição dos dados."
      ]
    },
    {
      "cell_type": "code",
      "metadata": {
        "id": "WD5RH6w9_RJe",
        "colab_type": "code",
        "outputId": "eec42860-54b9-4b14-8850-6a46103e2854",
        "colab": {
          "base_uri": "https://localhost:8080/",
          "height": 283
        }
      },
      "source": [
        "plt.scatter(X, Y)"
      ],
      "execution_count": 47,
      "outputs": [
        {
          "output_type": "execute_result",
          "data": {
            "text/plain": [
              "<matplotlib.collections.PathCollection at 0x7fb0dfcb1898>"
            ]
          },
          "metadata": {
            "tags": []
          },
          "execution_count": 47
        },
        {
          "output_type": "display_data",
          "data": {
            "image/png": "[encoded data removed]",
            "text/plain": [
              "<Figure size 432x288 with 1 Axes>"
            ]
          },
          "metadata": {
            "tags": [],
            "needs_background": "light"
          }
        }
      ]
    },
    {
      "cell_type": "markdown",
      "metadata": {
        "id": "6uMjWuQ7AFD_",
        "colab_type": "text"
      },
      "source": [
        "Podemos ver que ficar fácil de visualizar uma tendência dos valores. Quanto maior a idade, maior o valor do plano de saúde."
      ]
    },
    {
      "cell_type": "markdown",
      "metadata": {
        "id": "m5Ui3-jrATfn",
        "colab_type": "text"
      },
      "source": [
        "## Modelo de Regressão Linear Simples\n",
        "\n",
        "Y = $b_0$ + $b_1$ * $X_1$\n",
        "\n",
        "Onde:\n",
        "\n",
        "\n",
        "*   Y = previsão de custo;\n",
        "*   $b_0$ = constante, valor inicial;\n",
        "*   $b_1$ = coeficiente, declive da linha;\n",
        "*   $X_1$ = idade.\n",
        "\n",
        "\n",
        "\n"
      ]
    },
    {
      "cell_type": "markdown",
      "metadata": {
        "id": "QfCRagLRAbr0",
        "colab_type": "text"
      },
      "source": [
        "Importação para o SKLearn"
      ]
    },
    {
      "cell_type": "code",
      "metadata": {
        "id": "meybbYicAY8A",
        "colab_type": "code",
        "colab": {}
      },
      "source": [
        "from sklearn.linear_model import LinearRegression\n",
        "regressor = LinearRegression()"
      ],
      "execution_count": 0,
      "outputs": []
    },
    {
      "cell_type": "markdown",
      "metadata": {
        "id": "PsqQnqZMAqkZ",
        "colab_type": "text"
      },
      "source": [
        "Agora, para efetivamente fazer o treinamento:"
      ]
    },
    {
      "cell_type": "code",
      "metadata": {
        "id": "DxAxLnivA1Qn",
        "colab_type": "code",
        "outputId": "e809cc2e-aa0d-40e0-a653-a5dd7b9ae702",
        "colab": {
          "base_uri": "https://localhost:8080/",
          "height": 35
        }
      },
      "source": [
        "regressor.fit(X, Y)"
      ],
      "execution_count": 49,
      "outputs": [
        {
          "output_type": "execute_result",
          "data": {
            "text/plain": [
              "LinearRegression(copy_X=True, fit_intercept=True, n_jobs=None, normalize=False)"
            ]
          },
          "metadata": {
            "tags": []
          },
          "execution_count": 49
        }
      ]
    },
    {
      "cell_type": "markdown",
      "metadata": {
        "id": "REscGYtwBMx9",
        "colab_type": "text"
      },
      "source": [
        "Podemos agora visualizar os coeficientes b0 e b1:\n",
        "\n",
        "Y = $b_0$ + $b_1$ * $X_1$"
      ]
    },
    {
      "cell_type": "code",
      "metadata": {
        "id": "LtI2vZLCBQEW",
        "colab_type": "code",
        "outputId": "0547e20d-bdaa-48f6-acae-4426cd6f5928",
        "colab": {
          "base_uri": "https://localhost:8080/",
          "height": 35
        }
      },
      "source": [
        "# b0 - valor inicial\n",
        "regressor.intercept_"
      ],
      "execution_count": 50,
      "outputs": [
        {
          "output_type": "execute_result",
          "data": {
            "text/plain": [
              "array([541.24363636])"
            ]
          },
          "metadata": {
            "tags": []
          },
          "execution_count": 50
        }
      ]
    },
    {
      "cell_type": "code",
      "metadata": {
        "id": "5ieqY7oaBcDy",
        "colab_type": "code",
        "outputId": "ca0c8615-3222-4468-e288-67d539e1d008",
        "colab": {
          "base_uri": "https://localhost:8080/",
          "height": 35
        }
      },
      "source": [
        "# b1 - declive da linha\n",
        "regressor.coef_"
      ],
      "execution_count": 51,
      "outputs": [
        {
          "output_type": "execute_result",
          "data": {
            "text/plain": [
              "array([[22.72484848]])"
            ]
          },
          "metadata": {
            "tags": []
          },
          "execution_count": 51
        }
      ]
    },
    {
      "cell_type": "markdown",
      "metadata": {
        "id": "QGi8XH8eC50x",
        "colab_type": "text"
      },
      "source": [
        "### Previsão"
      ]
    },
    {
      "cell_type": "markdown",
      "metadata": {
        "id": "fkIt02tgDcO1",
        "colab_type": "text"
      },
      "source": [
        "Formato 1: compondo a equação de regressão linear simples, vista anteriormente."
      ]
    },
    {
      "cell_type": "code",
      "metadata": {
        "id": "7Ti_JWt9C83R",
        "colab_type": "code",
        "outputId": "127ac0b9-0859-4a54-931b-e2394c9dc874",
        "colab": {
          "base_uri": "https://localhost:8080/",
          "height": 35
        }
      },
      "source": [
        "previsao1 = regressor.intercept_ + regressor.coef_ * 40\n",
        "print(previsao1)"
      ],
      "execution_count": 52,
      "outputs": [
        {
          "output_type": "stream",
          "text": [
            "[[1450.23757576]]\n"
          ],
          "name": "stdout"
        }
      ]
    },
    {
      "cell_type": "markdown",
      "metadata": {
        "id": "9LkI2BCiDnCv",
        "colab_type": "text"
      },
      "source": [
        "Formato 2: usando método `.predict()` da bilioteca sklearn."
      ]
    },
    {
      "cell_type": "markdown",
      "metadata": {
        "id": "RCC-KeHmV38z",
        "colab_type": "text"
      },
      "source": [
        "Na hora de informar o valor, coloque entre dois colchetes (matriz), para não dar erro durante a execução."
      ]
    },
    {
      "cell_type": "code",
      "metadata": {
        "id": "VzeFx4dNDwaz",
        "colab_type": "code",
        "outputId": "a0aa676d-980f-4ef9-8b29-8f32e37a9eec",
        "colab": {
          "base_uri": "https://localhost:8080/",
          "height": 35
        }
      },
      "source": [
        "previsao2 = regressor.predict([[40]])\n",
        "print(previsao2)"
      ],
      "execution_count": 53,
      "outputs": [
        {
          "output_type": "stream",
          "text": [
            "[[1450.23757576]]\n"
          ],
          "name": "stdout"
        }
      ]
    },
    {
      "cell_type": "markdown",
      "metadata": {
        "id": "st9CewTiWKuG",
        "colab_type": "text"
      },
      "source": [
        "Se eu quiser previsão para vários registros, basta usar a matriz de dados como parâmetro:"
      ]
    },
    {
      "cell_type": "code",
      "metadata": {
        "id": "5rJ-yaaPWPBD",
        "colab_type": "code",
        "colab": {
          "base_uri": "https://localhost:8080/",
          "height": 199
        },
        "outputId": "917cac53-128d-43fb-8fde-12c70b5230aa"
      },
      "source": [
        "previsoes = regressor.predict(X)\n",
        "print(previsoes)"
      ],
      "execution_count": 54,
      "outputs": [
        {
          "output_type": "stream",
          "text": [
            "[[ 950.29090909]\n",
            " [1063.91515152]\n",
            " [1177.53939394]\n",
            " [1291.16363636]\n",
            " [1404.78787879]\n",
            " [1518.41212121]\n",
            " [1632.03636364]\n",
            " [1745.66060606]\n",
            " [1859.28484848]\n",
            " [1972.90909091]]\n"
          ],
          "name": "stdout"
        }
      ]
    },
    {
      "cell_type": "markdown",
      "metadata": {
        "id": "azUujdLPWhb9",
        "colab_type": "text"
      },
      "source": [
        "Podemos agora comparar conseguir o valor da diferença entre os valores previstos com os valores reais:"
      ]
    },
    {
      "cell_type": "code",
      "metadata": {
        "id": "vsV2d_k7Ws9C",
        "colab_type": "code",
        "colab": {
          "base_uri": "https://localhost:8080/",
          "height": 199
        },
        "outputId": "59eba0d2-84a9-45ba-ff8b-b80b1bea5c9f"
      },
      "source": [
        "resultado = abs(Y - previsoes)\n",
        "print(resultado)"
      ],
      "execution_count": 56,
      "outputs": [
        {
          "output_type": "stream",
          "text": [
            "[[ 79.29090909]\n",
            " [ 68.08484848]\n",
            " [135.53939394]\n",
            " [ 64.83636364]\n",
            " [ 83.21212121]\n",
            " [119.58787879]\n",
            " [ 63.03636364]\n",
            " [  8.33939394]\n",
            " [  6.71515152]\n",
            " [ 72.90909091]]\n"
          ],
          "name": "stdout"
        }
      ]
    },
    {
      "cell_type": "markdown",
      "metadata": {
        "id": "IvlpO0aGXzG7",
        "colab_type": "text"
      },
      "source": [
        "Podemos saber qual a média dessa diferença:\n",
        "\n",
        "*mean absolute error*"
      ]
    },
    {
      "cell_type": "code",
      "metadata": {
        "id": "mOEDKop_X3Ow",
        "colab_type": "code",
        "colab": {
          "base_uri": "https://localhost:8080/",
          "height": 35
        },
        "outputId": "84fa2dce-7121-47bb-deb7-6fc590f54954"
      },
      "source": [
        "print(resultado.mean())"
      ],
      "execution_count": 57,
      "outputs": [
        {
          "output_type": "stream",
          "text": [
            "70.15515151515152\n"
          ],
          "name": "stdout"
        }
      ]
    },
    {
      "cell_type": "markdown",
      "metadata": {
        "id": "n_b5BJ5cYV3D",
        "colab_type": "text"
      },
      "source": [
        "Mas nós não precisamos fazer tudo isso de forma manual, pois o sklearn já possui essas métricas definidas."
      ]
    },
    {
      "cell_type": "code",
      "metadata": {
        "id": "Vi_I0yazYfdg",
        "colab_type": "code",
        "colab": {}
      },
      "source": [
        "from sklearn.metrics import mean_absolute_error, mean_squared_error"
      ],
      "execution_count": 0,
      "outputs": []
    },
    {
      "cell_type": "code",
      "metadata": {
        "id": "ak96qRTCYw5V",
        "colab_type": "code",
        "colab": {}
      },
      "source": [
        "# mae - mean absolute error\n",
        "mae = mean_absolute_error(Y, previsoes)\n",
        "# mse - mean square error\n",
        "mse = mean_squared_error(Y, previsoes)"
      ],
      "execution_count": 0,
      "outputs": []
    },
    {
      "cell_type": "code",
      "metadata": {
        "id": "ko7jFDk-ZIk_",
        "colab_type": "code",
        "colab": {
          "base_uri": "https://localhost:8080/",
          "height": 72
        },
        "outputId": "c9001741-4f06-4c2a-8bb5-2adf7f942355"
      },
      "source": [
        "print(mae)\n",
        "print()\n",
        "print(mse)"
      ],
      "execution_count": 60,
      "outputs": [
        {
          "output_type": "stream",
          "text": [
            "70.15515151515152\n",
            "\n",
            "6412.675151515151\n"
          ],
          "name": "stdout"
        }
      ]
    },
    {
      "cell_type": "markdown",
      "metadata": {
        "id": "CySu4DanZgIy",
        "colab_type": "text"
      },
      "source": [
        "## Gráfico para visualizar o Erro"
      ]
    },
    {
      "cell_type": "code",
      "metadata": {
        "id": "_hCrGbQQZscM",
        "colab_type": "code",
        "colab": {
          "base_uri": "https://localhost:8080/",
          "height": 313
        },
        "outputId": "badf6503-f2c7-4b47-d627-512d42357490"
      },
      "source": [
        "plt.plot(X, Y, 'o') # 'o' - usar bolinhas\n",
        "plt.plot(X, previsoes, color='red')\n",
        "# adicionar algumas personalizações\n",
        "plt.title('Regressão linear simples')\n",
        "plt.xlabel('Idade')\n",
        "plt.ylabel('Custo')"
      ],
      "execution_count": 66,
      "outputs": [
        {
          "output_type": "execute_result",
          "data": {
            "text/plain": [
              "Text(0, 0.5, 'Custo')"
            ]
          },
          "metadata": {
            "tags": []
          },
          "execution_count": 66
        },
        {
          "output_type": "display_data",
          "data": {
            "image/png": "[encoded data removed]",
            "text/plain": [
              "<Figure size 432x288 with 1 Axes>"
            ]
          },
          "metadata": {
            "tags": [],
            "needs_background": "light"
          }
        }
      ]
    }
  ]
}