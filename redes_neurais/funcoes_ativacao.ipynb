{
  "nbformat": 4,
  "nbformat_minor": 0,
  "metadata": {
    "colab": {
      "name": "funcoes_ativacao.ipynb",
      "provenance": [],
      "collapsed_sections": [],
      "authorship_tag": "ABX9TyNqYe/Pj7kl5pFa+j7YRxEe"
    },
    "kernelspec": {
      "name": "python3",
      "display_name": "Python 3"
    }
  },
  "cells": [
    {
      "cell_type": "markdown",
      "metadata": {
        "id": "51Ga9XbSzPKF",
        "colab_type": "text"
      },
      "source": [
        "# Funções de Ativação\n",
        "\n",
        "Também conhecida como *transfer function*, porque ela efetivamente vai fazer uma transferência do valor do neurônio para saber se ele foi ou não ativado."
      ]
    },
    {
      "cell_type": "code",
      "metadata": {
        "id": "xuuvx9uwzGnD",
        "colab_type": "code",
        "colab": {}
      },
      "source": [
        "import numpy as np\n",
        "import matplotlib.pyplot as plt"
      ],
      "execution_count": 0,
      "outputs": []
    },
    {
      "cell_type": "markdown",
      "metadata": {
        "id": "BJICR2YK-iHi",
        "colab_type": "text"
      },
      "source": [
        "Valores do eixo x para testar as funções:"
      ]
    },
    {
      "cell_type": "code",
      "metadata": {
        "id": "oEE-g4x_-nC2",
        "colab_type": "code",
        "colab": {
          "base_uri": "https://localhost:8080/",
          "height": 345
        },
        "outputId": "1e9c190d-d246-4420-f569-c8f84992c655"
      },
      "source": [
        "x = np.linspace(-10, 10, num=201)\n",
        "print(type(x))\n",
        "print(x)"
      ],
      "execution_count": 32,
      "outputs": [
        {
          "output_type": "stream",
          "text": [
            "<class 'numpy.ndarray'>\n",
            "[-10.   -9.9  -9.8  -9.7  -9.6  -9.5  -9.4  -9.3  -9.2  -9.1  -9.   -8.9\n",
            "  -8.8  -8.7  -8.6  -8.5  -8.4  -8.3  -8.2  -8.1  -8.   -7.9  -7.8  -7.7\n",
            "  -7.6  -7.5  -7.4  -7.3  -7.2  -7.1  -7.   -6.9  -6.8  -6.7  -6.6  -6.5\n",
            "  -6.4  -6.3  -6.2  -6.1  -6.   -5.9  -5.8  -5.7  -5.6  -5.5  -5.4  -5.3\n",
            "  -5.2  -5.1  -5.   -4.9  -4.8  -4.7  -4.6  -4.5  -4.4  -4.3  -4.2  -4.1\n",
            "  -4.   -3.9  -3.8  -3.7  -3.6  -3.5  -3.4  -3.3  -3.2  -3.1  -3.   -2.9\n",
            "  -2.8  -2.7  -2.6  -2.5  -2.4  -2.3  -2.2  -2.1  -2.   -1.9  -1.8  -1.7\n",
            "  -1.6  -1.5  -1.4  -1.3  -1.2  -1.1  -1.   -0.9  -0.8  -0.7  -0.6  -0.5\n",
            "  -0.4  -0.3  -0.2  -0.1   0.    0.1   0.2   0.3   0.4   0.5   0.6   0.7\n",
            "   0.8   0.9   1.    1.1   1.2   1.3   1.4   1.5   1.6   1.7   1.8   1.9\n",
            "   2.    2.1   2.2   2.3   2.4   2.5   2.6   2.7   2.8   2.9   3.    3.1\n",
            "   3.2   3.3   3.4   3.5   3.6   3.7   3.8   3.9   4.    4.1   4.2   4.3\n",
            "   4.4   4.5   4.6   4.7   4.8   4.9   5.    5.1   5.2   5.3   5.4   5.5\n",
            "   5.6   5.7   5.8   5.9   6.    6.1   6.2   6.3   6.4   6.5   6.6   6.7\n",
            "   6.8   6.9   7.    7.1   7.2   7.3   7.4   7.5   7.6   7.7   7.8   7.9\n",
            "   8.    8.1   8.2   8.3   8.4   8.5   8.6   8.7   8.8   8.9   9.    9.1\n",
            "   9.2   9.3   9.4   9.5   9.6   9.7   9.8   9.9  10. ]\n"
          ],
          "name": "stdout"
        }
      ]
    },
    {
      "cell_type": "markdown",
      "metadata": {
        "id": "hnjL_KY20nk8",
        "colab_type": "text"
      },
      "source": [
        "## StepFunction [função degrau/função de limiar]\n",
        "\n",
        "\n",
        "$\\varphi$ (soma)\n",
        "*   1 se soma >= 0;\n",
        "*   0 se soma < 0;\n",
        "\n",
        "Essa definição descreve a propriedade tudo-ou-nada da definição do modelo de McCulloch-Pitts(1943).\n"
      ]
    },
    {
      "cell_type": "code",
      "metadata": {
        "id": "VFQQ4O0m0T80",
        "colab_type": "code",
        "colab": {}
      },
      "source": [
        "def stepFunction(soma):\n",
        "  if (soma >= 0):\n",
        "    return 1\n",
        "  else:\n",
        "    return 0"
      ],
      "execution_count": 0,
      "outputs": []
    },
    {
      "cell_type": "markdown",
      "metadata": {
        "id": "AOZsA0vn4jeX",
        "colab_type": "text"
      },
      "source": [
        "Testando a função `stepFunction`:"
      ]
    },
    {
      "cell_type": "code",
      "metadata": {
        "id": "NZCiWNbg4opA",
        "colab_type": "code",
        "colab": {
          "base_uri": "https://localhost:8080/",
          "height": 53
        },
        "outputId": "dae53c5a-0d42-433b-f0e8-401a57e6edd0"
      },
      "source": [
        "print(stepFunction(30))\n",
        "print(stepFunction(-30))"
      ],
      "execution_count": 5,
      "outputs": [
        {
          "output_type": "stream",
          "text": [
            "1\n",
            "0\n"
          ],
          "name": "stdout"
        }
      ]
    },
    {
      "cell_type": "markdown",
      "metadata": {
        "id": "1jotfYv3_eiT",
        "colab_type": "text"
      },
      "source": [
        "### Gráfico"
      ]
    },
    {
      "cell_type": "code",
      "metadata": {
        "id": "_rauh4MK_hdR",
        "colab_type": "code",
        "colab": {
          "base_uri": "https://localhost:8080/",
          "height": 283
        },
        "outputId": "6939431b-73e2-43b4-cd04-8758912fd623"
      },
      "source": [
        "y_step = []\n",
        "for c in x:\n",
        "  y_step.append(stepFunction(c))\n",
        "plt.plot(x,y_step)"
      ],
      "execution_count": 36,
      "outputs": [
        {
          "output_type": "execute_result",
          "data": {
            "text/plain": [
              "[<matplotlib.lines.Line2D at 0x7fd4c13f69b0>]"
            ]
          },
          "metadata": {
            "tags": []
          },
          "execution_count": 36
        },
        {
          "output_type": "display_data",
          "data": {
            "image/png": "[encoded data removed]",
            "text/plain": [
              "<Figure size 432x288 with 1 Axes>"
            ]
          },
          "metadata": {
            "tags": [],
            "needs_background": "light"
          }
        }
      ]
    },
    {
      "cell_type": "markdown",
      "metadata": {
        "id": "FKGYoOhP43Nq",
        "colab_type": "text"
      },
      "source": [
        "## Sigmoid Function [Função Sigmóide]\n",
        "\n",
        "A função sigmóide, cujo gráfico tem a forma de s, é de longe a forma mais comum de função de ativação utilizada na construção de RNA.\n",
        "Retorna valores entre 0 e 1.\n",
        "\n",
        "Note que a função sigmóide é diferenciável, enquanto que a função de limiar não o é. Diferenciabilidade é uma característica importante da teoria de RN."
      ]
    },
    {
      "cell_type": "code",
      "metadata": {
        "id": "RXJWX-974-cU",
        "colab_type": "code",
        "colab": {}
      },
      "source": [
        "def sigmoidFunction(soma):\n",
        "  return 1 / (1 + np.exp(-soma))"
      ],
      "execution_count": 0,
      "outputs": []
    },
    {
      "cell_type": "markdown",
      "metadata": {
        "id": "URBoxc_P5WnK",
        "colab_type": "text"
      },
      "source": [
        "Testando a função `sigmoidFunction`:"
      ]
    },
    {
      "cell_type": "code",
      "metadata": {
        "id": "eIqNRzKL5cUP",
        "colab_type": "code",
        "colab": {
          "base_uri": "https://localhost:8080/",
          "height": 144
        },
        "outputId": "884be4ed-532f-4d87-8894-7c3e2d334b6a"
      },
      "source": [
        "print(sigmoidFunction(-2))\n",
        "print(sigmoidFunction(-1))\n",
        "print(sigmoidFunction(-0.5))\n",
        "print(sigmoidFunction(0))\n",
        "print(sigmoidFunction(0.5))\n",
        "print(sigmoidFunction(1))\n",
        "print(sigmoidFunction(2))"
      ],
      "execution_count": 13,
      "outputs": [
        {
          "output_type": "stream",
          "text": [
            "0.11920292202211755\n",
            "0.2689414213699951\n",
            "0.3775406687981454\n",
            "0.5\n",
            "0.6224593312018546\n",
            "0.7310585786300049\n",
            "0.8807970779778823\n"
          ],
          "name": "stdout"
        }
      ]
    },
    {
      "cell_type": "markdown",
      "metadata": {
        "id": "VmL3cS1ZB4cX",
        "colab_type": "text"
      },
      "source": [
        "### Gráfico"
      ]
    },
    {
      "cell_type": "code",
      "metadata": {
        "id": "H8nIWXa9B6vs",
        "colab_type": "code",
        "colab": {
          "base_uri": "https://localhost:8080/",
          "height": 283
        },
        "outputId": "acc70bcb-e77a-4017-b635-42168f5a6bd3"
      },
      "source": [
        "y = []\n",
        "for c in x:\n",
        "  y.append(sigmoidFunction(c))\n",
        "plt.plot(x,y)"
      ],
      "execution_count": 34,
      "outputs": [
        {
          "output_type": "execute_result",
          "data": {
            "text/plain": [
              "[<matplotlib.lines.Line2D at 0x7fd4c14a29e8>]"
            ]
          },
          "metadata": {
            "tags": []
          },
          "execution_count": 34
        },
        {
          "output_type": "display_data",
          "data": {
            "image/png": "[encoded data removed]",
            "text/plain": [
              "<Figure size 432x288 with 1 Axes>"
            ]
          },
          "metadata": {
            "tags": [],
            "needs_background": "light"
          }
        }
      ]
    },
    {
      "cell_type": "markdown",
      "metadata": {
        "id": "b7rvSie88hNJ",
        "colab_type": "text"
      },
      "source": [
        "## Hyperbolic Tanget [Tangente Hiperbólica]\n",
        "\n",
        "Algumas vezes é desejável que a função de ativação se estenda de -1 a +1, assumindo neste caso uma forma anti-simétrica em relação à origem; isto é, a função de ativação é uma função ímpardo campo local induzido.\n",
        "\n",
        "\n",
        "Retorna valores entre -1 e +1."
      ]
    },
    {
      "cell_type": "code",
      "metadata": {
        "id": "509ffJkB8nsi",
        "colab_type": "code",
        "colab": {}
      },
      "source": [
        "def hyperbolicTangetFunction(soma):\n",
        "  return (np.exp(soma) - np.exp(-soma)) / (np.exp(soma) + np.exp(-soma))"
      ],
      "execution_count": 0,
      "outputs": []
    },
    {
      "cell_type": "markdown",
      "metadata": {
        "id": "R2JJ5xWQ9D5a",
        "colab_type": "text"
      },
      "source": [
        "Testando a função `hyperbolicTangetFunction`:"
      ]
    },
    {
      "cell_type": "code",
      "metadata": {
        "id": "lncIRoZ59QH1",
        "colab_type": "code",
        "colab": {
          "base_uri": "https://localhost:8080/",
          "height": 217
        },
        "outputId": "c146d200-9993-4776-8cf3-7b6ecbca8109"
      },
      "source": [
        "print(hyperbolicTangetFunction(-4))\n",
        "print(hyperbolicTangetFunction(-3))\n",
        "print(hyperbolicTangetFunction(-2))\n",
        "print(hyperbolicTangetFunction(-1))\n",
        "print(hyperbolicTangetFunction(-0.5))\n",
        "print(hyperbolicTangetFunction(0))\n",
        "print(hyperbolicTangetFunction(0.5))\n",
        "print(hyperbolicTangetFunction(1))\n",
        "print(hyperbolicTangetFunction(2))\n",
        "print(hyperbolicTangetFunction(3))\n",
        "print(hyperbolicTangetFunction(4))"
      ],
      "execution_count": 15,
      "outputs": [
        {
          "output_type": "stream",
          "text": [
            "-0.9993292997390669\n",
            "-0.9950547536867306\n",
            "-0.964027580075817\n",
            "-0.7615941559557649\n",
            "-0.4621171572600098\n",
            "0.0\n",
            "0.4621171572600098\n",
            "0.7615941559557649\n",
            "0.964027580075817\n",
            "0.9950547536867306\n",
            "0.9993292997390669\n"
          ],
          "name": "stdout"
        }
      ]
    },
    {
      "cell_type": "markdown",
      "metadata": {
        "id": "w8QxyRK0CCNg",
        "colab_type": "text"
      },
      "source": [
        "### Gráfico"
      ]
    },
    {
      "cell_type": "code",
      "metadata": {
        "id": "nSOBG54HCEq5",
        "colab_type": "code",
        "colab": {
          "base_uri": "https://localhost:8080/",
          "height": 283
        },
        "outputId": "f02e8b19-92c3-4287-bfc9-91a9a3c66919"
      },
      "source": [
        "y = []\n",
        "for c in x:\n",
        "  y.append(hyperbolicTangetFunction(c))\n",
        "plt.plot(x,y)"
      ],
      "execution_count": 35,
      "outputs": [
        {
          "output_type": "execute_result",
          "data": {
            "text/plain": [
              "[<matplotlib.lines.Line2D at 0x7fd4c15e98d0>]"
            ]
          },
          "metadata": {
            "tags": []
          },
          "execution_count": 35
        },
        {
          "output_type": "display_data",
          "data": {
            "image/png": "[encoded data removed]",
            "text/plain": [
              "<Figure size 432x288 with 1 Axes>"
            ]
          },
          "metadata": {
            "tags": [],
            "needs_background": "light"
          }
        }
      ]
    }
  ]
}